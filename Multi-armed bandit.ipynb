{
  "nbformat": 4,
  "nbformat_minor": 0,
  "metadata": {
    "colab": {
      "provenance": [],
      "collapsed_sections": [
        "qE7NYfkJ5BnI",
        "fnpGA0F19YOw",
        "giwXZJkL84SQ",
        "jr6SBuoJ_4Lg",
        "8xGgpVSmCdCf",
        "2-mG3nDvDghW"
      ]
    },
    "kernelspec": {
      "name": "python3",
      "display_name": "Python 3"
    },
    "language_info": {
      "name": "python"
    },
    "widgets": {
      "application/vnd.jupyter.widget-state+json": {
        "9b4ba43ba6ac4a60a1954fffe8ce9d7c": {
          "model_module": "@jupyter-widgets/controls",
          "model_name": "HBoxModel",
          "model_module_version": "1.5.0",
          "state": {
            "_dom_classes": [],
            "_model_module": "@jupyter-widgets/controls",
            "_model_module_version": "1.5.0",
            "_model_name": "HBoxModel",
            "_view_count": null,
            "_view_module": "@jupyter-widgets/controls",
            "_view_module_version": "1.5.0",
            "_view_name": "HBoxView",
            "box_style": "",
            "children": [
              "IPY_MODEL_d6e22cbd76ad4848b72a5ae5c6a41816",
              "IPY_MODEL_646fc17c68854b97a8c8310cd8728a18",
              "IPY_MODEL_02e533cdb8954f29b001624e798f1944"
            ],
            "layout": "IPY_MODEL_88ee07cbeb3549268989ceca936513ed"
          }
        },
        "d6e22cbd76ad4848b72a5ae5c6a41816": {
          "model_module": "@jupyter-widgets/controls",
          "model_name": "HTMLModel",
          "model_module_version": "1.5.0",
          "state": {
            "_dom_classes": [],
            "_model_module": "@jupyter-widgets/controls",
            "_model_module_version": "1.5.0",
            "_model_name": "HTMLModel",
            "_view_count": null,
            "_view_module": "@jupyter-widgets/controls",
            "_view_module_version": "1.5.0",
            "_view_name": "HTMLView",
            "description": "",
            "description_tooltip": null,
            "layout": "IPY_MODEL_e94fc3ce2596432b91657c2d65421de2",
            "placeholder": "​",
            "style": "IPY_MODEL_6f08bde82e2d40cab6be051217a84a19",
            "value": "100%"
          }
        },
        "646fc17c68854b97a8c8310cd8728a18": {
          "model_module": "@jupyter-widgets/controls",
          "model_name": "FloatProgressModel",
          "model_module_version": "1.5.0",
          "state": {
            "_dom_classes": [],
            "_model_module": "@jupyter-widgets/controls",
            "_model_module_version": "1.5.0",
            "_model_name": "FloatProgressModel",
            "_view_count": null,
            "_view_module": "@jupyter-widgets/controls",
            "_view_module_version": "1.5.0",
            "_view_name": "ProgressView",
            "bar_style": "success",
            "description": "",
            "description_tooltip": null,
            "layout": "IPY_MODEL_6f6741ef808d40969e16a24dab6ff9bb",
            "max": 1000,
            "min": 0,
            "orientation": "horizontal",
            "style": "IPY_MODEL_1a2e0c07b3524a8980ee6865f95ca4b2",
            "value": 1000
          }
        },
        "02e533cdb8954f29b001624e798f1944": {
          "model_module": "@jupyter-widgets/controls",
          "model_name": "HTMLModel",
          "model_module_version": "1.5.0",
          "state": {
            "_dom_classes": [],
            "_model_module": "@jupyter-widgets/controls",
            "_model_module_version": "1.5.0",
            "_model_name": "HTMLModel",
            "_view_count": null,
            "_view_module": "@jupyter-widgets/controls",
            "_view_module_version": "1.5.0",
            "_view_name": "HTMLView",
            "description": "",
            "description_tooltip": null,
            "layout": "IPY_MODEL_3b14eaad268547da9294d30fc468dbfc",
            "placeholder": "​",
            "style": "IPY_MODEL_6b6243cac9cd4f849f032478ed520afc",
            "value": " 1000/1000 [00:49&lt;00:00, 19.37it/s]"
          }
        },
        "88ee07cbeb3549268989ceca936513ed": {
          "model_module": "@jupyter-widgets/base",
          "model_name": "LayoutModel",
          "model_module_version": "1.2.0",
          "state": {
            "_model_module": "@jupyter-widgets/base",
            "_model_module_version": "1.2.0",
            "_model_name": "LayoutModel",
            "_view_count": null,
            "_view_module": "@jupyter-widgets/base",
            "_view_module_version": "1.2.0",
            "_view_name": "LayoutView",
            "align_content": null,
            "align_items": null,
            "align_self": null,
            "border": null,
            "bottom": null,
            "display": null,
            "flex": null,
            "flex_flow": null,
            "grid_area": null,
            "grid_auto_columns": null,
            "grid_auto_flow": null,
            "grid_auto_rows": null,
            "grid_column": null,
            "grid_gap": null,
            "grid_row": null,
            "grid_template_areas": null,
            "grid_template_columns": null,
            "grid_template_rows": null,
            "height": null,
            "justify_content": null,
            "justify_items": null,
            "left": null,
            "margin": null,
            "max_height": null,
            "max_width": null,
            "min_height": null,
            "min_width": null,
            "object_fit": null,
            "object_position": null,
            "order": null,
            "overflow": null,
            "overflow_x": null,
            "overflow_y": null,
            "padding": null,
            "right": null,
            "top": null,
            "visibility": null,
            "width": null
          }
        },
        "e94fc3ce2596432b91657c2d65421de2": {
          "model_module": "@jupyter-widgets/base",
          "model_name": "LayoutModel",
          "model_module_version": "1.2.0",
          "state": {
            "_model_module": "@jupyter-widgets/base",
            "_model_module_version": "1.2.0",
            "_model_name": "LayoutModel",
            "_view_count": null,
            "_view_module": "@jupyter-widgets/base",
            "_view_module_version": "1.2.0",
            "_view_name": "LayoutView",
            "align_content": null,
            "align_items": null,
            "align_self": null,
            "border": null,
            "bottom": null,
            "display": null,
            "flex": null,
            "flex_flow": null,
            "grid_area": null,
            "grid_auto_columns": null,
            "grid_auto_flow": null,
            "grid_auto_rows": null,
            "grid_column": null,
            "grid_gap": null,
            "grid_row": null,
            "grid_template_areas": null,
            "grid_template_columns": null,
            "grid_template_rows": null,
            "height": null,
            "justify_content": null,
            "justify_items": null,
            "left": null,
            "margin": null,
            "max_height": null,
            "max_width": null,
            "min_height": null,
            "min_width": null,
            "object_fit": null,
            "object_position": null,
            "order": null,
            "overflow": null,
            "overflow_x": null,
            "overflow_y": null,
            "padding": null,
            "right": null,
            "top": null,
            "visibility": null,
            "width": null
          }
        },
        "6f08bde82e2d40cab6be051217a84a19": {
          "model_module": "@jupyter-widgets/controls",
          "model_name": "DescriptionStyleModel",
          "model_module_version": "1.5.0",
          "state": {
            "_model_module": "@jupyter-widgets/controls",
            "_model_module_version": "1.5.0",
            "_model_name": "DescriptionStyleModel",
            "_view_count": null,
            "_view_module": "@jupyter-widgets/base",
            "_view_module_version": "1.2.0",
            "_view_name": "StyleView",
            "description_width": ""
          }
        },
        "6f6741ef808d40969e16a24dab6ff9bb": {
          "model_module": "@jupyter-widgets/base",
          "model_name": "LayoutModel",
          "model_module_version": "1.2.0",
          "state": {
            "_model_module": "@jupyter-widgets/base",
            "_model_module_version": "1.2.0",
            "_model_name": "LayoutModel",
            "_view_count": null,
            "_view_module": "@jupyter-widgets/base",
            "_view_module_version": "1.2.0",
            "_view_name": "LayoutView",
            "align_content": null,
            "align_items": null,
            "align_self": null,
            "border": null,
            "bottom": null,
            "display": null,
            "flex": null,
            "flex_flow": null,
            "grid_area": null,
            "grid_auto_columns": null,
            "grid_auto_flow": null,
            "grid_auto_rows": null,
            "grid_column": null,
            "grid_gap": null,
            "grid_row": null,
            "grid_template_areas": null,
            "grid_template_columns": null,
            "grid_template_rows": null,
            "height": null,
            "justify_content": null,
            "justify_items": null,
            "left": null,
            "margin": null,
            "max_height": null,
            "max_width": null,
            "min_height": null,
            "min_width": null,
            "object_fit": null,
            "object_position": null,
            "order": null,
            "overflow": null,
            "overflow_x": null,
            "overflow_y": null,
            "padding": null,
            "right": null,
            "top": null,
            "visibility": null,
            "width": null
          }
        },
        "1a2e0c07b3524a8980ee6865f95ca4b2": {
          "model_module": "@jupyter-widgets/controls",
          "model_name": "ProgressStyleModel",
          "model_module_version": "1.5.0",
          "state": {
            "_model_module": "@jupyter-widgets/controls",
            "_model_module_version": "1.5.0",
            "_model_name": "ProgressStyleModel",
            "_view_count": null,
            "_view_module": "@jupyter-widgets/base",
            "_view_module_version": "1.2.0",
            "_view_name": "StyleView",
            "bar_color": null,
            "description_width": ""
          }
        },
        "3b14eaad268547da9294d30fc468dbfc": {
          "model_module": "@jupyter-widgets/base",
          "model_name": "LayoutModel",
          "model_module_version": "1.2.0",
          "state": {
            "_model_module": "@jupyter-widgets/base",
            "_model_module_version": "1.2.0",
            "_model_name": "LayoutModel",
            "_view_count": null,
            "_view_module": "@jupyter-widgets/base",
            "_view_module_version": "1.2.0",
            "_view_name": "LayoutView",
            "align_content": null,
            "align_items": null,
            "align_self": null,
            "border": null,
            "bottom": null,
            "display": null,
            "flex": null,
            "flex_flow": null,
            "grid_area": null,
            "grid_auto_columns": null,
            "grid_auto_flow": null,
            "grid_auto_rows": null,
            "grid_column": null,
            "grid_gap": null,
            "grid_row": null,
            "grid_template_areas": null,
            "grid_template_columns": null,
            "grid_template_rows": null,
            "height": null,
            "justify_content": null,
            "justify_items": null,
            "left": null,
            "margin": null,
            "max_height": null,
            "max_width": null,
            "min_height": null,
            "min_width": null,
            "object_fit": null,
            "object_position": null,
            "order": null,
            "overflow": null,
            "overflow_x": null,
            "overflow_y": null,
            "padding": null,
            "right": null,
            "top": null,
            "visibility": null,
            "width": null
          }
        },
        "6b6243cac9cd4f849f032478ed520afc": {
          "model_module": "@jupyter-widgets/controls",
          "model_name": "DescriptionStyleModel",
          "model_module_version": "1.5.0",
          "state": {
            "_model_module": "@jupyter-widgets/controls",
            "_model_module_version": "1.5.0",
            "_model_name": "DescriptionStyleModel",
            "_view_count": null,
            "_view_module": "@jupyter-widgets/base",
            "_view_module_version": "1.2.0",
            "_view_name": "StyleView",
            "description_width": ""
          }
        },
        "a894ec89b4604b2c843fdda09dfba5ba": {
          "model_module": "@jupyter-widgets/controls",
          "model_name": "HBoxModel",
          "model_module_version": "1.5.0",
          "state": {
            "_dom_classes": [],
            "_model_module": "@jupyter-widgets/controls",
            "_model_module_version": "1.5.0",
            "_model_name": "HBoxModel",
            "_view_count": null,
            "_view_module": "@jupyter-widgets/controls",
            "_view_module_version": "1.5.0",
            "_view_name": "HBoxView",
            "box_style": "",
            "children": [
              "IPY_MODEL_f50bdd761bbe4ef3b6572bc474f2a400",
              "IPY_MODEL_4b00ed8e7f7d4f4885ace4aeeefb5239",
              "IPY_MODEL_98bee95528244664803fd09e9218b110"
            ],
            "layout": "IPY_MODEL_2e71d7eae8e74e9d8029728aa829bbb5"
          }
        },
        "f50bdd761bbe4ef3b6572bc474f2a400": {
          "model_module": "@jupyter-widgets/controls",
          "model_name": "HTMLModel",
          "model_module_version": "1.5.0",
          "state": {
            "_dom_classes": [],
            "_model_module": "@jupyter-widgets/controls",
            "_model_module_version": "1.5.0",
            "_model_name": "HTMLModel",
            "_view_count": null,
            "_view_module": "@jupyter-widgets/controls",
            "_view_module_version": "1.5.0",
            "_view_name": "HTMLView",
            "description": "",
            "description_tooltip": null,
            "layout": "IPY_MODEL_d25458ca2a8048d5ac2564f69268f15a",
            "placeholder": "​",
            "style": "IPY_MODEL_20dd714db2b7454b95e3f6f26713718a",
            "value": "100%"
          }
        },
        "4b00ed8e7f7d4f4885ace4aeeefb5239": {
          "model_module": "@jupyter-widgets/controls",
          "model_name": "FloatProgressModel",
          "model_module_version": "1.5.0",
          "state": {
            "_dom_classes": [],
            "_model_module": "@jupyter-widgets/controls",
            "_model_module_version": "1.5.0",
            "_model_name": "FloatProgressModel",
            "_view_count": null,
            "_view_module": "@jupyter-widgets/controls",
            "_view_module_version": "1.5.0",
            "_view_name": "ProgressView",
            "bar_style": "success",
            "description": "",
            "description_tooltip": null,
            "layout": "IPY_MODEL_45d4be59a4ef40efb9596221137d657d",
            "max": 1000,
            "min": 0,
            "orientation": "horizontal",
            "style": "IPY_MODEL_9501f460fec64c888ff7131cbdd8539b",
            "value": 1000
          }
        },
        "98bee95528244664803fd09e9218b110": {
          "model_module": "@jupyter-widgets/controls",
          "model_name": "HTMLModel",
          "model_module_version": "1.5.0",
          "state": {
            "_dom_classes": [],
            "_model_module": "@jupyter-widgets/controls",
            "_model_module_version": "1.5.0",
            "_model_name": "HTMLModel",
            "_view_count": null,
            "_view_module": "@jupyter-widgets/controls",
            "_view_module_version": "1.5.0",
            "_view_name": "HTMLView",
            "description": "",
            "description_tooltip": null,
            "layout": "IPY_MODEL_5572d5630d234d2bbefe3a75e4a661c9",
            "placeholder": "​",
            "style": "IPY_MODEL_3336e58576c74dfbbb55e3fd62d9e869",
            "value": " 1000/1000 [00:00&lt;00:00, 1960.61it/s]"
          }
        },
        "2e71d7eae8e74e9d8029728aa829bbb5": {
          "model_module": "@jupyter-widgets/base",
          "model_name": "LayoutModel",
          "model_module_version": "1.2.0",
          "state": {
            "_model_module": "@jupyter-widgets/base",
            "_model_module_version": "1.2.0",
            "_model_name": "LayoutModel",
            "_view_count": null,
            "_view_module": "@jupyter-widgets/base",
            "_view_module_version": "1.2.0",
            "_view_name": "LayoutView",
            "align_content": null,
            "align_items": null,
            "align_self": null,
            "border": null,
            "bottom": null,
            "display": null,
            "flex": null,
            "flex_flow": null,
            "grid_area": null,
            "grid_auto_columns": null,
            "grid_auto_flow": null,
            "grid_auto_rows": null,
            "grid_column": null,
            "grid_gap": null,
            "grid_row": null,
            "grid_template_areas": null,
            "grid_template_columns": null,
            "grid_template_rows": null,
            "height": null,
            "justify_content": null,
            "justify_items": null,
            "left": null,
            "margin": null,
            "max_height": null,
            "max_width": null,
            "min_height": null,
            "min_width": null,
            "object_fit": null,
            "object_position": null,
            "order": null,
            "overflow": null,
            "overflow_x": null,
            "overflow_y": null,
            "padding": null,
            "right": null,
            "top": null,
            "visibility": null,
            "width": null
          }
        },
        "d25458ca2a8048d5ac2564f69268f15a": {
          "model_module": "@jupyter-widgets/base",
          "model_name": "LayoutModel",
          "model_module_version": "1.2.0",
          "state": {
            "_model_module": "@jupyter-widgets/base",
            "_model_module_version": "1.2.0",
            "_model_name": "LayoutModel",
            "_view_count": null,
            "_view_module": "@jupyter-widgets/base",
            "_view_module_version": "1.2.0",
            "_view_name": "LayoutView",
            "align_content": null,
            "align_items": null,
            "align_self": null,
            "border": null,
            "bottom": null,
            "display": null,
            "flex": null,
            "flex_flow": null,
            "grid_area": null,
            "grid_auto_columns": null,
            "grid_auto_flow": null,
            "grid_auto_rows": null,
            "grid_column": null,
            "grid_gap": null,
            "grid_row": null,
            "grid_template_areas": null,
            "grid_template_columns": null,
            "grid_template_rows": null,
            "height": null,
            "justify_content": null,
            "justify_items": null,
            "left": null,
            "margin": null,
            "max_height": null,
            "max_width": null,
            "min_height": null,
            "min_width": null,
            "object_fit": null,
            "object_position": null,
            "order": null,
            "overflow": null,
            "overflow_x": null,
            "overflow_y": null,
            "padding": null,
            "right": null,
            "top": null,
            "visibility": null,
            "width": null
          }
        },
        "20dd714db2b7454b95e3f6f26713718a": {
          "model_module": "@jupyter-widgets/controls",
          "model_name": "DescriptionStyleModel",
          "model_module_version": "1.5.0",
          "state": {
            "_model_module": "@jupyter-widgets/controls",
            "_model_module_version": "1.5.0",
            "_model_name": "DescriptionStyleModel",
            "_view_count": null,
            "_view_module": "@jupyter-widgets/base",
            "_view_module_version": "1.2.0",
            "_view_name": "StyleView",
            "description_width": ""
          }
        },
        "45d4be59a4ef40efb9596221137d657d": {
          "model_module": "@jupyter-widgets/base",
          "model_name": "LayoutModel",
          "model_module_version": "1.2.0",
          "state": {
            "_model_module": "@jupyter-widgets/base",
            "_model_module_version": "1.2.0",
            "_model_name": "LayoutModel",
            "_view_count": null,
            "_view_module": "@jupyter-widgets/base",
            "_view_module_version": "1.2.0",
            "_view_name": "LayoutView",
            "align_content": null,
            "align_items": null,
            "align_self": null,
            "border": null,
            "bottom": null,
            "display": null,
            "flex": null,
            "flex_flow": null,
            "grid_area": null,
            "grid_auto_columns": null,
            "grid_auto_flow": null,
            "grid_auto_rows": null,
            "grid_column": null,
            "grid_gap": null,
            "grid_row": null,
            "grid_template_areas": null,
            "grid_template_columns": null,
            "grid_template_rows": null,
            "height": null,
            "justify_content": null,
            "justify_items": null,
            "left": null,
            "margin": null,
            "max_height": null,
            "max_width": null,
            "min_height": null,
            "min_width": null,
            "object_fit": null,
            "object_position": null,
            "order": null,
            "overflow": null,
            "overflow_x": null,
            "overflow_y": null,
            "padding": null,
            "right": null,
            "top": null,
            "visibility": null,
            "width": null
          }
        },
        "9501f460fec64c888ff7131cbdd8539b": {
          "model_module": "@jupyter-widgets/controls",
          "model_name": "ProgressStyleModel",
          "model_module_version": "1.5.0",
          "state": {
            "_model_module": "@jupyter-widgets/controls",
            "_model_module_version": "1.5.0",
            "_model_name": "ProgressStyleModel",
            "_view_count": null,
            "_view_module": "@jupyter-widgets/base",
            "_view_module_version": "1.2.0",
            "_view_name": "StyleView",
            "bar_color": null,
            "description_width": ""
          }
        },
        "5572d5630d234d2bbefe3a75e4a661c9": {
          "model_module": "@jupyter-widgets/base",
          "model_name": "LayoutModel",
          "model_module_version": "1.2.0",
          "state": {
            "_model_module": "@jupyter-widgets/base",
            "_model_module_version": "1.2.0",
            "_model_name": "LayoutModel",
            "_view_count": null,
            "_view_module": "@jupyter-widgets/base",
            "_view_module_version": "1.2.0",
            "_view_name": "LayoutView",
            "align_content": null,
            "align_items": null,
            "align_self": null,
            "border": null,
            "bottom": null,
            "display": null,
            "flex": null,
            "flex_flow": null,
            "grid_area": null,
            "grid_auto_columns": null,
            "grid_auto_flow": null,
            "grid_auto_rows": null,
            "grid_column": null,
            "grid_gap": null,
            "grid_row": null,
            "grid_template_areas": null,
            "grid_template_columns": null,
            "grid_template_rows": null,
            "height": null,
            "justify_content": null,
            "justify_items": null,
            "left": null,
            "margin": null,
            "max_height": null,
            "max_width": null,
            "min_height": null,
            "min_width": null,
            "object_fit": null,
            "object_position": null,
            "order": null,
            "overflow": null,
            "overflow_x": null,
            "overflow_y": null,
            "padding": null,
            "right": null,
            "top": null,
            "visibility": null,
            "width": null
          }
        },
        "3336e58576c74dfbbb55e3fd62d9e869": {
          "model_module": "@jupyter-widgets/controls",
          "model_name": "DescriptionStyleModel",
          "model_module_version": "1.5.0",
          "state": {
            "_model_module": "@jupyter-widgets/controls",
            "_model_module_version": "1.5.0",
            "_model_name": "DescriptionStyleModel",
            "_view_count": null,
            "_view_module": "@jupyter-widgets/base",
            "_view_module_version": "1.2.0",
            "_view_name": "StyleView",
            "description_width": ""
          }
        },
        "e422cc6dfdb9454d967bf6f47f592b11": {
          "model_module": "@jupyter-widgets/controls",
          "model_name": "HBoxModel",
          "model_module_version": "1.5.0",
          "state": {
            "_dom_classes": [],
            "_model_module": "@jupyter-widgets/controls",
            "_model_module_version": "1.5.0",
            "_model_name": "HBoxModel",
            "_view_count": null,
            "_view_module": "@jupyter-widgets/controls",
            "_view_module_version": "1.5.0",
            "_view_name": "HBoxView",
            "box_style": "",
            "children": [
              "IPY_MODEL_7a6f23ec62014edfbdec8d7dd0bbe15b",
              "IPY_MODEL_108801d6c2f043aa8590ccce4f5eaab0",
              "IPY_MODEL_ecb51a78f3e94d7aa23726e5643484b9"
            ],
            "layout": "IPY_MODEL_0e8f13e0df2f4c9f8fcbbb975726382e"
          }
        },
        "7a6f23ec62014edfbdec8d7dd0bbe15b": {
          "model_module": "@jupyter-widgets/controls",
          "model_name": "HTMLModel",
          "model_module_version": "1.5.0",
          "state": {
            "_dom_classes": [],
            "_model_module": "@jupyter-widgets/controls",
            "_model_module_version": "1.5.0",
            "_model_name": "HTMLModel",
            "_view_count": null,
            "_view_module": "@jupyter-widgets/controls",
            "_view_module_version": "1.5.0",
            "_view_name": "HTMLView",
            "description": "",
            "description_tooltip": null,
            "layout": "IPY_MODEL_cb574a7c3b4a4c3e8940cd7db6d94f67",
            "placeholder": "​",
            "style": "IPY_MODEL_5bb3a3e73dda40dd8bf2b049aa3379b5",
            "value": "100%"
          }
        },
        "108801d6c2f043aa8590ccce4f5eaab0": {
          "model_module": "@jupyter-widgets/controls",
          "model_name": "FloatProgressModel",
          "model_module_version": "1.5.0",
          "state": {
            "_dom_classes": [],
            "_model_module": "@jupyter-widgets/controls",
            "_model_module_version": "1.5.0",
            "_model_name": "FloatProgressModel",
            "_view_count": null,
            "_view_module": "@jupyter-widgets/controls",
            "_view_module_version": "1.5.0",
            "_view_name": "ProgressView",
            "bar_style": "success",
            "description": "",
            "description_tooltip": null,
            "layout": "IPY_MODEL_9c963085ab184c91bc4cafdf830266f1",
            "max": 1000,
            "min": 0,
            "orientation": "horizontal",
            "style": "IPY_MODEL_6d92c04f8f5646b296555a5c49c6c5b8",
            "value": 1000
          }
        },
        "ecb51a78f3e94d7aa23726e5643484b9": {
          "model_module": "@jupyter-widgets/controls",
          "model_name": "HTMLModel",
          "model_module_version": "1.5.0",
          "state": {
            "_dom_classes": [],
            "_model_module": "@jupyter-widgets/controls",
            "_model_module_version": "1.5.0",
            "_model_name": "HTMLModel",
            "_view_count": null,
            "_view_module": "@jupyter-widgets/controls",
            "_view_module_version": "1.5.0",
            "_view_name": "HTMLView",
            "description": "",
            "description_tooltip": null,
            "layout": "IPY_MODEL_df9a25a4a942495683aa8ae5ea61a3c0",
            "placeholder": "​",
            "style": "IPY_MODEL_97267a8796b244338223188bacfb7f0f",
            "value": " 1000/1000 [00:00&lt;00:00, 2216.61it/s]"
          }
        },
        "0e8f13e0df2f4c9f8fcbbb975726382e": {
          "model_module": "@jupyter-widgets/base",
          "model_name": "LayoutModel",
          "model_module_version": "1.2.0",
          "state": {
            "_model_module": "@jupyter-widgets/base",
            "_model_module_version": "1.2.0",
            "_model_name": "LayoutModel",
            "_view_count": null,
            "_view_module": "@jupyter-widgets/base",
            "_view_module_version": "1.2.0",
            "_view_name": "LayoutView",
            "align_content": null,
            "align_items": null,
            "align_self": null,
            "border": null,
            "bottom": null,
            "display": null,
            "flex": null,
            "flex_flow": null,
            "grid_area": null,
            "grid_auto_columns": null,
            "grid_auto_flow": null,
            "grid_auto_rows": null,
            "grid_column": null,
            "grid_gap": null,
            "grid_row": null,
            "grid_template_areas": null,
            "grid_template_columns": null,
            "grid_template_rows": null,
            "height": null,
            "justify_content": null,
            "justify_items": null,
            "left": null,
            "margin": null,
            "max_height": null,
            "max_width": null,
            "min_height": null,
            "min_width": null,
            "object_fit": null,
            "object_position": null,
            "order": null,
            "overflow": null,
            "overflow_x": null,
            "overflow_y": null,
            "padding": null,
            "right": null,
            "top": null,
            "visibility": null,
            "width": null
          }
        },
        "cb574a7c3b4a4c3e8940cd7db6d94f67": {
          "model_module": "@jupyter-widgets/base",
          "model_name": "LayoutModel",
          "model_module_version": "1.2.0",
          "state": {
            "_model_module": "@jupyter-widgets/base",
            "_model_module_version": "1.2.0",
            "_model_name": "LayoutModel",
            "_view_count": null,
            "_view_module": "@jupyter-widgets/base",
            "_view_module_version": "1.2.0",
            "_view_name": "LayoutView",
            "align_content": null,
            "align_items": null,
            "align_self": null,
            "border": null,
            "bottom": null,
            "display": null,
            "flex": null,
            "flex_flow": null,
            "grid_area": null,
            "grid_auto_columns": null,
            "grid_auto_flow": null,
            "grid_auto_rows": null,
            "grid_column": null,
            "grid_gap": null,
            "grid_row": null,
            "grid_template_areas": null,
            "grid_template_columns": null,
            "grid_template_rows": null,
            "height": null,
            "justify_content": null,
            "justify_items": null,
            "left": null,
            "margin": null,
            "max_height": null,
            "max_width": null,
            "min_height": null,
            "min_width": null,
            "object_fit": null,
            "object_position": null,
            "order": null,
            "overflow": null,
            "overflow_x": null,
            "overflow_y": null,
            "padding": null,
            "right": null,
            "top": null,
            "visibility": null,
            "width": null
          }
        },
        "5bb3a3e73dda40dd8bf2b049aa3379b5": {
          "model_module": "@jupyter-widgets/controls",
          "model_name": "DescriptionStyleModel",
          "model_module_version": "1.5.0",
          "state": {
            "_model_module": "@jupyter-widgets/controls",
            "_model_module_version": "1.5.0",
            "_model_name": "DescriptionStyleModel",
            "_view_count": null,
            "_view_module": "@jupyter-widgets/base",
            "_view_module_version": "1.2.0",
            "_view_name": "StyleView",
            "description_width": ""
          }
        },
        "9c963085ab184c91bc4cafdf830266f1": {
          "model_module": "@jupyter-widgets/base",
          "model_name": "LayoutModel",
          "model_module_version": "1.2.0",
          "state": {
            "_model_module": "@jupyter-widgets/base",
            "_model_module_version": "1.2.0",
            "_model_name": "LayoutModel",
            "_view_count": null,
            "_view_module": "@jupyter-widgets/base",
            "_view_module_version": "1.2.0",
            "_view_name": "LayoutView",
            "align_content": null,
            "align_items": null,
            "align_self": null,
            "border": null,
            "bottom": null,
            "display": null,
            "flex": null,
            "flex_flow": null,
            "grid_area": null,
            "grid_auto_columns": null,
            "grid_auto_flow": null,
            "grid_auto_rows": null,
            "grid_column": null,
            "grid_gap": null,
            "grid_row": null,
            "grid_template_areas": null,
            "grid_template_columns": null,
            "grid_template_rows": null,
            "height": null,
            "justify_content": null,
            "justify_items": null,
            "left": null,
            "margin": null,
            "max_height": null,
            "max_width": null,
            "min_height": null,
            "min_width": null,
            "object_fit": null,
            "object_position": null,
            "order": null,
            "overflow": null,
            "overflow_x": null,
            "overflow_y": null,
            "padding": null,
            "right": null,
            "top": null,
            "visibility": null,
            "width": null
          }
        },
        "6d92c04f8f5646b296555a5c49c6c5b8": {
          "model_module": "@jupyter-widgets/controls",
          "model_name": "ProgressStyleModel",
          "model_module_version": "1.5.0",
          "state": {
            "_model_module": "@jupyter-widgets/controls",
            "_model_module_version": "1.5.0",
            "_model_name": "ProgressStyleModel",
            "_view_count": null,
            "_view_module": "@jupyter-widgets/base",
            "_view_module_version": "1.2.0",
            "_view_name": "StyleView",
            "bar_color": null,
            "description_width": ""
          }
        },
        "df9a25a4a942495683aa8ae5ea61a3c0": {
          "model_module": "@jupyter-widgets/base",
          "model_name": "LayoutModel",
          "model_module_version": "1.2.0",
          "state": {
            "_model_module": "@jupyter-widgets/base",
            "_model_module_version": "1.2.0",
            "_model_name": "LayoutModel",
            "_view_count": null,
            "_view_module": "@jupyter-widgets/base",
            "_view_module_version": "1.2.0",
            "_view_name": "LayoutView",
            "align_content": null,
            "align_items": null,
            "align_self": null,
            "border": null,
            "bottom": null,
            "display": null,
            "flex": null,
            "flex_flow": null,
            "grid_area": null,
            "grid_auto_columns": null,
            "grid_auto_flow": null,
            "grid_auto_rows": null,
            "grid_column": null,
            "grid_gap": null,
            "grid_row": null,
            "grid_template_areas": null,
            "grid_template_columns": null,
            "grid_template_rows": null,
            "height": null,
            "justify_content": null,
            "justify_items": null,
            "left": null,
            "margin": null,
            "max_height": null,
            "max_width": null,
            "min_height": null,
            "min_width": null,
            "object_fit": null,
            "object_position": null,
            "order": null,
            "overflow": null,
            "overflow_x": null,
            "overflow_y": null,
            "padding": null,
            "right": null,
            "top": null,
            "visibility": null,
            "width": null
          }
        },
        "97267a8796b244338223188bacfb7f0f": {
          "model_module": "@jupyter-widgets/controls",
          "model_name": "DescriptionStyleModel",
          "model_module_version": "1.5.0",
          "state": {
            "_model_module": "@jupyter-widgets/controls",
            "_model_module_version": "1.5.0",
            "_model_name": "DescriptionStyleModel",
            "_view_count": null,
            "_view_module": "@jupyter-widgets/base",
            "_view_module_version": "1.2.0",
            "_view_name": "StyleView",
            "description_width": ""
          }
        },
        "edb2bc2c80574bd8b8864e981ab845cc": {
          "model_module": "@jupyter-widgets/controls",
          "model_name": "HBoxModel",
          "model_module_version": "1.5.0",
          "state": {
            "_dom_classes": [],
            "_model_module": "@jupyter-widgets/controls",
            "_model_module_version": "1.5.0",
            "_model_name": "HBoxModel",
            "_view_count": null,
            "_view_module": "@jupyter-widgets/controls",
            "_view_module_version": "1.5.0",
            "_view_name": "HBoxView",
            "box_style": "",
            "children": [
              "IPY_MODEL_502476d60fc04aec813f6e1beed18e8b",
              "IPY_MODEL_eca2ddd5acad4044a2c5e180e0ffe910",
              "IPY_MODEL_32af8efba7ff467c823be765e22ece81"
            ],
            "layout": "IPY_MODEL_67861dcd7231433fb4c5cdd246a48501"
          }
        },
        "502476d60fc04aec813f6e1beed18e8b": {
          "model_module": "@jupyter-widgets/controls",
          "model_name": "HTMLModel",
          "model_module_version": "1.5.0",
          "state": {
            "_dom_classes": [],
            "_model_module": "@jupyter-widgets/controls",
            "_model_module_version": "1.5.0",
            "_model_name": "HTMLModel",
            "_view_count": null,
            "_view_module": "@jupyter-widgets/controls",
            "_view_module_version": "1.5.0",
            "_view_name": "HTMLView",
            "description": "",
            "description_tooltip": null,
            "layout": "IPY_MODEL_25fc7f5ec516457ebefe5fc8ed467b9b",
            "placeholder": "​",
            "style": "IPY_MODEL_963bed8ddb254949b6fd41b735f42cc5",
            "value": "100%"
          }
        },
        "eca2ddd5acad4044a2c5e180e0ffe910": {
          "model_module": "@jupyter-widgets/controls",
          "model_name": "FloatProgressModel",
          "model_module_version": "1.5.0",
          "state": {
            "_dom_classes": [],
            "_model_module": "@jupyter-widgets/controls",
            "_model_module_version": "1.5.0",
            "_model_name": "FloatProgressModel",
            "_view_count": null,
            "_view_module": "@jupyter-widgets/controls",
            "_view_module_version": "1.5.0",
            "_view_name": "ProgressView",
            "bar_style": "success",
            "description": "",
            "description_tooltip": null,
            "layout": "IPY_MODEL_29b0e1c8b9b94260a2b8629a4ab8955a",
            "max": 1000,
            "min": 0,
            "orientation": "horizontal",
            "style": "IPY_MODEL_55dbb127941243e4951f0723d1f0c3e3",
            "value": 1000
          }
        },
        "32af8efba7ff467c823be765e22ece81": {
          "model_module": "@jupyter-widgets/controls",
          "model_name": "HTMLModel",
          "model_module_version": "1.5.0",
          "state": {
            "_dom_classes": [],
            "_model_module": "@jupyter-widgets/controls",
            "_model_module_version": "1.5.0",
            "_model_name": "HTMLModel",
            "_view_count": null,
            "_view_module": "@jupyter-widgets/controls",
            "_view_module_version": "1.5.0",
            "_view_name": "HTMLView",
            "description": "",
            "description_tooltip": null,
            "layout": "IPY_MODEL_7d8232424d0f4999a6dcb89bc728b190",
            "placeholder": "​",
            "style": "IPY_MODEL_129739f99a574c8ab361695196af70b3",
            "value": " 1000/1000 [00:00&lt;00:00, 2320.25it/s]"
          }
        },
        "67861dcd7231433fb4c5cdd246a48501": {
          "model_module": "@jupyter-widgets/base",
          "model_name": "LayoutModel",
          "model_module_version": "1.2.0",
          "state": {
            "_model_module": "@jupyter-widgets/base",
            "_model_module_version": "1.2.0",
            "_model_name": "LayoutModel",
            "_view_count": null,
            "_view_module": "@jupyter-widgets/base",
            "_view_module_version": "1.2.0",
            "_view_name": "LayoutView",
            "align_content": null,
            "align_items": null,
            "align_self": null,
            "border": null,
            "bottom": null,
            "display": null,
            "flex": null,
            "flex_flow": null,
            "grid_area": null,
            "grid_auto_columns": null,
            "grid_auto_flow": null,
            "grid_auto_rows": null,
            "grid_column": null,
            "grid_gap": null,
            "grid_row": null,
            "grid_template_areas": null,
            "grid_template_columns": null,
            "grid_template_rows": null,
            "height": null,
            "justify_content": null,
            "justify_items": null,
            "left": null,
            "margin": null,
            "max_height": null,
            "max_width": null,
            "min_height": null,
            "min_width": null,
            "object_fit": null,
            "object_position": null,
            "order": null,
            "overflow": null,
            "overflow_x": null,
            "overflow_y": null,
            "padding": null,
            "right": null,
            "top": null,
            "visibility": null,
            "width": null
          }
        },
        "25fc7f5ec516457ebefe5fc8ed467b9b": {
          "model_module": "@jupyter-widgets/base",
          "model_name": "LayoutModel",
          "model_module_version": "1.2.0",
          "state": {
            "_model_module": "@jupyter-widgets/base",
            "_model_module_version": "1.2.0",
            "_model_name": "LayoutModel",
            "_view_count": null,
            "_view_module": "@jupyter-widgets/base",
            "_view_module_version": "1.2.0",
            "_view_name": "LayoutView",
            "align_content": null,
            "align_items": null,
            "align_self": null,
            "border": null,
            "bottom": null,
            "display": null,
            "flex": null,
            "flex_flow": null,
            "grid_area": null,
            "grid_auto_columns": null,
            "grid_auto_flow": null,
            "grid_auto_rows": null,
            "grid_column": null,
            "grid_gap": null,
            "grid_row": null,
            "grid_template_areas": null,
            "grid_template_columns": null,
            "grid_template_rows": null,
            "height": null,
            "justify_content": null,
            "justify_items": null,
            "left": null,
            "margin": null,
            "max_height": null,
            "max_width": null,
            "min_height": null,
            "min_width": null,
            "object_fit": null,
            "object_position": null,
            "order": null,
            "overflow": null,
            "overflow_x": null,
            "overflow_y": null,
            "padding": null,
            "right": null,
            "top": null,
            "visibility": null,
            "width": null
          }
        },
        "963bed8ddb254949b6fd41b735f42cc5": {
          "model_module": "@jupyter-widgets/controls",
          "model_name": "DescriptionStyleModel",
          "model_module_version": "1.5.0",
          "state": {
            "_model_module": "@jupyter-widgets/controls",
            "_model_module_version": "1.5.0",
            "_model_name": "DescriptionStyleModel",
            "_view_count": null,
            "_view_module": "@jupyter-widgets/base",
            "_view_module_version": "1.2.0",
            "_view_name": "StyleView",
            "description_width": ""
          }
        },
        "29b0e1c8b9b94260a2b8629a4ab8955a": {
          "model_module": "@jupyter-widgets/base",
          "model_name": "LayoutModel",
          "model_module_version": "1.2.0",
          "state": {
            "_model_module": "@jupyter-widgets/base",
            "_model_module_version": "1.2.0",
            "_model_name": "LayoutModel",
            "_view_count": null,
            "_view_module": "@jupyter-widgets/base",
            "_view_module_version": "1.2.0",
            "_view_name": "LayoutView",
            "align_content": null,
            "align_items": null,
            "align_self": null,
            "border": null,
            "bottom": null,
            "display": null,
            "flex": null,
            "flex_flow": null,
            "grid_area": null,
            "grid_auto_columns": null,
            "grid_auto_flow": null,
            "grid_auto_rows": null,
            "grid_column": null,
            "grid_gap": null,
            "grid_row": null,
            "grid_template_areas": null,
            "grid_template_columns": null,
            "grid_template_rows": null,
            "height": null,
            "justify_content": null,
            "justify_items": null,
            "left": null,
            "margin": null,
            "max_height": null,
            "max_width": null,
            "min_height": null,
            "min_width": null,
            "object_fit": null,
            "object_position": null,
            "order": null,
            "overflow": null,
            "overflow_x": null,
            "overflow_y": null,
            "padding": null,
            "right": null,
            "top": null,
            "visibility": null,
            "width": null
          }
        },
        "55dbb127941243e4951f0723d1f0c3e3": {
          "model_module": "@jupyter-widgets/controls",
          "model_name": "ProgressStyleModel",
          "model_module_version": "1.5.0",
          "state": {
            "_model_module": "@jupyter-widgets/controls",
            "_model_module_version": "1.5.0",
            "_model_name": "ProgressStyleModel",
            "_view_count": null,
            "_view_module": "@jupyter-widgets/base",
            "_view_module_version": "1.2.0",
            "_view_name": "StyleView",
            "bar_color": null,
            "description_width": ""
          }
        },
        "7d8232424d0f4999a6dcb89bc728b190": {
          "model_module": "@jupyter-widgets/base",
          "model_name": "LayoutModel",
          "model_module_version": "1.2.0",
          "state": {
            "_model_module": "@jupyter-widgets/base",
            "_model_module_version": "1.2.0",
            "_model_name": "LayoutModel",
            "_view_count": null,
            "_view_module": "@jupyter-widgets/base",
            "_view_module_version": "1.2.0",
            "_view_name": "LayoutView",
            "align_content": null,
            "align_items": null,
            "align_self": null,
            "border": null,
            "bottom": null,
            "display": null,
            "flex": null,
            "flex_flow": null,
            "grid_area": null,
            "grid_auto_columns": null,
            "grid_auto_flow": null,
            "grid_auto_rows": null,
            "grid_column": null,
            "grid_gap": null,
            "grid_row": null,
            "grid_template_areas": null,
            "grid_template_columns": null,
            "grid_template_rows": null,
            "height": null,
            "justify_content": null,
            "justify_items": null,
            "left": null,
            "margin": null,
            "max_height": null,
            "max_width": null,
            "min_height": null,
            "min_width": null,
            "object_fit": null,
            "object_position": null,
            "order": null,
            "overflow": null,
            "overflow_x": null,
            "overflow_y": null,
            "padding": null,
            "right": null,
            "top": null,
            "visibility": null,
            "width": null
          }
        },
        "129739f99a574c8ab361695196af70b3": {
          "model_module": "@jupyter-widgets/controls",
          "model_name": "DescriptionStyleModel",
          "model_module_version": "1.5.0",
          "state": {
            "_model_module": "@jupyter-widgets/controls",
            "_model_module_version": "1.5.0",
            "_model_name": "DescriptionStyleModel",
            "_view_count": null,
            "_view_module": "@jupyter-widgets/base",
            "_view_module_version": "1.2.0",
            "_view_name": "StyleView",
            "description_width": ""
          }
        },
        "3421dc1c639c4c5ca8a5c9dafe552c61": {
          "model_module": "@jupyter-widgets/controls",
          "model_name": "HBoxModel",
          "model_module_version": "1.5.0",
          "state": {
            "_dom_classes": [],
            "_model_module": "@jupyter-widgets/controls",
            "_model_module_version": "1.5.0",
            "_model_name": "HBoxModel",
            "_view_count": null,
            "_view_module": "@jupyter-widgets/controls",
            "_view_module_version": "1.5.0",
            "_view_name": "HBoxView",
            "box_style": "",
            "children": [
              "IPY_MODEL_c4b7e6b3ab07498d807bc02a2a9511e9",
              "IPY_MODEL_51ee01b497a143888e64d4761b8efd48",
              "IPY_MODEL_cd4013e62dad41a094d7486706161f62"
            ],
            "layout": "IPY_MODEL_bee123ee1e0e462db663b19c3444d46f"
          }
        },
        "c4b7e6b3ab07498d807bc02a2a9511e9": {
          "model_module": "@jupyter-widgets/controls",
          "model_name": "HTMLModel",
          "model_module_version": "1.5.0",
          "state": {
            "_dom_classes": [],
            "_model_module": "@jupyter-widgets/controls",
            "_model_module_version": "1.5.0",
            "_model_name": "HTMLModel",
            "_view_count": null,
            "_view_module": "@jupyter-widgets/controls",
            "_view_module_version": "1.5.0",
            "_view_name": "HTMLView",
            "description": "",
            "description_tooltip": null,
            "layout": "IPY_MODEL_d97af44cf5304e549622919eacbc6d0f",
            "placeholder": "​",
            "style": "IPY_MODEL_3f221d44d16741d28afa712292ce981b",
            "value": "100%"
          }
        },
        "51ee01b497a143888e64d4761b8efd48": {
          "model_module": "@jupyter-widgets/controls",
          "model_name": "FloatProgressModel",
          "model_module_version": "1.5.0",
          "state": {
            "_dom_classes": [],
            "_model_module": "@jupyter-widgets/controls",
            "_model_module_version": "1.5.0",
            "_model_name": "FloatProgressModel",
            "_view_count": null,
            "_view_module": "@jupyter-widgets/controls",
            "_view_module_version": "1.5.0",
            "_view_name": "ProgressView",
            "bar_style": "success",
            "description": "",
            "description_tooltip": null,
            "layout": "IPY_MODEL_da2ffd5116ba4be38778ef200b57984a",
            "max": 1000,
            "min": 0,
            "orientation": "horizontal",
            "style": "IPY_MODEL_99fb434c969a40209662af3ab50d292d",
            "value": 1000
          }
        },
        "cd4013e62dad41a094d7486706161f62": {
          "model_module": "@jupyter-widgets/controls",
          "model_name": "HTMLModel",
          "model_module_version": "1.5.0",
          "state": {
            "_dom_classes": [],
            "_model_module": "@jupyter-widgets/controls",
            "_model_module_version": "1.5.0",
            "_model_name": "HTMLModel",
            "_view_count": null,
            "_view_module": "@jupyter-widgets/controls",
            "_view_module_version": "1.5.0",
            "_view_name": "HTMLView",
            "description": "",
            "description_tooltip": null,
            "layout": "IPY_MODEL_5e99ac0d6fe74f58b4702f9c5dd06ada",
            "placeholder": "​",
            "style": "IPY_MODEL_119fbb97810b4d928df4a3a45d9b4b63",
            "value": " 1000/1000 [00:00&lt;00:00, 2506.48it/s]"
          }
        },
        "bee123ee1e0e462db663b19c3444d46f": {
          "model_module": "@jupyter-widgets/base",
          "model_name": "LayoutModel",
          "model_module_version": "1.2.0",
          "state": {
            "_model_module": "@jupyter-widgets/base",
            "_model_module_version": "1.2.0",
            "_model_name": "LayoutModel",
            "_view_count": null,
            "_view_module": "@jupyter-widgets/base",
            "_view_module_version": "1.2.0",
            "_view_name": "LayoutView",
            "align_content": null,
            "align_items": null,
            "align_self": null,
            "border": null,
            "bottom": null,
            "display": null,
            "flex": null,
            "flex_flow": null,
            "grid_area": null,
            "grid_auto_columns": null,
            "grid_auto_flow": null,
            "grid_auto_rows": null,
            "grid_column": null,
            "grid_gap": null,
            "grid_row": null,
            "grid_template_areas": null,
            "grid_template_columns": null,
            "grid_template_rows": null,
            "height": null,
            "justify_content": null,
            "justify_items": null,
            "left": null,
            "margin": null,
            "max_height": null,
            "max_width": null,
            "min_height": null,
            "min_width": null,
            "object_fit": null,
            "object_position": null,
            "order": null,
            "overflow": null,
            "overflow_x": null,
            "overflow_y": null,
            "padding": null,
            "right": null,
            "top": null,
            "visibility": null,
            "width": null
          }
        },
        "d97af44cf5304e549622919eacbc6d0f": {
          "model_module": "@jupyter-widgets/base",
          "model_name": "LayoutModel",
          "model_module_version": "1.2.0",
          "state": {
            "_model_module": "@jupyter-widgets/base",
            "_model_module_version": "1.2.0",
            "_model_name": "LayoutModel",
            "_view_count": null,
            "_view_module": "@jupyter-widgets/base",
            "_view_module_version": "1.2.0",
            "_view_name": "LayoutView",
            "align_content": null,
            "align_items": null,
            "align_self": null,
            "border": null,
            "bottom": null,
            "display": null,
            "flex": null,
            "flex_flow": null,
            "grid_area": null,
            "grid_auto_columns": null,
            "grid_auto_flow": null,
            "grid_auto_rows": null,
            "grid_column": null,
            "grid_gap": null,
            "grid_row": null,
            "grid_template_areas": null,
            "grid_template_columns": null,
            "grid_template_rows": null,
            "height": null,
            "justify_content": null,
            "justify_items": null,
            "left": null,
            "margin": null,
            "max_height": null,
            "max_width": null,
            "min_height": null,
            "min_width": null,
            "object_fit": null,
            "object_position": null,
            "order": null,
            "overflow": null,
            "overflow_x": null,
            "overflow_y": null,
            "padding": null,
            "right": null,
            "top": null,
            "visibility": null,
            "width": null
          }
        },
        "3f221d44d16741d28afa712292ce981b": {
          "model_module": "@jupyter-widgets/controls",
          "model_name": "DescriptionStyleModel",
          "model_module_version": "1.5.0",
          "state": {
            "_model_module": "@jupyter-widgets/controls",
            "_model_module_version": "1.5.0",
            "_model_name": "DescriptionStyleModel",
            "_view_count": null,
            "_view_module": "@jupyter-widgets/base",
            "_view_module_version": "1.2.0",
            "_view_name": "StyleView",
            "description_width": ""
          }
        },
        "da2ffd5116ba4be38778ef200b57984a": {
          "model_module": "@jupyter-widgets/base",
          "model_name": "LayoutModel",
          "model_module_version": "1.2.0",
          "state": {
            "_model_module": "@jupyter-widgets/base",
            "_model_module_version": "1.2.0",
            "_model_name": "LayoutModel",
            "_view_count": null,
            "_view_module": "@jupyter-widgets/base",
            "_view_module_version": "1.2.0",
            "_view_name": "LayoutView",
            "align_content": null,
            "align_items": null,
            "align_self": null,
            "border": null,
            "bottom": null,
            "display": null,
            "flex": null,
            "flex_flow": null,
            "grid_area": null,
            "grid_auto_columns": null,
            "grid_auto_flow": null,
            "grid_auto_rows": null,
            "grid_column": null,
            "grid_gap": null,
            "grid_row": null,
            "grid_template_areas": null,
            "grid_template_columns": null,
            "grid_template_rows": null,
            "height": null,
            "justify_content": null,
            "justify_items": null,
            "left": null,
            "margin": null,
            "max_height": null,
            "max_width": null,
            "min_height": null,
            "min_width": null,
            "object_fit": null,
            "object_position": null,
            "order": null,
            "overflow": null,
            "overflow_x": null,
            "overflow_y": null,
            "padding": null,
            "right": null,
            "top": null,
            "visibility": null,
            "width": null
          }
        },
        "99fb434c969a40209662af3ab50d292d": {
          "model_module": "@jupyter-widgets/controls",
          "model_name": "ProgressStyleModel",
          "model_module_version": "1.5.0",
          "state": {
            "_model_module": "@jupyter-widgets/controls",
            "_model_module_version": "1.5.0",
            "_model_name": "ProgressStyleModel",
            "_view_count": null,
            "_view_module": "@jupyter-widgets/base",
            "_view_module_version": "1.2.0",
            "_view_name": "StyleView",
            "bar_color": null,
            "description_width": ""
          }
        },
        "5e99ac0d6fe74f58b4702f9c5dd06ada": {
          "model_module": "@jupyter-widgets/base",
          "model_name": "LayoutModel",
          "model_module_version": "1.2.0",
          "state": {
            "_model_module": "@jupyter-widgets/base",
            "_model_module_version": "1.2.0",
            "_model_name": "LayoutModel",
            "_view_count": null,
            "_view_module": "@jupyter-widgets/base",
            "_view_module_version": "1.2.0",
            "_view_name": "LayoutView",
            "align_content": null,
            "align_items": null,
            "align_self": null,
            "border": null,
            "bottom": null,
            "display": null,
            "flex": null,
            "flex_flow": null,
            "grid_area": null,
            "grid_auto_columns": null,
            "grid_auto_flow": null,
            "grid_auto_rows": null,
            "grid_column": null,
            "grid_gap": null,
            "grid_row": null,
            "grid_template_areas": null,
            "grid_template_columns": null,
            "grid_template_rows": null,
            "height": null,
            "justify_content": null,
            "justify_items": null,
            "left": null,
            "margin": null,
            "max_height": null,
            "max_width": null,
            "min_height": null,
            "min_width": null,
            "object_fit": null,
            "object_position": null,
            "order": null,
            "overflow": null,
            "overflow_x": null,
            "overflow_y": null,
            "padding": null,
            "right": null,
            "top": null,
            "visibility": null,
            "width": null
          }
        },
        "119fbb97810b4d928df4a3a45d9b4b63": {
          "model_module": "@jupyter-widgets/controls",
          "model_name": "DescriptionStyleModel",
          "model_module_version": "1.5.0",
          "state": {
            "_model_module": "@jupyter-widgets/controls",
            "_model_module_version": "1.5.0",
            "_model_name": "DescriptionStyleModel",
            "_view_count": null,
            "_view_module": "@jupyter-widgets/base",
            "_view_module_version": "1.2.0",
            "_view_name": "StyleView",
            "description_width": ""
          }
        },
        "fe0a0d65d482470caffa6ff3fd4dfaca": {
          "model_module": "@jupyter-widgets/controls",
          "model_name": "HBoxModel",
          "model_module_version": "1.5.0",
          "state": {
            "_dom_classes": [],
            "_model_module": "@jupyter-widgets/controls",
            "_model_module_version": "1.5.0",
            "_model_name": "HBoxModel",
            "_view_count": null,
            "_view_module": "@jupyter-widgets/controls",
            "_view_module_version": "1.5.0",
            "_view_name": "HBoxView",
            "box_style": "",
            "children": [
              "IPY_MODEL_3e0938d5100e48dea577cfbe7a9776a4",
              "IPY_MODEL_138e4b5799de4f0f99edad858b74c5a4",
              "IPY_MODEL_7ba7a5b744b24df397d514b3da929014"
            ],
            "layout": "IPY_MODEL_791a074163db4bb99894f4bae2cb23a5"
          }
        },
        "3e0938d5100e48dea577cfbe7a9776a4": {
          "model_module": "@jupyter-widgets/controls",
          "model_name": "HTMLModel",
          "model_module_version": "1.5.0",
          "state": {
            "_dom_classes": [],
            "_model_module": "@jupyter-widgets/controls",
            "_model_module_version": "1.5.0",
            "_model_name": "HTMLModel",
            "_view_count": null,
            "_view_module": "@jupyter-widgets/controls",
            "_view_module_version": "1.5.0",
            "_view_name": "HTMLView",
            "description": "",
            "description_tooltip": null,
            "layout": "IPY_MODEL_3a468a64ea12467eb0974fb996748c2d",
            "placeholder": "​",
            "style": "IPY_MODEL_21076e064c23488a81248910a215c953",
            "value": "100%"
          }
        },
        "138e4b5799de4f0f99edad858b74c5a4": {
          "model_module": "@jupyter-widgets/controls",
          "model_name": "FloatProgressModel",
          "model_module_version": "1.5.0",
          "state": {
            "_dom_classes": [],
            "_model_module": "@jupyter-widgets/controls",
            "_model_module_version": "1.5.0",
            "_model_name": "FloatProgressModel",
            "_view_count": null,
            "_view_module": "@jupyter-widgets/controls",
            "_view_module_version": "1.5.0",
            "_view_name": "ProgressView",
            "bar_style": "success",
            "description": "",
            "description_tooltip": null,
            "layout": "IPY_MODEL_49672f03bee34fc99e618ed43dd17f45",
            "max": 1000,
            "min": 0,
            "orientation": "horizontal",
            "style": "IPY_MODEL_0de84dc92a824ae5a320dcbbfc44ea7b",
            "value": 1000
          }
        },
        "7ba7a5b744b24df397d514b3da929014": {
          "model_module": "@jupyter-widgets/controls",
          "model_name": "HTMLModel",
          "model_module_version": "1.5.0",
          "state": {
            "_dom_classes": [],
            "_model_module": "@jupyter-widgets/controls",
            "_model_module_version": "1.5.0",
            "_model_name": "HTMLModel",
            "_view_count": null,
            "_view_module": "@jupyter-widgets/controls",
            "_view_module_version": "1.5.0",
            "_view_name": "HTMLView",
            "description": "",
            "description_tooltip": null,
            "layout": "IPY_MODEL_18f80a21a2534fcea77f27507ab06674",
            "placeholder": "​",
            "style": "IPY_MODEL_f82b2b78957740a58e98246b45d370c1",
            "value": " 1000/1000 [00:52&lt;00:00, 15.96it/s]"
          }
        },
        "791a074163db4bb99894f4bae2cb23a5": {
          "model_module": "@jupyter-widgets/base",
          "model_name": "LayoutModel",
          "model_module_version": "1.2.0",
          "state": {
            "_model_module": "@jupyter-widgets/base",
            "_model_module_version": "1.2.0",
            "_model_name": "LayoutModel",
            "_view_count": null,
            "_view_module": "@jupyter-widgets/base",
            "_view_module_version": "1.2.0",
            "_view_name": "LayoutView",
            "align_content": null,
            "align_items": null,
            "align_self": null,
            "border": null,
            "bottom": null,
            "display": null,
            "flex": null,
            "flex_flow": null,
            "grid_area": null,
            "grid_auto_columns": null,
            "grid_auto_flow": null,
            "grid_auto_rows": null,
            "grid_column": null,
            "grid_gap": null,
            "grid_row": null,
            "grid_template_areas": null,
            "grid_template_columns": null,
            "grid_template_rows": null,
            "height": null,
            "justify_content": null,
            "justify_items": null,
            "left": null,
            "margin": null,
            "max_height": null,
            "max_width": null,
            "min_height": null,
            "min_width": null,
            "object_fit": null,
            "object_position": null,
            "order": null,
            "overflow": null,
            "overflow_x": null,
            "overflow_y": null,
            "padding": null,
            "right": null,
            "top": null,
            "visibility": null,
            "width": null
          }
        },
        "3a468a64ea12467eb0974fb996748c2d": {
          "model_module": "@jupyter-widgets/base",
          "model_name": "LayoutModel",
          "model_module_version": "1.2.0",
          "state": {
            "_model_module": "@jupyter-widgets/base",
            "_model_module_version": "1.2.0",
            "_model_name": "LayoutModel",
            "_view_count": null,
            "_view_module": "@jupyter-widgets/base",
            "_view_module_version": "1.2.0",
            "_view_name": "LayoutView",
            "align_content": null,
            "align_items": null,
            "align_self": null,
            "border": null,
            "bottom": null,
            "display": null,
            "flex": null,
            "flex_flow": null,
            "grid_area": null,
            "grid_auto_columns": null,
            "grid_auto_flow": null,
            "grid_auto_rows": null,
            "grid_column": null,
            "grid_gap": null,
            "grid_row": null,
            "grid_template_areas": null,
            "grid_template_columns": null,
            "grid_template_rows": null,
            "height": null,
            "justify_content": null,
            "justify_items": null,
            "left": null,
            "margin": null,
            "max_height": null,
            "max_width": null,
            "min_height": null,
            "min_width": null,
            "object_fit": null,
            "object_position": null,
            "order": null,
            "overflow": null,
            "overflow_x": null,
            "overflow_y": null,
            "padding": null,
            "right": null,
            "top": null,
            "visibility": null,
            "width": null
          }
        },
        "21076e064c23488a81248910a215c953": {
          "model_module": "@jupyter-widgets/controls",
          "model_name": "DescriptionStyleModel",
          "model_module_version": "1.5.0",
          "state": {
            "_model_module": "@jupyter-widgets/controls",
            "_model_module_version": "1.5.0",
            "_model_name": "DescriptionStyleModel",
            "_view_count": null,
            "_view_module": "@jupyter-widgets/base",
            "_view_module_version": "1.2.0",
            "_view_name": "StyleView",
            "description_width": ""
          }
        },
        "49672f03bee34fc99e618ed43dd17f45": {
          "model_module": "@jupyter-widgets/base",
          "model_name": "LayoutModel",
          "model_module_version": "1.2.0",
          "state": {
            "_model_module": "@jupyter-widgets/base",
            "_model_module_version": "1.2.0",
            "_model_name": "LayoutModel",
            "_view_count": null,
            "_view_module": "@jupyter-widgets/base",
            "_view_module_version": "1.2.0",
            "_view_name": "LayoutView",
            "align_content": null,
            "align_items": null,
            "align_self": null,
            "border": null,
            "bottom": null,
            "display": null,
            "flex": null,
            "flex_flow": null,
            "grid_area": null,
            "grid_auto_columns": null,
            "grid_auto_flow": null,
            "grid_auto_rows": null,
            "grid_column": null,
            "grid_gap": null,
            "grid_row": null,
            "grid_template_areas": null,
            "grid_template_columns": null,
            "grid_template_rows": null,
            "height": null,
            "justify_content": null,
            "justify_items": null,
            "left": null,
            "margin": null,
            "max_height": null,
            "max_width": null,
            "min_height": null,
            "min_width": null,
            "object_fit": null,
            "object_position": null,
            "order": null,
            "overflow": null,
            "overflow_x": null,
            "overflow_y": null,
            "padding": null,
            "right": null,
            "top": null,
            "visibility": null,
            "width": null
          }
        },
        "0de84dc92a824ae5a320dcbbfc44ea7b": {
          "model_module": "@jupyter-widgets/controls",
          "model_name": "ProgressStyleModel",
          "model_module_version": "1.5.0",
          "state": {
            "_model_module": "@jupyter-widgets/controls",
            "_model_module_version": "1.5.0",
            "_model_name": "ProgressStyleModel",
            "_view_count": null,
            "_view_module": "@jupyter-widgets/base",
            "_view_module_version": "1.2.0",
            "_view_name": "StyleView",
            "bar_color": null,
            "description_width": ""
          }
        },
        "18f80a21a2534fcea77f27507ab06674": {
          "model_module": "@jupyter-widgets/base",
          "model_name": "LayoutModel",
          "model_module_version": "1.2.0",
          "state": {
            "_model_module": "@jupyter-widgets/base",
            "_model_module_version": "1.2.0",
            "_model_name": "LayoutModel",
            "_view_count": null,
            "_view_module": "@jupyter-widgets/base",
            "_view_module_version": "1.2.0",
            "_view_name": "LayoutView",
            "align_content": null,
            "align_items": null,
            "align_self": null,
            "border": null,
            "bottom": null,
            "display": null,
            "flex": null,
            "flex_flow": null,
            "grid_area": null,
            "grid_auto_columns": null,
            "grid_auto_flow": null,
            "grid_auto_rows": null,
            "grid_column": null,
            "grid_gap": null,
            "grid_row": null,
            "grid_template_areas": null,
            "grid_template_columns": null,
            "grid_template_rows": null,
            "height": null,
            "justify_content": null,
            "justify_items": null,
            "left": null,
            "margin": null,
            "max_height": null,
            "max_width": null,
            "min_height": null,
            "min_width": null,
            "object_fit": null,
            "object_position": null,
            "order": null,
            "overflow": null,
            "overflow_x": null,
            "overflow_y": null,
            "padding": null,
            "right": null,
            "top": null,
            "visibility": null,
            "width": null
          }
        },
        "f82b2b78957740a58e98246b45d370c1": {
          "model_module": "@jupyter-widgets/controls",
          "model_name": "DescriptionStyleModel",
          "model_module_version": "1.5.0",
          "state": {
            "_model_module": "@jupyter-widgets/controls",
            "_model_module_version": "1.5.0",
            "_model_name": "DescriptionStyleModel",
            "_view_count": null,
            "_view_module": "@jupyter-widgets/base",
            "_view_module_version": "1.2.0",
            "_view_name": "StyleView",
            "description_width": ""
          }
        },
        "4513915b144a427994706c7c82b2ebb2": {
          "model_module": "@jupyter-widgets/controls",
          "model_name": "HBoxModel",
          "model_module_version": "1.5.0",
          "state": {
            "_dom_classes": [],
            "_model_module": "@jupyter-widgets/controls",
            "_model_module_version": "1.5.0",
            "_model_name": "HBoxModel",
            "_view_count": null,
            "_view_module": "@jupyter-widgets/controls",
            "_view_module_version": "1.5.0",
            "_view_name": "HBoxView",
            "box_style": "",
            "children": [
              "IPY_MODEL_58976b84e32149c287ca0515859d11b0",
              "IPY_MODEL_6c8d165d750b4b10bd9e29da29834497",
              "IPY_MODEL_7278a78a05c044b19607e96928f3459c"
            ],
            "layout": "IPY_MODEL_223a388617844164bf5dbf1b41dd3ebc"
          }
        },
        "58976b84e32149c287ca0515859d11b0": {
          "model_module": "@jupyter-widgets/controls",
          "model_name": "HTMLModel",
          "model_module_version": "1.5.0",
          "state": {
            "_dom_classes": [],
            "_model_module": "@jupyter-widgets/controls",
            "_model_module_version": "1.5.0",
            "_model_name": "HTMLModel",
            "_view_count": null,
            "_view_module": "@jupyter-widgets/controls",
            "_view_module_version": "1.5.0",
            "_view_name": "HTMLView",
            "description": "",
            "description_tooltip": null,
            "layout": "IPY_MODEL_5e4bda4a042c476d86caab4b8faeac66",
            "placeholder": "​",
            "style": "IPY_MODEL_ea784221bd334889b7e1d488eb1f72e7",
            "value": "100%"
          }
        },
        "6c8d165d750b4b10bd9e29da29834497": {
          "model_module": "@jupyter-widgets/controls",
          "model_name": "FloatProgressModel",
          "model_module_version": "1.5.0",
          "state": {
            "_dom_classes": [],
            "_model_module": "@jupyter-widgets/controls",
            "_model_module_version": "1.5.0",
            "_model_name": "FloatProgressModel",
            "_view_count": null,
            "_view_module": "@jupyter-widgets/controls",
            "_view_module_version": "1.5.0",
            "_view_name": "ProgressView",
            "bar_style": "success",
            "description": "",
            "description_tooltip": null,
            "layout": "IPY_MODEL_2c5cc15faa2e4b5f9bb4084b9349b0f9",
            "max": 1000,
            "min": 0,
            "orientation": "horizontal",
            "style": "IPY_MODEL_6cd7255f1ab84169b00c0f757fd3c8be",
            "value": 1000
          }
        },
        "7278a78a05c044b19607e96928f3459c": {
          "model_module": "@jupyter-widgets/controls",
          "model_name": "HTMLModel",
          "model_module_version": "1.5.0",
          "state": {
            "_dom_classes": [],
            "_model_module": "@jupyter-widgets/controls",
            "_model_module_version": "1.5.0",
            "_model_name": "HTMLModel",
            "_view_count": null,
            "_view_module": "@jupyter-widgets/controls",
            "_view_module_version": "1.5.0",
            "_view_name": "HTMLView",
            "description": "",
            "description_tooltip": null,
            "layout": "IPY_MODEL_7097a30292f74439a340e687032f9bb1",
            "placeholder": "​",
            "style": "IPY_MODEL_6b03f3ac4383423dba8eae829d0355a7",
            "value": " 1000/1000 [00:00&lt;00:00, 1802.92it/s]"
          }
        },
        "223a388617844164bf5dbf1b41dd3ebc": {
          "model_module": "@jupyter-widgets/base",
          "model_name": "LayoutModel",
          "model_module_version": "1.2.0",
          "state": {
            "_model_module": "@jupyter-widgets/base",
            "_model_module_version": "1.2.0",
            "_model_name": "LayoutModel",
            "_view_count": null,
            "_view_module": "@jupyter-widgets/base",
            "_view_module_version": "1.2.0",
            "_view_name": "LayoutView",
            "align_content": null,
            "align_items": null,
            "align_self": null,
            "border": null,
            "bottom": null,
            "display": null,
            "flex": null,
            "flex_flow": null,
            "grid_area": null,
            "grid_auto_columns": null,
            "grid_auto_flow": null,
            "grid_auto_rows": null,
            "grid_column": null,
            "grid_gap": null,
            "grid_row": null,
            "grid_template_areas": null,
            "grid_template_columns": null,
            "grid_template_rows": null,
            "height": null,
            "justify_content": null,
            "justify_items": null,
            "left": null,
            "margin": null,
            "max_height": null,
            "max_width": null,
            "min_height": null,
            "min_width": null,
            "object_fit": null,
            "object_position": null,
            "order": null,
            "overflow": null,
            "overflow_x": null,
            "overflow_y": null,
            "padding": null,
            "right": null,
            "top": null,
            "visibility": null,
            "width": null
          }
        },
        "5e4bda4a042c476d86caab4b8faeac66": {
          "model_module": "@jupyter-widgets/base",
          "model_name": "LayoutModel",
          "model_module_version": "1.2.0",
          "state": {
            "_model_module": "@jupyter-widgets/base",
            "_model_module_version": "1.2.0",
            "_model_name": "LayoutModel",
            "_view_count": null,
            "_view_module": "@jupyter-widgets/base",
            "_view_module_version": "1.2.0",
            "_view_name": "LayoutView",
            "align_content": null,
            "align_items": null,
            "align_self": null,
            "border": null,
            "bottom": null,
            "display": null,
            "flex": null,
            "flex_flow": null,
            "grid_area": null,
            "grid_auto_columns": null,
            "grid_auto_flow": null,
            "grid_auto_rows": null,
            "grid_column": null,
            "grid_gap": null,
            "grid_row": null,
            "grid_template_areas": null,
            "grid_template_columns": null,
            "grid_template_rows": null,
            "height": null,
            "justify_content": null,
            "justify_items": null,
            "left": null,
            "margin": null,
            "max_height": null,
            "max_width": null,
            "min_height": null,
            "min_width": null,
            "object_fit": null,
            "object_position": null,
            "order": null,
            "overflow": null,
            "overflow_x": null,
            "overflow_y": null,
            "padding": null,
            "right": null,
            "top": null,
            "visibility": null,
            "width": null
          }
        },
        "ea784221bd334889b7e1d488eb1f72e7": {
          "model_module": "@jupyter-widgets/controls",
          "model_name": "DescriptionStyleModel",
          "model_module_version": "1.5.0",
          "state": {
            "_model_module": "@jupyter-widgets/controls",
            "_model_module_version": "1.5.0",
            "_model_name": "DescriptionStyleModel",
            "_view_count": null,
            "_view_module": "@jupyter-widgets/base",
            "_view_module_version": "1.2.0",
            "_view_name": "StyleView",
            "description_width": ""
          }
        },
        "2c5cc15faa2e4b5f9bb4084b9349b0f9": {
          "model_module": "@jupyter-widgets/base",
          "model_name": "LayoutModel",
          "model_module_version": "1.2.0",
          "state": {
            "_model_module": "@jupyter-widgets/base",
            "_model_module_version": "1.2.0",
            "_model_name": "LayoutModel",
            "_view_count": null,
            "_view_module": "@jupyter-widgets/base",
            "_view_module_version": "1.2.0",
            "_view_name": "LayoutView",
            "align_content": null,
            "align_items": null,
            "align_self": null,
            "border": null,
            "bottom": null,
            "display": null,
            "flex": null,
            "flex_flow": null,
            "grid_area": null,
            "grid_auto_columns": null,
            "grid_auto_flow": null,
            "grid_auto_rows": null,
            "grid_column": null,
            "grid_gap": null,
            "grid_row": null,
            "grid_template_areas": null,
            "grid_template_columns": null,
            "grid_template_rows": null,
            "height": null,
            "justify_content": null,
            "justify_items": null,
            "left": null,
            "margin": null,
            "max_height": null,
            "max_width": null,
            "min_height": null,
            "min_width": null,
            "object_fit": null,
            "object_position": null,
            "order": null,
            "overflow": null,
            "overflow_x": null,
            "overflow_y": null,
            "padding": null,
            "right": null,
            "top": null,
            "visibility": null,
            "width": null
          }
        },
        "6cd7255f1ab84169b00c0f757fd3c8be": {
          "model_module": "@jupyter-widgets/controls",
          "model_name": "ProgressStyleModel",
          "model_module_version": "1.5.0",
          "state": {
            "_model_module": "@jupyter-widgets/controls",
            "_model_module_version": "1.5.0",
            "_model_name": "ProgressStyleModel",
            "_view_count": null,
            "_view_module": "@jupyter-widgets/base",
            "_view_module_version": "1.2.0",
            "_view_name": "StyleView",
            "bar_color": null,
            "description_width": ""
          }
        },
        "7097a30292f74439a340e687032f9bb1": {
          "model_module": "@jupyter-widgets/base",
          "model_name": "LayoutModel",
          "model_module_version": "1.2.0",
          "state": {
            "_model_module": "@jupyter-widgets/base",
            "_model_module_version": "1.2.0",
            "_model_name": "LayoutModel",
            "_view_count": null,
            "_view_module": "@jupyter-widgets/base",
            "_view_module_version": "1.2.0",
            "_view_name": "LayoutView",
            "align_content": null,
            "align_items": null,
            "align_self": null,
            "border": null,
            "bottom": null,
            "display": null,
            "flex": null,
            "flex_flow": null,
            "grid_area": null,
            "grid_auto_columns": null,
            "grid_auto_flow": null,
            "grid_auto_rows": null,
            "grid_column": null,
            "grid_gap": null,
            "grid_row": null,
            "grid_template_areas": null,
            "grid_template_columns": null,
            "grid_template_rows": null,
            "height": null,
            "justify_content": null,
            "justify_items": null,
            "left": null,
            "margin": null,
            "max_height": null,
            "max_width": null,
            "min_height": null,
            "min_width": null,
            "object_fit": null,
            "object_position": null,
            "order": null,
            "overflow": null,
            "overflow_x": null,
            "overflow_y": null,
            "padding": null,
            "right": null,
            "top": null,
            "visibility": null,
            "width": null
          }
        },
        "6b03f3ac4383423dba8eae829d0355a7": {
          "model_module": "@jupyter-widgets/controls",
          "model_name": "DescriptionStyleModel",
          "model_module_version": "1.5.0",
          "state": {
            "_model_module": "@jupyter-widgets/controls",
            "_model_module_version": "1.5.0",
            "_model_name": "DescriptionStyleModel",
            "_view_count": null,
            "_view_module": "@jupyter-widgets/base",
            "_view_module_version": "1.2.0",
            "_view_name": "StyleView",
            "description_width": ""
          }
        },
        "36d97f4c77924ce2a412d374df5851dc": {
          "model_module": "@jupyter-widgets/controls",
          "model_name": "HBoxModel",
          "model_module_version": "1.5.0",
          "state": {
            "_dom_classes": [],
            "_model_module": "@jupyter-widgets/controls",
            "_model_module_version": "1.5.0",
            "_model_name": "HBoxModel",
            "_view_count": null,
            "_view_module": "@jupyter-widgets/controls",
            "_view_module_version": "1.5.0",
            "_view_name": "HBoxView",
            "box_style": "",
            "children": [
              "IPY_MODEL_887fa2efc3724838b032f18f49ab56f1",
              "IPY_MODEL_4d07cf9d789840839bf7b9fd37fac3be",
              "IPY_MODEL_24069e61ffe74467b07a879d5f1eca6f"
            ],
            "layout": "IPY_MODEL_4e5c1aa3d23348e0b4250eb56fd3725c"
          }
        },
        "887fa2efc3724838b032f18f49ab56f1": {
          "model_module": "@jupyter-widgets/controls",
          "model_name": "HTMLModel",
          "model_module_version": "1.5.0",
          "state": {
            "_dom_classes": [],
            "_model_module": "@jupyter-widgets/controls",
            "_model_module_version": "1.5.0",
            "_model_name": "HTMLModel",
            "_view_count": null,
            "_view_module": "@jupyter-widgets/controls",
            "_view_module_version": "1.5.0",
            "_view_name": "HTMLView",
            "description": "",
            "description_tooltip": null,
            "layout": "IPY_MODEL_b9e61fd44c594006a6307d8246ef840f",
            "placeholder": "​",
            "style": "IPY_MODEL_c31c2cc9cb9942f489dc0bd22bce4629",
            "value": "100%"
          }
        },
        "4d07cf9d789840839bf7b9fd37fac3be": {
          "model_module": "@jupyter-widgets/controls",
          "model_name": "FloatProgressModel",
          "model_module_version": "1.5.0",
          "state": {
            "_dom_classes": [],
            "_model_module": "@jupyter-widgets/controls",
            "_model_module_version": "1.5.0",
            "_model_name": "FloatProgressModel",
            "_view_count": null,
            "_view_module": "@jupyter-widgets/controls",
            "_view_module_version": "1.5.0",
            "_view_name": "ProgressView",
            "bar_style": "success",
            "description": "",
            "description_tooltip": null,
            "layout": "IPY_MODEL_5f0b2c5920fc40c2bcf702c59d9d189c",
            "max": 1000,
            "min": 0,
            "orientation": "horizontal",
            "style": "IPY_MODEL_8ef3efefce734578a207c01ca25972b8",
            "value": 1000
          }
        },
        "24069e61ffe74467b07a879d5f1eca6f": {
          "model_module": "@jupyter-widgets/controls",
          "model_name": "HTMLModel",
          "model_module_version": "1.5.0",
          "state": {
            "_dom_classes": [],
            "_model_module": "@jupyter-widgets/controls",
            "_model_module_version": "1.5.0",
            "_model_name": "HTMLModel",
            "_view_count": null,
            "_view_module": "@jupyter-widgets/controls",
            "_view_module_version": "1.5.0",
            "_view_name": "HTMLView",
            "description": "",
            "description_tooltip": null,
            "layout": "IPY_MODEL_ac8ff1a792024db3aff5bd9427f1ac9b",
            "placeholder": "​",
            "style": "IPY_MODEL_509e48a81b554292b9e06f40455fc2fb",
            "value": " 1000/1000 [00:00&lt;00:00, 2388.91it/s]"
          }
        },
        "4e5c1aa3d23348e0b4250eb56fd3725c": {
          "model_module": "@jupyter-widgets/base",
          "model_name": "LayoutModel",
          "model_module_version": "1.2.0",
          "state": {
            "_model_module": "@jupyter-widgets/base",
            "_model_module_version": "1.2.0",
            "_model_name": "LayoutModel",
            "_view_count": null,
            "_view_module": "@jupyter-widgets/base",
            "_view_module_version": "1.2.0",
            "_view_name": "LayoutView",
            "align_content": null,
            "align_items": null,
            "align_self": null,
            "border": null,
            "bottom": null,
            "display": null,
            "flex": null,
            "flex_flow": null,
            "grid_area": null,
            "grid_auto_columns": null,
            "grid_auto_flow": null,
            "grid_auto_rows": null,
            "grid_column": null,
            "grid_gap": null,
            "grid_row": null,
            "grid_template_areas": null,
            "grid_template_columns": null,
            "grid_template_rows": null,
            "height": null,
            "justify_content": null,
            "justify_items": null,
            "left": null,
            "margin": null,
            "max_height": null,
            "max_width": null,
            "min_height": null,
            "min_width": null,
            "object_fit": null,
            "object_position": null,
            "order": null,
            "overflow": null,
            "overflow_x": null,
            "overflow_y": null,
            "padding": null,
            "right": null,
            "top": null,
            "visibility": null,
            "width": null
          }
        },
        "b9e61fd44c594006a6307d8246ef840f": {
          "model_module": "@jupyter-widgets/base",
          "model_name": "LayoutModel",
          "model_module_version": "1.2.0",
          "state": {
            "_model_module": "@jupyter-widgets/base",
            "_model_module_version": "1.2.0",
            "_model_name": "LayoutModel",
            "_view_count": null,
            "_view_module": "@jupyter-widgets/base",
            "_view_module_version": "1.2.0",
            "_view_name": "LayoutView",
            "align_content": null,
            "align_items": null,
            "align_self": null,
            "border": null,
            "bottom": null,
            "display": null,
            "flex": null,
            "flex_flow": null,
            "grid_area": null,
            "grid_auto_columns": null,
            "grid_auto_flow": null,
            "grid_auto_rows": null,
            "grid_column": null,
            "grid_gap": null,
            "grid_row": null,
            "grid_template_areas": null,
            "grid_template_columns": null,
            "grid_template_rows": null,
            "height": null,
            "justify_content": null,
            "justify_items": null,
            "left": null,
            "margin": null,
            "max_height": null,
            "max_width": null,
            "min_height": null,
            "min_width": null,
            "object_fit": null,
            "object_position": null,
            "order": null,
            "overflow": null,
            "overflow_x": null,
            "overflow_y": null,
            "padding": null,
            "right": null,
            "top": null,
            "visibility": null,
            "width": null
          }
        },
        "c31c2cc9cb9942f489dc0bd22bce4629": {
          "model_module": "@jupyter-widgets/controls",
          "model_name": "DescriptionStyleModel",
          "model_module_version": "1.5.0",
          "state": {
            "_model_module": "@jupyter-widgets/controls",
            "_model_module_version": "1.5.0",
            "_model_name": "DescriptionStyleModel",
            "_view_count": null,
            "_view_module": "@jupyter-widgets/base",
            "_view_module_version": "1.2.0",
            "_view_name": "StyleView",
            "description_width": ""
          }
        },
        "5f0b2c5920fc40c2bcf702c59d9d189c": {
          "model_module": "@jupyter-widgets/base",
          "model_name": "LayoutModel",
          "model_module_version": "1.2.0",
          "state": {
            "_model_module": "@jupyter-widgets/base",
            "_model_module_version": "1.2.0",
            "_model_name": "LayoutModel",
            "_view_count": null,
            "_view_module": "@jupyter-widgets/base",
            "_view_module_version": "1.2.0",
            "_view_name": "LayoutView",
            "align_content": null,
            "align_items": null,
            "align_self": null,
            "border": null,
            "bottom": null,
            "display": null,
            "flex": null,
            "flex_flow": null,
            "grid_area": null,
            "grid_auto_columns": null,
            "grid_auto_flow": null,
            "grid_auto_rows": null,
            "grid_column": null,
            "grid_gap": null,
            "grid_row": null,
            "grid_template_areas": null,
            "grid_template_columns": null,
            "grid_template_rows": null,
            "height": null,
            "justify_content": null,
            "justify_items": null,
            "left": null,
            "margin": null,
            "max_height": null,
            "max_width": null,
            "min_height": null,
            "min_width": null,
            "object_fit": null,
            "object_position": null,
            "order": null,
            "overflow": null,
            "overflow_x": null,
            "overflow_y": null,
            "padding": null,
            "right": null,
            "top": null,
            "visibility": null,
            "width": null
          }
        },
        "8ef3efefce734578a207c01ca25972b8": {
          "model_module": "@jupyter-widgets/controls",
          "model_name": "ProgressStyleModel",
          "model_module_version": "1.5.0",
          "state": {
            "_model_module": "@jupyter-widgets/controls",
            "_model_module_version": "1.5.0",
            "_model_name": "ProgressStyleModel",
            "_view_count": null,
            "_view_module": "@jupyter-widgets/base",
            "_view_module_version": "1.2.0",
            "_view_name": "StyleView",
            "bar_color": null,
            "description_width": ""
          }
        },
        "ac8ff1a792024db3aff5bd9427f1ac9b": {
          "model_module": "@jupyter-widgets/base",
          "model_name": "LayoutModel",
          "model_module_version": "1.2.0",
          "state": {
            "_model_module": "@jupyter-widgets/base",
            "_model_module_version": "1.2.0",
            "_model_name": "LayoutModel",
            "_view_count": null,
            "_view_module": "@jupyter-widgets/base",
            "_view_module_version": "1.2.0",
            "_view_name": "LayoutView",
            "align_content": null,
            "align_items": null,
            "align_self": null,
            "border": null,
            "bottom": null,
            "display": null,
            "flex": null,
            "flex_flow": null,
            "grid_area": null,
            "grid_auto_columns": null,
            "grid_auto_flow": null,
            "grid_auto_rows": null,
            "grid_column": null,
            "grid_gap": null,
            "grid_row": null,
            "grid_template_areas": null,
            "grid_template_columns": null,
            "grid_template_rows": null,
            "height": null,
            "justify_content": null,
            "justify_items": null,
            "left": null,
            "margin": null,
            "max_height": null,
            "max_width": null,
            "min_height": null,
            "min_width": null,
            "object_fit": null,
            "object_position": null,
            "order": null,
            "overflow": null,
            "overflow_x": null,
            "overflow_y": null,
            "padding": null,
            "right": null,
            "top": null,
            "visibility": null,
            "width": null
          }
        },
        "509e48a81b554292b9e06f40455fc2fb": {
          "model_module": "@jupyter-widgets/controls",
          "model_name": "DescriptionStyleModel",
          "model_module_version": "1.5.0",
          "state": {
            "_model_module": "@jupyter-widgets/controls",
            "_model_module_version": "1.5.0",
            "_model_name": "DescriptionStyleModel",
            "_view_count": null,
            "_view_module": "@jupyter-widgets/base",
            "_view_module_version": "1.2.0",
            "_view_name": "StyleView",
            "description_width": ""
          }
        },
        "b7f9b1a50ce24f3da8643562bd83ffd9": {
          "model_module": "@jupyter-widgets/controls",
          "model_name": "HBoxModel",
          "model_module_version": "1.5.0",
          "state": {
            "_dom_classes": [],
            "_model_module": "@jupyter-widgets/controls",
            "_model_module_version": "1.5.0",
            "_model_name": "HBoxModel",
            "_view_count": null,
            "_view_module": "@jupyter-widgets/controls",
            "_view_module_version": "1.5.0",
            "_view_name": "HBoxView",
            "box_style": "",
            "children": [
              "IPY_MODEL_5c13a4308ba44649933f6e817046aa59",
              "IPY_MODEL_1fdd1c6b0a7f44c3b834ac7acde9ecdd",
              "IPY_MODEL_c4c7ae2a7d7446fcb0c33b40e2b05909"
            ],
            "layout": "IPY_MODEL_0b6c55e04b61492ea5760f77792aacb5"
          }
        },
        "5c13a4308ba44649933f6e817046aa59": {
          "model_module": "@jupyter-widgets/controls",
          "model_name": "HTMLModel",
          "model_module_version": "1.5.0",
          "state": {
            "_dom_classes": [],
            "_model_module": "@jupyter-widgets/controls",
            "_model_module_version": "1.5.0",
            "_model_name": "HTMLModel",
            "_view_count": null,
            "_view_module": "@jupyter-widgets/controls",
            "_view_module_version": "1.5.0",
            "_view_name": "HTMLView",
            "description": "",
            "description_tooltip": null,
            "layout": "IPY_MODEL_843960c763f74f2cbe52def476b29b9a",
            "placeholder": "​",
            "style": "IPY_MODEL_d2447079919f47e69239581c085b18e7",
            "value": "100%"
          }
        },
        "1fdd1c6b0a7f44c3b834ac7acde9ecdd": {
          "model_module": "@jupyter-widgets/controls",
          "model_name": "FloatProgressModel",
          "model_module_version": "1.5.0",
          "state": {
            "_dom_classes": [],
            "_model_module": "@jupyter-widgets/controls",
            "_model_module_version": "1.5.0",
            "_model_name": "FloatProgressModel",
            "_view_count": null,
            "_view_module": "@jupyter-widgets/controls",
            "_view_module_version": "1.5.0",
            "_view_name": "ProgressView",
            "bar_style": "success",
            "description": "",
            "description_tooltip": null,
            "layout": "IPY_MODEL_89bc928c541a48e1b9973cd272fc1f21",
            "max": 1000,
            "min": 0,
            "orientation": "horizontal",
            "style": "IPY_MODEL_06eaeda42357477396a0bd23a9149752",
            "value": 1000
          }
        },
        "c4c7ae2a7d7446fcb0c33b40e2b05909": {
          "model_module": "@jupyter-widgets/controls",
          "model_name": "HTMLModel",
          "model_module_version": "1.5.0",
          "state": {
            "_dom_classes": [],
            "_model_module": "@jupyter-widgets/controls",
            "_model_module_version": "1.5.0",
            "_model_name": "HTMLModel",
            "_view_count": null,
            "_view_module": "@jupyter-widgets/controls",
            "_view_module_version": "1.5.0",
            "_view_name": "HTMLView",
            "description": "",
            "description_tooltip": null,
            "layout": "IPY_MODEL_fb286f21bf5e47ebac20f9f19cf09f56",
            "placeholder": "​",
            "style": "IPY_MODEL_19fed0b0e7b54855ad42ea5195fa4eb4",
            "value": " 1000/1000 [00:00&lt;00:00, 2075.73it/s]"
          }
        },
        "0b6c55e04b61492ea5760f77792aacb5": {
          "model_module": "@jupyter-widgets/base",
          "model_name": "LayoutModel",
          "model_module_version": "1.2.0",
          "state": {
            "_model_module": "@jupyter-widgets/base",
            "_model_module_version": "1.2.0",
            "_model_name": "LayoutModel",
            "_view_count": null,
            "_view_module": "@jupyter-widgets/base",
            "_view_module_version": "1.2.0",
            "_view_name": "LayoutView",
            "align_content": null,
            "align_items": null,
            "align_self": null,
            "border": null,
            "bottom": null,
            "display": null,
            "flex": null,
            "flex_flow": null,
            "grid_area": null,
            "grid_auto_columns": null,
            "grid_auto_flow": null,
            "grid_auto_rows": null,
            "grid_column": null,
            "grid_gap": null,
            "grid_row": null,
            "grid_template_areas": null,
            "grid_template_columns": null,
            "grid_template_rows": null,
            "height": null,
            "justify_content": null,
            "justify_items": null,
            "left": null,
            "margin": null,
            "max_height": null,
            "max_width": null,
            "min_height": null,
            "min_width": null,
            "object_fit": null,
            "object_position": null,
            "order": null,
            "overflow": null,
            "overflow_x": null,
            "overflow_y": null,
            "padding": null,
            "right": null,
            "top": null,
            "visibility": null,
            "width": null
          }
        },
        "843960c763f74f2cbe52def476b29b9a": {
          "model_module": "@jupyter-widgets/base",
          "model_name": "LayoutModel",
          "model_module_version": "1.2.0",
          "state": {
            "_model_module": "@jupyter-widgets/base",
            "_model_module_version": "1.2.0",
            "_model_name": "LayoutModel",
            "_view_count": null,
            "_view_module": "@jupyter-widgets/base",
            "_view_module_version": "1.2.0",
            "_view_name": "LayoutView",
            "align_content": null,
            "align_items": null,
            "align_self": null,
            "border": null,
            "bottom": null,
            "display": null,
            "flex": null,
            "flex_flow": null,
            "grid_area": null,
            "grid_auto_columns": null,
            "grid_auto_flow": null,
            "grid_auto_rows": null,
            "grid_column": null,
            "grid_gap": null,
            "grid_row": null,
            "grid_template_areas": null,
            "grid_template_columns": null,
            "grid_template_rows": null,
            "height": null,
            "justify_content": null,
            "justify_items": null,
            "left": null,
            "margin": null,
            "max_height": null,
            "max_width": null,
            "min_height": null,
            "min_width": null,
            "object_fit": null,
            "object_position": null,
            "order": null,
            "overflow": null,
            "overflow_x": null,
            "overflow_y": null,
            "padding": null,
            "right": null,
            "top": null,
            "visibility": null,
            "width": null
          }
        },
        "d2447079919f47e69239581c085b18e7": {
          "model_module": "@jupyter-widgets/controls",
          "model_name": "DescriptionStyleModel",
          "model_module_version": "1.5.0",
          "state": {
            "_model_module": "@jupyter-widgets/controls",
            "_model_module_version": "1.5.0",
            "_model_name": "DescriptionStyleModel",
            "_view_count": null,
            "_view_module": "@jupyter-widgets/base",
            "_view_module_version": "1.2.0",
            "_view_name": "StyleView",
            "description_width": ""
          }
        },
        "89bc928c541a48e1b9973cd272fc1f21": {
          "model_module": "@jupyter-widgets/base",
          "model_name": "LayoutModel",
          "model_module_version": "1.2.0",
          "state": {
            "_model_module": "@jupyter-widgets/base",
            "_model_module_version": "1.2.0",
            "_model_name": "LayoutModel",
            "_view_count": null,
            "_view_module": "@jupyter-widgets/base",
            "_view_module_version": "1.2.0",
            "_view_name": "LayoutView",
            "align_content": null,
            "align_items": null,
            "align_self": null,
            "border": null,
            "bottom": null,
            "display": null,
            "flex": null,
            "flex_flow": null,
            "grid_area": null,
            "grid_auto_columns": null,
            "grid_auto_flow": null,
            "grid_auto_rows": null,
            "grid_column": null,
            "grid_gap": null,
            "grid_row": null,
            "grid_template_areas": null,
            "grid_template_columns": null,
            "grid_template_rows": null,
            "height": null,
            "justify_content": null,
            "justify_items": null,
            "left": null,
            "margin": null,
            "max_height": null,
            "max_width": null,
            "min_height": null,
            "min_width": null,
            "object_fit": null,
            "object_position": null,
            "order": null,
            "overflow": null,
            "overflow_x": null,
            "overflow_y": null,
            "padding": null,
            "right": null,
            "top": null,
            "visibility": null,
            "width": null
          }
        },
        "06eaeda42357477396a0bd23a9149752": {
          "model_module": "@jupyter-widgets/controls",
          "model_name": "ProgressStyleModel",
          "model_module_version": "1.5.0",
          "state": {
            "_model_module": "@jupyter-widgets/controls",
            "_model_module_version": "1.5.0",
            "_model_name": "ProgressStyleModel",
            "_view_count": null,
            "_view_module": "@jupyter-widgets/base",
            "_view_module_version": "1.2.0",
            "_view_name": "StyleView",
            "bar_color": null,
            "description_width": ""
          }
        },
        "fb286f21bf5e47ebac20f9f19cf09f56": {
          "model_module": "@jupyter-widgets/base",
          "model_name": "LayoutModel",
          "model_module_version": "1.2.0",
          "state": {
            "_model_module": "@jupyter-widgets/base",
            "_model_module_version": "1.2.0",
            "_model_name": "LayoutModel",
            "_view_count": null,
            "_view_module": "@jupyter-widgets/base",
            "_view_module_version": "1.2.0",
            "_view_name": "LayoutView",
            "align_content": null,
            "align_items": null,
            "align_self": null,
            "border": null,
            "bottom": null,
            "display": null,
            "flex": null,
            "flex_flow": null,
            "grid_area": null,
            "grid_auto_columns": null,
            "grid_auto_flow": null,
            "grid_auto_rows": null,
            "grid_column": null,
            "grid_gap": null,
            "grid_row": null,
            "grid_template_areas": null,
            "grid_template_columns": null,
            "grid_template_rows": null,
            "height": null,
            "justify_content": null,
            "justify_items": null,
            "left": null,
            "margin": null,
            "max_height": null,
            "max_width": null,
            "min_height": null,
            "min_width": null,
            "object_fit": null,
            "object_position": null,
            "order": null,
            "overflow": null,
            "overflow_x": null,
            "overflow_y": null,
            "padding": null,
            "right": null,
            "top": null,
            "visibility": null,
            "width": null
          }
        },
        "19fed0b0e7b54855ad42ea5195fa4eb4": {
          "model_module": "@jupyter-widgets/controls",
          "model_name": "DescriptionStyleModel",
          "model_module_version": "1.5.0",
          "state": {
            "_model_module": "@jupyter-widgets/controls",
            "_model_module_version": "1.5.0",
            "_model_name": "DescriptionStyleModel",
            "_view_count": null,
            "_view_module": "@jupyter-widgets/base",
            "_view_module_version": "1.2.0",
            "_view_name": "StyleView",
            "description_width": ""
          }
        },
        "fe69d895bb32470e80b1752eb109067a": {
          "model_module": "@jupyter-widgets/controls",
          "model_name": "HBoxModel",
          "model_module_version": "1.5.0",
          "state": {
            "_dom_classes": [],
            "_model_module": "@jupyter-widgets/controls",
            "_model_module_version": "1.5.0",
            "_model_name": "HBoxModel",
            "_view_count": null,
            "_view_module": "@jupyter-widgets/controls",
            "_view_module_version": "1.5.0",
            "_view_name": "HBoxView",
            "box_style": "",
            "children": [
              "IPY_MODEL_cc96ea3d84f84cbc8cd61810081a6f78",
              "IPY_MODEL_e3cc756119a84b5f97e23df619d0dfb8",
              "IPY_MODEL_9637effafc8b4796b0f19aa12471606d"
            ],
            "layout": "IPY_MODEL_05edd563fb1448e5bee01c4bffa9144f"
          }
        },
        "cc96ea3d84f84cbc8cd61810081a6f78": {
          "model_module": "@jupyter-widgets/controls",
          "model_name": "HTMLModel",
          "model_module_version": "1.5.0",
          "state": {
            "_dom_classes": [],
            "_model_module": "@jupyter-widgets/controls",
            "_model_module_version": "1.5.0",
            "_model_name": "HTMLModel",
            "_view_count": null,
            "_view_module": "@jupyter-widgets/controls",
            "_view_module_version": "1.5.0",
            "_view_name": "HTMLView",
            "description": "",
            "description_tooltip": null,
            "layout": "IPY_MODEL_76fb3956b8f943b98a4dd7ee816f5f8b",
            "placeholder": "​",
            "style": "IPY_MODEL_9a350241f77f4dfcaaff4b5d164adf1d",
            "value": "100%"
          }
        },
        "e3cc756119a84b5f97e23df619d0dfb8": {
          "model_module": "@jupyter-widgets/controls",
          "model_name": "FloatProgressModel",
          "model_module_version": "1.5.0",
          "state": {
            "_dom_classes": [],
            "_model_module": "@jupyter-widgets/controls",
            "_model_module_version": "1.5.0",
            "_model_name": "FloatProgressModel",
            "_view_count": null,
            "_view_module": "@jupyter-widgets/controls",
            "_view_module_version": "1.5.0",
            "_view_name": "ProgressView",
            "bar_style": "success",
            "description": "",
            "description_tooltip": null,
            "layout": "IPY_MODEL_cf3501766c3e449a98d26a7aa2ca2280",
            "max": 1000,
            "min": 0,
            "orientation": "horizontal",
            "style": "IPY_MODEL_5e66cab4216a4796825519df9f707bf1",
            "value": 1000
          }
        },
        "9637effafc8b4796b0f19aa12471606d": {
          "model_module": "@jupyter-widgets/controls",
          "model_name": "HTMLModel",
          "model_module_version": "1.5.0",
          "state": {
            "_dom_classes": [],
            "_model_module": "@jupyter-widgets/controls",
            "_model_module_version": "1.5.0",
            "_model_name": "HTMLModel",
            "_view_count": null,
            "_view_module": "@jupyter-widgets/controls",
            "_view_module_version": "1.5.0",
            "_view_name": "HTMLView",
            "description": "",
            "description_tooltip": null,
            "layout": "IPY_MODEL_8fa2a067508d488bb92d636aff3edb97",
            "placeholder": "​",
            "style": "IPY_MODEL_c00376d9c7f845668dec87b29c7f0b4d",
            "value": " 1000/1000 [00:00&lt;00:00, 2400.03it/s]"
          }
        },
        "05edd563fb1448e5bee01c4bffa9144f": {
          "model_module": "@jupyter-widgets/base",
          "model_name": "LayoutModel",
          "model_module_version": "1.2.0",
          "state": {
            "_model_module": "@jupyter-widgets/base",
            "_model_module_version": "1.2.0",
            "_model_name": "LayoutModel",
            "_view_count": null,
            "_view_module": "@jupyter-widgets/base",
            "_view_module_version": "1.2.0",
            "_view_name": "LayoutView",
            "align_content": null,
            "align_items": null,
            "align_self": null,
            "border": null,
            "bottom": null,
            "display": null,
            "flex": null,
            "flex_flow": null,
            "grid_area": null,
            "grid_auto_columns": null,
            "grid_auto_flow": null,
            "grid_auto_rows": null,
            "grid_column": null,
            "grid_gap": null,
            "grid_row": null,
            "grid_template_areas": null,
            "grid_template_columns": null,
            "grid_template_rows": null,
            "height": null,
            "justify_content": null,
            "justify_items": null,
            "left": null,
            "margin": null,
            "max_height": null,
            "max_width": null,
            "min_height": null,
            "min_width": null,
            "object_fit": null,
            "object_position": null,
            "order": null,
            "overflow": null,
            "overflow_x": null,
            "overflow_y": null,
            "padding": null,
            "right": null,
            "top": null,
            "visibility": null,
            "width": null
          }
        },
        "76fb3956b8f943b98a4dd7ee816f5f8b": {
          "model_module": "@jupyter-widgets/base",
          "model_name": "LayoutModel",
          "model_module_version": "1.2.0",
          "state": {
            "_model_module": "@jupyter-widgets/base",
            "_model_module_version": "1.2.0",
            "_model_name": "LayoutModel",
            "_view_count": null,
            "_view_module": "@jupyter-widgets/base",
            "_view_module_version": "1.2.0",
            "_view_name": "LayoutView",
            "align_content": null,
            "align_items": null,
            "align_self": null,
            "border": null,
            "bottom": null,
            "display": null,
            "flex": null,
            "flex_flow": null,
            "grid_area": null,
            "grid_auto_columns": null,
            "grid_auto_flow": null,
            "grid_auto_rows": null,
            "grid_column": null,
            "grid_gap": null,
            "grid_row": null,
            "grid_template_areas": null,
            "grid_template_columns": null,
            "grid_template_rows": null,
            "height": null,
            "justify_content": null,
            "justify_items": null,
            "left": null,
            "margin": null,
            "max_height": null,
            "max_width": null,
            "min_height": null,
            "min_width": null,
            "object_fit": null,
            "object_position": null,
            "order": null,
            "overflow": null,
            "overflow_x": null,
            "overflow_y": null,
            "padding": null,
            "right": null,
            "top": null,
            "visibility": null,
            "width": null
          }
        },
        "9a350241f77f4dfcaaff4b5d164adf1d": {
          "model_module": "@jupyter-widgets/controls",
          "model_name": "DescriptionStyleModel",
          "model_module_version": "1.5.0",
          "state": {
            "_model_module": "@jupyter-widgets/controls",
            "_model_module_version": "1.5.0",
            "_model_name": "DescriptionStyleModel",
            "_view_count": null,
            "_view_module": "@jupyter-widgets/base",
            "_view_module_version": "1.2.0",
            "_view_name": "StyleView",
            "description_width": ""
          }
        },
        "cf3501766c3e449a98d26a7aa2ca2280": {
          "model_module": "@jupyter-widgets/base",
          "model_name": "LayoutModel",
          "model_module_version": "1.2.0",
          "state": {
            "_model_module": "@jupyter-widgets/base",
            "_model_module_version": "1.2.0",
            "_model_name": "LayoutModel",
            "_view_count": null,
            "_view_module": "@jupyter-widgets/base",
            "_view_module_version": "1.2.0",
            "_view_name": "LayoutView",
            "align_content": null,
            "align_items": null,
            "align_self": null,
            "border": null,
            "bottom": null,
            "display": null,
            "flex": null,
            "flex_flow": null,
            "grid_area": null,
            "grid_auto_columns": null,
            "grid_auto_flow": null,
            "grid_auto_rows": null,
            "grid_column": null,
            "grid_gap": null,
            "grid_row": null,
            "grid_template_areas": null,
            "grid_template_columns": null,
            "grid_template_rows": null,
            "height": null,
            "justify_content": null,
            "justify_items": null,
            "left": null,
            "margin": null,
            "max_height": null,
            "max_width": null,
            "min_height": null,
            "min_width": null,
            "object_fit": null,
            "object_position": null,
            "order": null,
            "overflow": null,
            "overflow_x": null,
            "overflow_y": null,
            "padding": null,
            "right": null,
            "top": null,
            "visibility": null,
            "width": null
          }
        },
        "5e66cab4216a4796825519df9f707bf1": {
          "model_module": "@jupyter-widgets/controls",
          "model_name": "ProgressStyleModel",
          "model_module_version": "1.5.0",
          "state": {
            "_model_module": "@jupyter-widgets/controls",
            "_model_module_version": "1.5.0",
            "_model_name": "ProgressStyleModel",
            "_view_count": null,
            "_view_module": "@jupyter-widgets/base",
            "_view_module_version": "1.2.0",
            "_view_name": "StyleView",
            "bar_color": null,
            "description_width": ""
          }
        },
        "8fa2a067508d488bb92d636aff3edb97": {
          "model_module": "@jupyter-widgets/base",
          "model_name": "LayoutModel",
          "model_module_version": "1.2.0",
          "state": {
            "_model_module": "@jupyter-widgets/base",
            "_model_module_version": "1.2.0",
            "_model_name": "LayoutModel",
            "_view_count": null,
            "_view_module": "@jupyter-widgets/base",
            "_view_module_version": "1.2.0",
            "_view_name": "LayoutView",
            "align_content": null,
            "align_items": null,
            "align_self": null,
            "border": null,
            "bottom": null,
            "display": null,
            "flex": null,
            "flex_flow": null,
            "grid_area": null,
            "grid_auto_columns": null,
            "grid_auto_flow": null,
            "grid_auto_rows": null,
            "grid_column": null,
            "grid_gap": null,
            "grid_row": null,
            "grid_template_areas": null,
            "grid_template_columns": null,
            "grid_template_rows": null,
            "height": null,
            "justify_content": null,
            "justify_items": null,
            "left": null,
            "margin": null,
            "max_height": null,
            "max_width": null,
            "min_height": null,
            "min_width": null,
            "object_fit": null,
            "object_position": null,
            "order": null,
            "overflow": null,
            "overflow_x": null,
            "overflow_y": null,
            "padding": null,
            "right": null,
            "top": null,
            "visibility": null,
            "width": null
          }
        },
        "c00376d9c7f845668dec87b29c7f0b4d": {
          "model_module": "@jupyter-widgets/controls",
          "model_name": "DescriptionStyleModel",
          "model_module_version": "1.5.0",
          "state": {
            "_model_module": "@jupyter-widgets/controls",
            "_model_module_version": "1.5.0",
            "_model_name": "DescriptionStyleModel",
            "_view_count": null,
            "_view_module": "@jupyter-widgets/base",
            "_view_module_version": "1.2.0",
            "_view_name": "StyleView",
            "description_width": ""
          }
        }
      }
    }
  },
  "cells": [
    {
      "cell_type": "markdown",
      "source": [
        "# Multi-armed bandit"
      ],
      "metadata": {
        "id": "FfzNDJVG0jLy"
      }
    },
    {
      "cell_type": "code",
      "source": [
        "import matplotlib.pyplot as plt\n",
        "import seaborn as sns\n",
        "import numpy as np\n",
        "import scipy.stats as stats\n",
        "\n",
        "sns.set_style(\"whitegrid\")"
      ],
      "metadata": {
        "id": "pRbqHhrl2cjS"
      },
      "execution_count": 2,
      "outputs": []
    },
    {
      "cell_type": "code",
      "source": [
        "class UniformMultiArmedBandit:\n",
        "\n",
        "    class Arm:\n",
        "\n",
        "        def __init__(self, cost, distribution):\n",
        "            self.cost = cost\n",
        "            self.distribution = distribution\n",
        "\n",
        "        def trigger(self):\n",
        "            return self.distribution.rvs(1)[0] - self.cost\n",
        "\n",
        "    def __init__(self, n_arms, costs = None, distributions = None):\n",
        "\n",
        "        if not (distributions is None):\n",
        "            assert len(distributions) == n_arms, \"Distributions size should be equal to n_arms\"\n",
        "        else: \n",
        "            a_list = np.random.randint(1, 5, n_arms)\n",
        "            b_list = np.random.randint(6, 10, n_arms)\n",
        "            distributions = [stats.randint(a, b) for a, b in zip(a_list, b_list)]\n",
        "        \n",
        "        if not (costs is None):\n",
        "            assert len(costs) == n_arms, \"Costs size should be equal to n_arms\"\n",
        "        else:\n",
        "            costs = np.random.randint(3, 8, n_arms)\n",
        "\n",
        "        self.n_arms = n_arms\n",
        "\n",
        "        self.arms = []\n",
        "        for i in range(n_arms):\n",
        "            new_arm = self.Arm(costs[i], distributions[i])\n",
        "            self.arms.append(new_arm)\n",
        "        \n",
        "    def trigger(self, idx):\n",
        "        return self.arms[idx].trigger()"
      ],
      "metadata": {
        "id": "g1RovfX-0ndh"
      },
      "execution_count": 3,
      "outputs": []
    },
    {
      "cell_type": "markdown",
      "source": [
        "## Single Arm"
      ],
      "metadata": {
        "id": "QdlKTvZXXlZF"
      }
    },
    {
      "cell_type": "code",
      "source": [
        "cost = 3\n",
        "distribution = stats.randint(1, 7)\n",
        "\n",
        "bandit = UniformMultiArmedBandit(1, [cost], [distribution])"
      ],
      "metadata": {
        "id": "Oqo-i3wQ4L8i"
      },
      "execution_count": 4,
      "outputs": []
    },
    {
      "cell_type": "code",
      "source": [
        "real_exp = distribution.mean() - cost\n",
        "print(real_exp)"
      ],
      "metadata": {
        "colab": {
          "base_uri": "https://localhost:8080/"
        },
        "id": "hN1H7gwNu4lH",
        "outputId": "0189c78c-fd31-4f98-a583-0c1fd25dc634"
      },
      "execution_count": 5,
      "outputs": [
        {
          "output_type": "stream",
          "name": "stdout",
          "text": [
            "0.5\n"
          ]
        }
      ]
    },
    {
      "cell_type": "code",
      "source": [
        "N = 1000\n",
        "records = []\n",
        "means = []\n",
        "\n",
        "for i in range(N):\n",
        "    records.append(bandit.trigger(0))\n",
        "    means.append(np.mean(records))"
      ],
      "metadata": {
        "id": "OCwikBOavSvo"
      },
      "execution_count": 6,
      "outputs": []
    },
    {
      "cell_type": "code",
      "source": [
        "plt.figure(figsize = (10, 3))#, dpi = 300)\n",
        "plt.plot(np.arange(N), [real_exp] * N)\n",
        "plt.plot(np.arange(N), means)\n",
        "plt.xlabel(\"Timestamp\")\n",
        "plt.ylabel(\"Value\")\n",
        "plt.legend(['Real', 'Estimated'])\n",
        "plt.show()"
      ],
      "metadata": {
        "colab": {
          "base_uri": "https://localhost:8080/",
          "height": 225
        },
        "id": "iY5S95Esvr9v",
        "outputId": "d820f9d0-8459-4b79-c7a5-ab3fbf33e1ec"
      },
      "execution_count": 7,
      "outputs": [
        {
          "output_type": "display_data",
          "data": {
            "text/plain": [
              "<Figure size 720x216 with 1 Axes>"
            ],
            "image/png": "[encoded data removed]"
          },
          "metadata": {}
        }
      ]
    },
    {
      "cell_type": "markdown",
      "source": [
        "## Multiple Arms"
      ],
      "metadata": {
        "id": "VwqdXGULXn3Q"
      }
    },
    {
      "cell_type": "markdown",
      "source": [
        "In the beginning let us sample by one value for all the arms."
      ],
      "metadata": {
        "id": "MUYzs4Uvzmmo"
      }
    },
    {
      "cell_type": "markdown",
      "source": [
        "### Greedy"
      ],
      "metadata": {
        "id": "AJrywZEbYTaI"
      }
    },
    {
      "cell_type": "code",
      "source": [
        "n_arms = 4\n",
        "bandit = UniformMultiArmedBandit(n_arms)"
      ],
      "metadata": {
        "id": "3SIAvcSczl-_"
      },
      "execution_count": 8,
      "outputs": []
    },
    {
      "cell_type": "code",
      "source": [
        "rewards = [[bandit.trigger(i)] for i in range(n_arms)]"
      ],
      "metadata": {
        "id": "A8lKIm1B1SUv"
      },
      "execution_count": 9,
      "outputs": []
    },
    {
      "cell_type": "code",
      "source": [
        "rewards"
      ],
      "metadata": {
        "colab": {
          "base_uri": "https://localhost:8080/"
        },
        "id": "xzYH3YoD33Un",
        "outputId": "14727e61-44b1-4ba3-cfd9-40f0d90772f8"
      },
      "execution_count": 10,
      "outputs": [
        {
          "output_type": "execute_result",
          "data": {
            "text/plain": [
              "[[-1], [-1], [-3], [-4]]"
            ]
          },
          "metadata": {},
          "execution_count": 10
        }
      ]
    },
    {
      "cell_type": "code",
      "source": [
        "def greedy_policy(rewards):\n",
        "    means = []\n",
        "    # mean for each action\n",
        "    for rew_list in rewards:\n",
        "        means.append(np.mean(rew_list))\n",
        "    \n",
        "    return np.argmax(means)"
      ],
      "metadata": {
        "id": "KyOa1_uG1gdp"
      },
      "execution_count": 11,
      "outputs": []
    },
    {
      "cell_type": "code",
      "source": [
        "# mean reward for each arm\n",
        "actual_means = [arm.distribution.mean() - arm.cost for arm in bandit.arms]\n",
        "# max mean reward\n",
        "real_max_exp = max(actual_means)\n",
        "\n",
        "estimated_mean_policy = []\n",
        "real_mean_policy = []\n",
        "\n",
        "N = 1000\n",
        "\n",
        "for i in range(N):\n",
        "    # choosing an action\n",
        "    action = greedy_policy(rewards)\n",
        "\n",
        "    # recording the results\n",
        "    estimated_mean_policy.append(np.mean(rewards[action]))\n",
        "    rewards[action].append(bandit.trigger(action))\n",
        "    real_mean_policy.append(actual_means[action])"
      ],
      "metadata": {
        "id": "CLm_M-LV1-xm"
      },
      "execution_count": 12,
      "outputs": []
    },
    {
      "cell_type": "code",
      "source": [
        "plt.figure(figsize = (10, 3))#, dpi = 300)\n",
        "plt.plot(np.arange(N), [real_max_exp] * N)\n",
        "plt.plot(np.arange(N), estimated_mean_policy)\n",
        "plt.plot(np.arange(N), real_mean_policy)\n",
        "plt.xlabel(\"Timestamp\")\n",
        "plt.ylabel(\"Value\")\n",
        "plt.legend(['Real max mean', 'Estimated mean by policy', 'Real mean by policy'])\n",
        "plt.show()"
      ],
      "metadata": {
        "colab": {
          "base_uri": "https://localhost:8080/",
          "height": 229
        },
        "id": "0TNMXvIm4Prw",
        "outputId": "fe09b4d2-df3a-43cc-ea35-6e18a0fc519f"
      },
      "execution_count": 13,
      "outputs": [
        {
          "output_type": "display_data",
          "data": {
            "text/plain": [
              "<Figure size 720x216 with 1 Axes>"
            ],
            "image/png": "[encoded data removed]"
          },
          "metadata": {}
        }
      ]
    },
    {
      "cell_type": "markdown",
      "source": [
        "### $\\epsilon$-greedy"
      ],
      "metadata": {
        "id": "1Jelim5dXqIx"
      }
    },
    {
      "cell_type": "code",
      "source": [
        "rewards = [[bandit.trigger(i)] for i in range(n_arms)]"
      ],
      "metadata": {
        "id": "wk9Teles6Di4"
      },
      "execution_count": 14,
      "outputs": []
    },
    {
      "cell_type": "code",
      "source": [
        "def epsilon_greedy_policy(rewards, n_arms, epsilon):\n",
        "    means = []\n",
        "    # mean for each action\n",
        "    for rew_list in rewards:\n",
        "        means.append(np.mean(rew_list))\n",
        "    main_action = np.argmax(means)\n",
        "    \n",
        "    probas = [epsilon / n_arms] * n_arms\n",
        "    probas[main_action] += (1 - epsilon) \n",
        "    return np.array(probas)"
      ],
      "metadata": {
        "id": "wBbHPTTp6Off"
      },
      "execution_count": 15,
      "outputs": []
    },
    {
      "cell_type": "code",
      "source": [
        "# mean reward for each arm\n",
        "actual_means = [arm.distribution.mean() - arm.cost for arm in bandit.arms]\n",
        "# max mean reward\n",
        "real_max_exp = max(actual_means)\n",
        "\n",
        "estimated_mean_policy = []\n",
        "real_mean_policy = []\n",
        "\n",
        "N = 1000\n",
        "\n",
        "for i in range(N):\n",
        "    # choosing an action\n",
        "    action_probas = epsilon_greedy_policy(rewards, n_arms, epsilon = 0.1)\n",
        "    action = np.random.choice(n_arms, size = 1, p = action_probas)[0]\n",
        "\n",
        "    # recording the results\n",
        "    estimated_mean_policy.append(np.mean(rewards[action]))\n",
        "    rewards[action].append(bandit.trigger(action))\n",
        "    real_mean_policy.append((actual_means * action_probas).sum())"
      ],
      "metadata": {
        "id": "SGcBICVw7gPH"
      },
      "execution_count": 16,
      "outputs": []
    },
    {
      "cell_type": "code",
      "source": [
        "plt.figure(figsize = (10, 3))#, dpi = 300)\n",
        "plt.plot(np.arange(N), [real_max_exp] * N)\n",
        "plt.plot(np.arange(N), estimated_mean_policy)\n",
        "plt.plot(np.arange(N), real_mean_policy)\n",
        "plt.xlabel(\"Timestamp\")\n",
        "plt.ylabel(\"Value\")\n",
        "plt.legend(['Real max mean', 'Estimated mean by policy', 'Real mean by policy'])\n",
        "plt.show()"
      ],
      "metadata": {
        "colab": {
          "base_uri": "https://localhost:8080/",
          "height": 225
        },
        "id": "uOP0TGne9J9Y",
        "outputId": "54502306-f604-4cf8-c851-0f93afb7e54e"
      },
      "execution_count": 17,
      "outputs": [
        {
          "output_type": "display_data",
          "data": {
            "text/plain": [
              "<Figure size 720x216 with 1 Axes>"
            ],
            "image/png": "[encoded data removed]"
          },
          "metadata": {}
        }
      ]
    },
    {
      "cell_type": "markdown",
      "source": [
        "Decrease an epsilon."
      ],
      "metadata": {
        "id": "QVC3qbv39vLa"
      }
    },
    {
      "cell_type": "code",
      "source": [
        "rewards = [[bandit.trigger(i)] for i in range(n_arms)]"
      ],
      "metadata": {
        "id": "b6HrJ9KL-Bfn"
      },
      "execution_count": 18,
      "outputs": []
    },
    {
      "cell_type": "code",
      "source": [
        "# mean reward for each arm\n",
        "actual_means = [arm.distribution.mean() - arm.cost for arm in bandit.arms]\n",
        "# max mean reward\n",
        "real_max_exp = max(actual_means)\n",
        "\n",
        "estimated_mean_policy = []\n",
        "real_mean_policy = []\n",
        "\n",
        "N = 100\n",
        "\n",
        "for i in range(N):\n",
        "    # choosing an action\n",
        "    action_probas = epsilon_greedy_policy(rewards, n_arms, epsilon = 1/(i+1))\n",
        "    action = np.random.choice(n_arms, size = 1, p = action_probas)[0]\n",
        "\n",
        "    # recording the results\n",
        "    estimated_mean_policy.append(np.mean(rewards[action]))\n",
        "    rewards[action].append(bandit.trigger(action))\n",
        "    real_mean_policy.append((actual_means * action_probas).sum())"
      ],
      "metadata": {
        "id": "CbHIQAw99xIg"
      },
      "execution_count": 19,
      "outputs": []
    },
    {
      "cell_type": "code",
      "source": [
        "plt.figure(figsize = (10, 3))#, dpi = 300)\n",
        "plt.plot(np.arange(N), [real_max_exp] * N)\n",
        "plt.plot(np.arange(N), estimated_mean_policy)\n",
        "plt.plot(np.arange(N), real_mean_policy)\n",
        "plt.xlabel(\"Timestamp\")\n",
        "plt.ylabel(\"Value\")\n",
        "plt.legend(['Real max mean', 'Estimated mean by policy', 'Real mean by policy'])\n",
        "plt.show()"
      ],
      "metadata": {
        "colab": {
          "base_uri": "https://localhost:8080/",
          "height": 228
        },
        "id": "papb19Q0-GNf",
        "outputId": "fa00619f-9b37-4546-b64a-f8df12a2e5a5"
      },
      "execution_count": 20,
      "outputs": [
        {
          "output_type": "display_data",
          "data": {
            "text/plain": [
              "<Figure size 720x216 with 1 Axes>"
            ],
            "image/png": "[encoded data removed]"
          },
          "metadata": {}
        }
      ]
    },
    {
      "cell_type": "markdown",
      "source": [
        "### SoftMax"
      ],
      "metadata": {
        "id": "QCM4rRmwXyCC"
      }
    },
    {
      "cell_type": "code",
      "source": [
        "from scipy.special import softmax"
      ],
      "metadata": {
        "id": "qUpl7AWqQi_M"
      },
      "execution_count": 21,
      "outputs": []
    },
    {
      "cell_type": "code",
      "source": [
        "def softmax_policy(rewards):\n",
        "    means = []\n",
        "    # mean for each action\n",
        "    for rew_list in rewards:\n",
        "        means.append(np.mean(rew_list))\n",
        "     \n",
        "    return softmax(means)"
      ],
      "metadata": {
        "id": "vG1RWcmXDlMo"
      },
      "execution_count": 22,
      "outputs": []
    },
    {
      "cell_type": "code",
      "source": [
        "rewards = [[bandit.trigger(i)] for i in range(n_arms)]"
      ],
      "metadata": {
        "id": "TBnGdi7hDvBg"
      },
      "execution_count": 23,
      "outputs": []
    },
    {
      "cell_type": "code",
      "source": [
        "# mean reward for each arm\n",
        "actual_means = [arm.distribution.mean() - arm.cost for arm in bandit.arms]\n",
        "# max mean reward\n",
        "real_max_exp = max(actual_means)\n",
        "\n",
        "estimated_mean_policy = []\n",
        "real_mean_policy = []\n",
        "\n",
        "N = 100\n",
        "\n",
        "for i in range(N):\n",
        "    # choosing an action\n",
        "    action_probas = softmax_policy(rewards)\n",
        "    action = np.random.choice(n_arms, size = 1, p = action_probas)[0]\n",
        "\n",
        "    # recording the results\n",
        "    estimated_mean_policy.append(np.mean(rewards[action]))\n",
        "    rewards[action].append(bandit.trigger(action))\n",
        "    real_mean_policy.append((actual_means * action_probas).sum())"
      ],
      "metadata": {
        "id": "6Z78G5VgDw5Y"
      },
      "execution_count": 24,
      "outputs": []
    },
    {
      "cell_type": "code",
      "source": [
        "plt.figure(figsize = (10, 3))#, dpi = 300)\n",
        "plt.plot(np.arange(N), [real_max_exp] * N)\n",
        "plt.plot(np.arange(N), estimated_mean_policy)\n",
        "plt.plot(np.arange(N), real_mean_policy)\n",
        "plt.xlabel(\"Timestamp\")\n",
        "plt.ylabel(\"Value\")\n",
        "plt.legend(['Real max mean', 'Estimated mean by policy', 'Real mean by policy'])\n",
        "plt.show()"
      ],
      "metadata": {
        "colab": {
          "base_uri": "https://localhost:8080/",
          "height": 225
        },
        "id": "lGHdJSOQDyXh",
        "outputId": "4d6c5861-afe3-4aad-b353-d65ddc9c604f"
      },
      "execution_count": 25,
      "outputs": [
        {
          "output_type": "display_data",
          "data": {
            "text/plain": [
              "<Figure size 720x216 with 1 Axes>"
            ],
            "image/png": "[encoded data removed]"
          },
          "metadata": {}
        }
      ]
    },
    {
      "cell_type": "markdown",
      "source": [
        "### Task\n",
        "\n",
        "Implement Softmax with temperature policy and repeat the actions from above. Explain in your words (in text cell) why do we need to use softmax with temperature, not ordinary one. "
      ],
      "metadata": {
        "id": "4FHCjtnRFytH"
      }
    },
    {
      "cell_type": "code",
      "source": [
        "# based on https://www.youtube.com/watch?v=8ps_JEW42xs and https://www.youtube.com/watch?v=SFsc2P240rw\n",
        "\n",
        "import math\n",
        "import numpy as np\n",
        "def softmax_temp_policy(rewards,t):\n",
        "    means = []\n",
        "    # mean for each action\n",
        "    for rew_list in rewards:\n",
        "        means.append(np.mean(rew_list))\n",
        "    \n",
        "    #exponintial transform\n",
        "    means = np.array(means)\n",
        "    exp = np.exp(means / t)\n",
        "    sum = np.sum(exp, axis=0)\n",
        "    output = exp / sum\n",
        "    return output.flatten()"
      ],
      "metadata": {
        "id": "YwjY36DoMF3T"
      },
      "execution_count": 32,
      "outputs": []
    },
    {
      "cell_type": "code",
      "source": [
        "rewards = [[bandit.trigger(i)] for i in range(n_arms)]"
      ],
      "metadata": {
        "id": "p_ODIM3TQbe9"
      },
      "execution_count": 33,
      "outputs": []
    },
    {
      "cell_type": "code",
      "source": [
        "# mean reward for each arm\n",
        "actual_means = [arm.distribution.mean() - arm.cost for arm in bandit.arms]\n",
        "# max mean reward\n",
        "real_max_exp = max(actual_means)\n",
        "\n",
        "estimated_mean_policy = []\n",
        "real_mean_policy = []\n",
        "\n",
        "N = 100\n",
        "\n",
        "for i in range(N):\n",
        "    # choosing an action\n",
        "    action_probas = softmax_temp_policy(rewards=rewards, t=1)\n",
        "    action = np.random.choice(n_arms, size = 1, p = action_probas)[0]\n",
        "\n",
        "    # recording the results\n",
        "    estimated_mean_policy.append(np.mean(rewards[action]))\n",
        "    rewards[action].append(bandit.trigger(action))\n",
        "    real_mean_policy.append((actual_means * action_probas).sum())"
      ],
      "metadata": {
        "id": "h-XQ1-fKQfy-"
      },
      "execution_count": 34,
      "outputs": []
    },
    {
      "cell_type": "code",
      "source": [
        "plt.figure(figsize = (10, 3))#, dpi = 300)\n",
        "plt.plot(np.arange(N), [real_max_exp] * N)\n",
        "plt.plot(np.arange(N), estimated_mean_policy)\n",
        "plt.plot(np.arange(N), real_mean_policy)\n",
        "plt.xlabel(\"Timestamp\")\n",
        "plt.ylabel(\"Value\")\n",
        "plt.legend(['Real max mean', 'Estimated mean by policy', 'Real mean by policy'])\n",
        "plt.show()"
      ],
      "metadata": {
        "colab": {
          "base_uri": "https://localhost:8080/",
          "height": 225
        },
        "id": "zGr0oQ79Q_jJ",
        "outputId": "4e444928-5508-4b0c-e590-5619c8295bf3"
      },
      "execution_count": 35,
      "outputs": [
        {
          "output_type": "display_data",
          "data": {
            "text/plain": [
              "<Figure size 720x216 with 1 Axes>"
            ],
            "image/png": "[encoded data removed]"
          },
          "metadata": {}
        }
      ]
    },
    {
      "cell_type": "markdown",
      "source": [
        "#Why Softmax with temprature?\n",
        "\n",
        "Softmax tends to be overconfident and not necessarily good at perserving relativness.\n",
        "\n",
        "One side effect of this exponentiation transformation is non perservance of the relativness of the change in input space relative to the output space. For example $exp(2)$ is $~7.3$ while $exp(4)$ is $~54.6$  \n",
        "\n",
        "This problem was first mentioned in a paper called \"Distlilling the Knowledge in a Neural Network\" and introduced the idea of Temprature Scaling. \n",
        "\n",
        "In Temprature Scalling we devide our values with some constant T before performing the exponential transformation thus reducing the distance between elements in the ouptut space. Seemingly representing the input space better. \n"
      ],
      "metadata": {
        "id": "2TI_UKkxRKqw"
      }
    },
    {
      "cell_type": "markdown",
      "source": [
        "# Bayesian"
      ],
      "metadata": {
        "id": "q6Qbm62eRbqv"
      }
    },
    {
      "cell_type": "markdown",
      "source": [
        "## Normal vs Continuous Uniform distributions"
      ],
      "metadata": {
        "id": "RFeu9fAleLhU"
      }
    },
    {
      "cell_type": "code",
      "source": [
        "import matplotlib.pyplot as plt\n",
        "import seaborn as sns\n",
        "import numpy as np\n",
        "import scipy.stats as stats\n",
        "\n",
        "sns.set_style(\"whitegrid\")"
      ],
      "metadata": {
        "id": "ahi8XH8oeSF8"
      },
      "execution_count": null,
      "outputs": []
    },
    {
      "cell_type": "code",
      "source": [
        "# parameters\n",
        "mu = 0\n",
        "variance = 1\n",
        "sigma = np.sqrt(variance)\n",
        "\n",
        "a = -2\n",
        "b = 4\n",
        "# x\n",
        "x = np.linspace(mu - 3*sigma, mu + 3*sigma, 1000)\n",
        "\n",
        "# plotting\n",
        "plt.figure(figsize = (10, 6))#, dpi = 300)\n",
        "plt.plot(x, stats.norm.pdf(x, mu, sigma))\n",
        "plt.plot(x, stats.uniform.pdf(x, a, b))\n",
        "plt.xlabel(\"x\")\n",
        "plt.ylabel(\"P(x)\")\n",
        "plt.legend(['Normal(0, 1)', 'Uniform[-2, 2]'])\n",
        "plt.show()"
      ],
      "metadata": {
        "colab": {
          "base_uri": "https://localhost:8080/",
          "height": 388
        },
        "id": "XvMNn2VNearS",
        "outputId": "949e44a0-dfb3-489b-9f78-5f4cd1289f38"
      },
      "execution_count": null,
      "outputs": [
        {
          "output_type": "display_data",
          "data": {
            "text/plain": [
              "<Figure size 720x432 with 1 Axes>"
            ],
            "image/png": "[encoded data removed]"
          },
          "metadata": {}
        }
      ]
    },
    {
      "cell_type": "markdown",
      "source": [
        "### Uniform case"
      ],
      "metadata": {
        "id": "3oemJ6iQgir0"
      }
    },
    {
      "cell_type": "code",
      "source": [
        "n = 100\n",
        "samples = stats.uniform.rvs(loc = a, scale = b, size=n)\n",
        "\n",
        "plt.figure(figsize = (10, 6))#, dpi = 300)\n",
        "plt.plot(x, stats.norm.pdf(x, mu, sigma))\n",
        "plt.plot(x, stats.uniform.pdf(x, a, b))\n",
        "plt.hist(samples, bins = 20, density = True, alpha = 0.3)\n",
        "plt.xlabel(\"x\")\n",
        "plt.ylabel(\"P(x)\")\n",
        "plt.legend(['Normal(0, 1)', 'Uniform[-2, 2]', 'Samples'])\n",
        "plt.show()"
      ],
      "metadata": {
        "colab": {
          "base_uri": "https://localhost:8080/",
          "height": 388
        },
        "id": "vgYE8HyNgiP9",
        "outputId": "27cc6850-23f8-4df3-8028-c39f2bbfcb8a"
      },
      "execution_count": null,
      "outputs": [
        {
          "output_type": "display_data",
          "data": {
            "text/plain": [
              "<Figure size 720x432 with 1 Axes>"
            ],
            "image/png": "[encoded data removed]"
          },
          "metadata": {}
        }
      ]
    },
    {
      "cell_type": "code",
      "source": [
        "# computing proba over time\n",
        "log_probabilities = [0]\n",
        "for sample in samples:\n",
        "    log_proba_norm = np.log10(stats.norm.pdf(sample, mu, sigma))\n",
        "    log_proba_unif = np.log10(stats.uniform.pdf(sample, a, b))\n",
        "    \n",
        "    last_proba = log_probabilities[-1]\n",
        "    log_probabilities.append(last_proba + log_proba_unif - log_proba_norm)"
      ],
      "metadata": {
        "id": "RQZnM9ijekj4"
      },
      "execution_count": null,
      "outputs": []
    },
    {
      "cell_type": "code",
      "source": [
        "plt.figure(figsize = (8, 3))#, dpi = 300)\n",
        "\n",
        "plt.plot(np.arange(0, 101), log_probabilities)\n",
        "plt.xlabel(\"Timestep\")\n",
        "plt.ylabel(\"Proba log10\")\n",
        "plt.legend([\"Uniform over Normal\"])\n",
        "plt.show()"
      ],
      "metadata": {
        "colab": {
          "base_uri": "https://localhost:8080/",
          "height": 225
        },
        "id": "NWTB16v2iJ_Z",
        "outputId": "0e97d55a-ac82-4a4d-b76f-4a92b9e22d8d"
      },
      "execution_count": null,
      "outputs": [
        {
          "output_type": "display_data",
          "data": {
            "text/plain": [
              "<Figure size 576x216 with 1 Axes>"
            ],
            "image/png": "[encoded data removed]"
          },
          "metadata": {}
        }
      ]
    },
    {
      "cell_type": "markdown",
      "source": [
        "### Normal case"
      ],
      "metadata": {
        "id": "EB3d-I0Jmfcz"
      }
    },
    {
      "cell_type": "code",
      "source": [
        "n = 100\n",
        "samples = stats.norm.rvs(loc = mu, scale = sigma, size=n)"
      ],
      "metadata": {
        "id": "nRJOMuK2j8OI"
      },
      "execution_count": null,
      "outputs": []
    },
    {
      "cell_type": "code",
      "source": [
        "stats.norm(loc = mu, scale = sigma).rvs(1)"
      ],
      "metadata": {
        "colab": {
          "base_uri": "https://localhost:8080/"
        },
        "id": "KjDD3gk_3MQy",
        "outputId": "734a8a34-bee8-4bc7-fd61-8237270168f7"
      },
      "execution_count": null,
      "outputs": [
        {
          "output_type": "execute_result",
          "data": {
            "text/plain": [
              "array([-1.02061301])"
            ]
          },
          "metadata": {},
          "execution_count": 76
        }
      ]
    },
    {
      "cell_type": "code",
      "source": [
        "probabilities = [1]\n",
        "for idx, sample in enumerate(samples):\n",
        "    if stats.uniform.pdf(sample, a, b) > 0:\n",
        "        log_proba_norm = np.log10(stats.norm.pdf(sample, mu, sigma))\n",
        "        log_proba_unif = np.log10(stats.uniform.pdf(sample, a, b))\n",
        "    \n",
        "        last_proba = np.log10(probabilities[-1])\n",
        "        probabilities.append(10**(last_proba + log_proba_unif - log_proba_norm))\n",
        "    else:\n",
        "        probabilities += [0] * (n - idx)\n",
        "        break"
      ],
      "metadata": {
        "id": "z2oIJeBdmw8o"
      },
      "execution_count": null,
      "outputs": []
    },
    {
      "cell_type": "markdown",
      "source": [
        "Generating sequence \"falling\" in specified index range:"
      ],
      "metadata": {
        "id": "0Ya5HAU3orRj"
      }
    },
    {
      "cell_type": "code",
      "source": [
        "l_bound = -1\n",
        "u_bound = 1\n",
        "\n",
        "counter = 0\n",
        "flag = True\n",
        "while flag:\n",
        "    samples = stats.norm.rvs(loc = mu, scale = sigma, size=n)\n",
        "\n",
        "    probabilities = [1]\n",
        "    for idx, sample in enumerate(samples):\n",
        "        if stats.uniform.pdf(sample, a, b) > 0:\n",
        "            log_proba_norm = np.log10(stats.norm.pdf(sample, mu, sigma))\n",
        "            log_proba_unif = np.log10(stats.uniform.pdf(sample, a, b))\n",
        "        \n",
        "            last_proba = np.log10(probabilities[-1])\n",
        "            probabilities.append(10**(last_proba + log_proba_unif - log_proba_norm))\n",
        "        else:\n",
        "            if idx > l_bound and idx < u_bound:\n",
        "                flag = False\n",
        "            probabilities += [0] * (n - idx)\n",
        "            counter += 1\n",
        "            break"
      ],
      "metadata": {
        "id": "t8_ZL4P0n6bD"
      },
      "execution_count": null,
      "outputs": []
    },
    {
      "cell_type": "code",
      "source": [
        "plt.figure(figsize = (8, 3))#, dpi = 300)\n",
        "\n",
        "plt.plot(np.arange(0, 101), probabilities)\n",
        "plt.xlabel(\"Timestep\")\n",
        "plt.ylabel(\"Proba\")\n",
        "plt.legend([\"Uniform over Normal\"])\n",
        "plt.show()"
      ],
      "metadata": {
        "colab": {
          "base_uri": "https://localhost:8080/",
          "height": 225
        },
        "id": "H9kV39qlnQP0",
        "outputId": "6ef7974b-92d3-4312-f373-b902ed2d76e5"
      },
      "execution_count": null,
      "outputs": [
        {
          "output_type": "display_data",
          "data": {
            "text/plain": [
              "<Figure size 576x216 with 1 Axes>"
            ],
            "image/png": "[encoded data removed]"
          },
          "metadata": {}
        }
      ]
    },
    {
      "cell_type": "code",
      "source": [
        "plt.figure(figsize = (10, 6))#, dpi = 300)\n",
        "plt.plot(x, stats.norm.pdf(x, mu, sigma))\n",
        "plt.plot(x, stats.uniform.pdf(x, a, b))\n",
        "plt.hist(samples, bins = 20, density = True, alpha = 0.3)\n",
        "plt.xlabel(\"x\")\n",
        "plt.ylabel(\"P(x)\")\n",
        "plt.legend(['Normal(0, 1)', 'Uniform[-2, 2]', 'Samples'])\n",
        "plt.show()"
      ],
      "metadata": {
        "colab": {
          "base_uri": "https://localhost:8080/",
          "height": 388
        },
        "id": "OyT-ZpWVnTTf",
        "outputId": "3f7ba377-1905-4f72-de2c-7b7c976e2285"
      },
      "execution_count": null,
      "outputs": [
        {
          "output_type": "display_data",
          "data": {
            "text/plain": [
              "<Figure size 720x432 with 1 Axes>"
            ],
            "image/png": "[encoded data removed]"
          },
          "metadata": {}
        }
      ]
    },
    {
      "cell_type": "markdown",
      "source": [
        "## Bayesian MAB"
      ],
      "metadata": {
        "id": "TiolIH83PHU_"
      }
    },
    {
      "cell_type": "code",
      "source": [
        "cost = 3\n",
        "distribution = stats.randint(1, 7)\n",
        "\n",
        "bandit = UniformMultiArmedBandit(1, [cost], [distribution])"
      ],
      "metadata": {
        "id": "rQtTIL8ZVQ_x"
      },
      "execution_count": null,
      "outputs": []
    },
    {
      "cell_type": "markdown",
      "source": [
        "### First sample"
      ],
      "metadata": {
        "id": "qE7NYfkJ5BnI"
      }
    },
    {
      "cell_type": "code",
      "source": [
        "sample = bandit.trigger(0) + cost\n",
        "print(\"Returned value:\", sample)"
      ],
      "metadata": {
        "colab": {
          "base_uri": "https://localhost:8080/"
        },
        "id": "dkKmtcLN4dDx",
        "outputId": "02feb45a-f8ea-4d3a-f47f-54664bb64523"
      },
      "execution_count": null,
      "outputs": [
        {
          "output_type": "stream",
          "name": "stdout",
          "text": [
            "Returned value: 3\n"
          ]
        }
      ]
    },
    {
      "cell_type": "code",
      "source": [
        "from tqdm.auto import tqdm\n",
        "\n",
        "probabilities = np.ones((1000, 1000))\n",
        "\n",
        "for loc in tqdm(range(1000)):\n",
        "    for scale in range(1000):\n",
        "        probabilities[loc, scale] *= stats.randint.pmf(sample, loc, loc + 1 + scale)"
      ],
      "metadata": {
        "colab": {
          "base_uri": "https://localhost:8080/",
          "referenced_widgets": [
            "fe0a0d65d482470caffa6ff3fd4dfaca",
            "3e0938d5100e48dea577cfbe7a9776a4",
            "138e4b5799de4f0f99edad858b74c5a4",
            "7ba7a5b744b24df397d514b3da929014",
            "791a074163db4bb99894f4bae2cb23a5",
            "3a468a64ea12467eb0974fb996748c2d",
            "21076e064c23488a81248910a215c953",
            "49672f03bee34fc99e618ed43dd17f45",
            "0de84dc92a824ae5a320dcbbfc44ea7b",
            "18f80a21a2534fcea77f27507ab06674",
            "f82b2b78957740a58e98246b45d370c1"
          ],
          "height": 49
        },
        "id": "odayji7j5E9o",
        "outputId": "3a9faf06-1936-49fb-ad41-fc4929800bab"
      },
      "execution_count": null,
      "outputs": [
        {
          "output_type": "display_data",
          "data": {
            "text/plain": [
              "  0%|          | 0/1000 [00:00<?, ?it/s]"
            ],
            "application/vnd.jupyter.widget-view+json": {
              "version_major": 2,
              "version_minor": 0,
              "model_id": "fe0a0d65d482470caffa6ff3fd4dfaca"
            }
          },
          "metadata": {}
        }
      ]
    },
    {
      "cell_type": "code",
      "source": [
        "probabilities[sample, 0]"
      ],
      "metadata": {
        "colab": {
          "base_uri": "https://localhost:8080/"
        },
        "id": "tibXTXDy6W_A",
        "outputId": "4a4ee847-b909-4ab6-f66f-e3583e797f6f"
      },
      "execution_count": null,
      "outputs": [
        {
          "output_type": "execute_result",
          "data": {
            "text/plain": [
              "1.0"
            ]
          },
          "metadata": {},
          "execution_count": 52
        }
      ]
    },
    {
      "cell_type": "code",
      "source": [
        "probabilities[sample - 1, 1]"
      ],
      "metadata": {
        "colab": {
          "base_uri": "https://localhost:8080/"
        },
        "id": "G_7xWrWJ7LGv",
        "outputId": "21fca8d8-cad8-4ee5-f36f-8c3f008b19f6"
      },
      "execution_count": null,
      "outputs": [
        {
          "output_type": "execute_result",
          "data": {
            "text/plain": [
              "0.5"
            ]
          },
          "metadata": {},
          "execution_count": 53
        }
      ]
    },
    {
      "cell_type": "code",
      "source": [
        "probabilities[sample, 1]"
      ],
      "metadata": {
        "colab": {
          "base_uri": "https://localhost:8080/"
        },
        "id": "mFHFBvkw7Ncw",
        "outputId": "f1060981-276f-4713-920d-84f2eba12f62"
      },
      "execution_count": null,
      "outputs": [
        {
          "output_type": "execute_result",
          "data": {
            "text/plain": [
              "0.5"
            ]
          },
          "metadata": {},
          "execution_count": 54
        }
      ]
    },
    {
      "cell_type": "markdown",
      "source": [
        "#### Computing expectation distribution"
      ],
      "metadata": {
        "id": "fnpGA0F19YOw"
      }
    },
    {
      "cell_type": "code",
      "source": [
        "real_probas = probabilities / probabilities.sum()\n",
        "\n",
        "expected_mean_dict = {}\n",
        "\n",
        "for loc in range(1000):\n",
        "    for scale in range(1000):\n",
        "        mean = loc + scale / 2\n",
        "        # in case met first time\n",
        "        current_proba = expected_mean_dict.get(mean, 0)\n",
        "        expected_mean_dict[mean] = current_proba + real_probas[loc, scale]"
      ],
      "metadata": {
        "id": "2JAl-GWA9axo"
      },
      "execution_count": null,
      "outputs": []
    },
    {
      "cell_type": "code",
      "source": [
        "mean_proba_pairs = list(expected_mean_dict.items())\n",
        "mean_proba_pairs = np.array(sorted(mean_proba_pairs, key = lambda x: x[0]))\n",
        "\n",
        "plt.figure(figsize = (10, 3))#, dpi = 300)\n",
        "plt.plot(mean_proba_pairs[:, 0], mean_proba_pairs[:, 1])\n",
        "plt.xlim([0, 100])\n",
        "plt.xlabel(\"Expectation\")\n",
        "plt.ylabel(\"P(Expectation)\")\n",
        "plt.show()"
      ],
      "metadata": {
        "colab": {
          "base_uri": "https://localhost:8080/",
          "height": 225
        },
        "id": "V5V13YUm-XXh",
        "outputId": "a9bf10aa-d644-4412-d3c2-a0d115924242"
      },
      "execution_count": null,
      "outputs": [
        {
          "output_type": "display_data",
          "data": {
            "text/plain": [
              "<Figure size 720x216 with 1 Axes>"
            ],
            "image/png": "[encoded data removed]"
          },
          "metadata": {}
        }
      ]
    },
    {
      "cell_type": "markdown",
      "source": [
        "#### Computing expected expectation"
      ],
      "metadata": {
        "id": "giwXZJkL84SQ"
      }
    },
    {
      "cell_type": "code",
      "source": [
        "mean_matrix = np.zeros((1000, 1000))\n",
        "for loc in range(1000):\n",
        "    for scale in range(1000):\n",
        "        mean_matrix[loc, scale] = loc + scale / 2"
      ],
      "metadata": {
        "id": "F2WVoxTm86rv"
      },
      "execution_count": null,
      "outputs": []
    },
    {
      "cell_type": "code",
      "source": [
        "mean_expectation = (real_probas * mean_matrix).sum()\n",
        "print(\"Mean expectation = \", round(mean_expectation, 4))"
      ],
      "metadata": {
        "colab": {
          "base_uri": "https://localhost:8080/"
        },
        "id": "0NQvF0-39GYY",
        "outputId": "a5e53cae-1907-4a03-ec4f-5149db2ac186"
      },
      "execution_count": null,
      "outputs": [
        {
          "output_type": "stream",
          "name": "stdout",
          "text": [
            "Mean expectation =  79.0989\n"
          ]
        }
      ]
    },
    {
      "cell_type": "markdown",
      "source": [
        "### Second sample"
      ],
      "metadata": {
        "id": "jr6SBuoJ_4Lg"
      }
    },
    {
      "cell_type": "code",
      "source": [
        "sample2 = bandit.trigger(0) + cost\n",
        "print(\"Returned value:\", sample2)\n",
        "\n",
        "for loc in tqdm(range(1000)):\n",
        "    for scale in range(1000):\n",
        "        # not wasting time on 0\n",
        "        if probabilities[loc, scale]:\n",
        "            probabilities[loc, scale] *= stats.randint.pmf(sample2, loc, loc + 1 + scale)"
      ],
      "metadata": {
        "colab": {
          "base_uri": "https://localhost:8080/",
          "referenced_widgets": [
            "4513915b144a427994706c7c82b2ebb2",
            "58976b84e32149c287ca0515859d11b0",
            "6c8d165d750b4b10bd9e29da29834497",
            "7278a78a05c044b19607e96928f3459c",
            "223a388617844164bf5dbf1b41dd3ebc",
            "5e4bda4a042c476d86caab4b8faeac66",
            "ea784221bd334889b7e1d488eb1f72e7",
            "2c5cc15faa2e4b5f9bb4084b9349b0f9",
            "6cd7255f1ab84169b00c0f757fd3c8be",
            "7097a30292f74439a340e687032f9bb1",
            "6b03f3ac4383423dba8eae829d0355a7"
          ]
        },
        "id": "xTYZKeEc_6KA",
        "outputId": "3ae0a94d-60b9-4e39-c371-0e378ab7ad32"
      },
      "execution_count": null,
      "outputs": [
        {
          "output_type": "stream",
          "name": "stdout",
          "text": [
            "Returned value: 1\n"
          ]
        },
        {
          "output_type": "display_data",
          "data": {
            "text/plain": [
              "  0%|          | 0/1000 [00:00<?, ?it/s]"
            ],
            "application/vnd.jupyter.widget-view+json": {
              "version_major": 2,
              "version_minor": 0,
              "model_id": "4513915b144a427994706c7c82b2ebb2"
            }
          },
          "metadata": {}
        }
      ]
    },
    {
      "cell_type": "code",
      "source": [
        "max_sample = max(sample, sample2)\n",
        "probabilities[max_sample:, :].sum()"
      ],
      "metadata": {
        "colab": {
          "base_uri": "https://localhost:8080/"
        },
        "id": "69uXSlmhAxqZ",
        "outputId": "5665d623-575d-45da-c0fb-b48f29dc472a"
      },
      "execution_count": null,
      "outputs": [
        {
          "output_type": "execute_result",
          "data": {
            "text/plain": [
              "0.0"
            ]
          },
          "metadata": {},
          "execution_count": 60
        }
      ]
    },
    {
      "cell_type": "code",
      "source": [
        "dist = abs(sample - sample2)\n",
        "probabilities[:, :dist].sum()"
      ],
      "metadata": {
        "colab": {
          "base_uri": "https://localhost:8080/"
        },
        "id": "xdXZNr0IBlbZ",
        "outputId": "7e637865-43ad-4490-9fe9-30796d0b5c52"
      },
      "execution_count": null,
      "outputs": [
        {
          "output_type": "execute_result",
          "data": {
            "text/plain": [
              "0.0"
            ]
          },
          "metadata": {},
          "execution_count": 61
        }
      ]
    },
    {
      "cell_type": "code",
      "source": [
        "probabilities.astype('bool').sum()"
      ],
      "metadata": {
        "colab": {
          "base_uri": "https://localhost:8080/"
        },
        "id": "V5Lh24JBB5w3",
        "outputId": "50cb8bf7-576b-49cb-eda3-477ad218a7d6"
      },
      "execution_count": null,
      "outputs": [
        {
          "output_type": "execute_result",
          "data": {
            "text/plain": [
              "1995"
            ]
          },
          "metadata": {},
          "execution_count": 62
        }
      ]
    },
    {
      "cell_type": "markdown",
      "source": [
        "#### Computing expectation distribution"
      ],
      "metadata": {
        "id": "8xGgpVSmCdCf"
      }
    },
    {
      "cell_type": "code",
      "source": [
        "real_probas = probabilities / probabilities.sum()\n",
        "\n",
        "expected_mean_dict = {}\n",
        "\n",
        "for loc in range(1000):\n",
        "    for scale in range(1000):\n",
        "        mean = loc + scale / 2\n",
        "        # in case met first time\n",
        "        current_proba = expected_mean_dict.get(mean, 0)\n",
        "        expected_mean_dict[mean] = current_proba + real_probas[loc, scale]"
      ],
      "metadata": {
        "id": "N4jMIVaOChnf"
      },
      "execution_count": null,
      "outputs": []
    },
    {
      "cell_type": "code",
      "source": [
        "mean_proba_pairs = list(expected_mean_dict.items())\n",
        "mean_proba_pairs = np.array(sorted(mean_proba_pairs, key = lambda x: x[0]))\n",
        "\n",
        "plt.figure(figsize = (10, 3))#, dpi = 300)\n",
        "plt.plot(mean_proba_pairs[:, 0], mean_proba_pairs[:, 1])\n",
        "plt.xlim([0, 100])\n",
        "plt.xlabel(\"Expectation\")\n",
        "plt.ylabel(\"P(Expectation)\")\n",
        "plt.show()"
      ],
      "metadata": {
        "colab": {
          "base_uri": "https://localhost:8080/"
        },
        "id": "3Tjhvgh3CjkA",
        "outputId": "720cf9a4-8982-466e-e93a-08769f79ab83"
      },
      "execution_count": null,
      "outputs": [
        {
          "output_type": "display_data",
          "data": {
            "text/plain": [
              "<Figure size 720x216 with 1 Axes>"
            ],
            "image/png": "[encoded data removed]"
          },
          "metadata": {}
        }
      ]
    },
    {
      "cell_type": "code",
      "source": [
        "mean_expectation = (real_probas * mean_matrix).sum()\n",
        "print(\"Mean expectation = \", round(mean_expectation, 4))"
      ],
      "metadata": {
        "colab": {
          "base_uri": "https://localhost:8080/"
        },
        "id": "pOvArXUXC-Gg",
        "outputId": "afa42c63-6033-4ff8-aba3-03c2d98a873f"
      },
      "execution_count": null,
      "outputs": [
        {
          "output_type": "stream",
          "name": "stdout",
          "text": [
            "Mean expectation =  8.6801\n"
          ]
        }
      ]
    },
    {
      "cell_type": "markdown",
      "source": [
        "### Five samples"
      ],
      "metadata": {
        "id": "2-mG3nDvDghW"
      }
    },
    {
      "cell_type": "code",
      "source": [
        "samples = [sample, sample2]\n",
        "\n",
        "for i in range(3):\n",
        "    sample = bandit.trigger(0) + cost\n",
        "    print(\"Returned value:\", sample)\n",
        "\n",
        "    for loc in tqdm(range(1000)):\n",
        "        for scale in range(1000):\n",
        "            # not wasting time on 0\n",
        "            if probabilities[loc, scale]:\n",
        "                probabilities[loc, scale] *= stats.randint.pmf(sample, loc, loc + 1 + scale)\n",
        "\n",
        "    samples.append(sample)"
      ],
      "metadata": {
        "colab": {
          "base_uri": "https://localhost:8080/",
          "referenced_widgets": [
            "36d97f4c77924ce2a412d374df5851dc",
            "887fa2efc3724838b032f18f49ab56f1",
            "4d07cf9d789840839bf7b9fd37fac3be",
            "24069e61ffe74467b07a879d5f1eca6f",
            "4e5c1aa3d23348e0b4250eb56fd3725c",
            "b9e61fd44c594006a6307d8246ef840f",
            "c31c2cc9cb9942f489dc0bd22bce4629",
            "5f0b2c5920fc40c2bcf702c59d9d189c",
            "8ef3efefce734578a207c01ca25972b8",
            "ac8ff1a792024db3aff5bd9427f1ac9b",
            "509e48a81b554292b9e06f40455fc2fb",
            "b7f9b1a50ce24f3da8643562bd83ffd9",
            "5c13a4308ba44649933f6e817046aa59",
            "1fdd1c6b0a7f44c3b834ac7acde9ecdd",
            "c4c7ae2a7d7446fcb0c33b40e2b05909",
            "0b6c55e04b61492ea5760f77792aacb5",
            "843960c763f74f2cbe52def476b29b9a",
            "d2447079919f47e69239581c085b18e7",
            "89bc928c541a48e1b9973cd272fc1f21",
            "06eaeda42357477396a0bd23a9149752",
            "fb286f21bf5e47ebac20f9f19cf09f56",
            "19fed0b0e7b54855ad42ea5195fa4eb4",
            "fe69d895bb32470e80b1752eb109067a",
            "cc96ea3d84f84cbc8cd61810081a6f78",
            "e3cc756119a84b5f97e23df619d0dfb8",
            "9637effafc8b4796b0f19aa12471606d",
            "05edd563fb1448e5bee01c4bffa9144f",
            "76fb3956b8f943b98a4dd7ee816f5f8b",
            "9a350241f77f4dfcaaff4b5d164adf1d",
            "cf3501766c3e449a98d26a7aa2ca2280",
            "5e66cab4216a4796825519df9f707bf1",
            "8fa2a067508d488bb92d636aff3edb97",
            "c00376d9c7f845668dec87b29c7f0b4d"
          ]
        },
        "id": "NZzMMPYADpYp",
        "outputId": "6a1d7c09-0b2b-4b26-b0ab-9d9344abdb04"
      },
      "execution_count": null,
      "outputs": [
        {
          "output_type": "stream",
          "name": "stdout",
          "text": [
            "Returned value: 2\n"
          ]
        },
        {
          "output_type": "display_data",
          "data": {
            "text/plain": [
              "  0%|          | 0/1000 [00:00<?, ?it/s]"
            ],
            "application/vnd.jupyter.widget-view+json": {
              "version_major": 2,
              "version_minor": 0,
              "model_id": "36d97f4c77924ce2a412d374df5851dc"
            }
          },
          "metadata": {}
        },
        {
          "output_type": "stream",
          "name": "stdout",
          "text": [
            "Returned value: 1\n"
          ]
        },
        {
          "output_type": "display_data",
          "data": {
            "text/plain": [
              "  0%|          | 0/1000 [00:00<?, ?it/s]"
            ],
            "application/vnd.jupyter.widget-view+json": {
              "version_major": 2,
              "version_minor": 0,
              "model_id": "b7f9b1a50ce24f3da8643562bd83ffd9"
            }
          },
          "metadata": {}
        },
        {
          "output_type": "stream",
          "name": "stdout",
          "text": [
            "Returned value: 5\n"
          ]
        },
        {
          "output_type": "display_data",
          "data": {
            "text/plain": [
              "  0%|          | 0/1000 [00:00<?, ?it/s]"
            ],
            "application/vnd.jupyter.widget-view+json": {
              "version_major": 2,
              "version_minor": 0,
              "model_id": "fe69d895bb32470e80b1752eb109067a"
            }
          },
          "metadata": {}
        }
      ]
    },
    {
      "cell_type": "code",
      "source": [
        "real_probas = probabilities / probabilities.sum()\n",
        "\n",
        "expected_mean_dict = {}\n",
        "\n",
        "for loc in range(1000):\n",
        "    for scale in range(1000):\n",
        "        mean = loc + scale / 2\n",
        "        # in case met first time\n",
        "        current_proba = expected_mean_dict.get(mean, 0)\n",
        "        expected_mean_dict[mean] = current_proba + real_probas[loc, scale]"
      ],
      "metadata": {
        "id": "7a2Y8XS5D6s-"
      },
      "execution_count": null,
      "outputs": []
    },
    {
      "cell_type": "code",
      "source": [
        "mean_proba_pairs = list(expected_mean_dict.items())\n",
        "mean_proba_pairs = np.array(sorted(mean_proba_pairs, key = lambda x: x[0]))\n",
        "\n",
        "plt.figure(figsize = (10, 3))#, dpi = 300)\n",
        "plt.plot(mean_proba_pairs[:, 0], mean_proba_pairs[:, 1])\n",
        "plt.xlim([0, 100])\n",
        "plt.xlabel(\"Expectation\")\n",
        "plt.ylabel(\"P(Expectation)\")\n",
        "plt.show()"
      ],
      "metadata": {
        "colab": {
          "base_uri": "https://localhost:8080/"
        },
        "id": "wRX57m_qD943",
        "outputId": "3a031948-ed29-4494-fcf0-ad583d04b09d"
      },
      "execution_count": null,
      "outputs": [
        {
          "output_type": "display_data",
          "data": {
            "text/plain": [
              "<Figure size 720x216 with 1 Axes>"
            ],
            "image/png": "[encoded data removed]"
          },
          "metadata": {}
        }
      ]
    },
    {
      "cell_type": "code",
      "source": [
        "mean_expectation = (real_probas * mean_matrix).sum()\n",
        "print(\"Mean expectation = \", round(mean_expectation, 4))"
      ],
      "metadata": {
        "colab": {
          "base_uri": "https://localhost:8080/"
        },
        "id": "OJOBsSVEEHAn",
        "outputId": "e3efbbf3-f636-4aac-b541-fb9c5f636070"
      },
      "execution_count": null,
      "outputs": [
        {
          "output_type": "stream",
          "name": "stdout",
          "text": [
            "Mean expectation =  3.4408\n"
          ]
        }
      ]
    },
    {
      "cell_type": "markdown",
      "source": [
        "## Bayesian with prior MAB"
      ],
      "metadata": {
        "id": "IJJjgTZaPN1B"
      }
    },
    {
      "cell_type": "markdown",
      "source": [
        "### First sample"
      ],
      "metadata": {
        "id": "dZ3tNZQmPiJG"
      }
    },
    {
      "cell_type": "code",
      "source": [
        "sample = bandit.trigger(0) + cost\n",
        "print(\"Returned value:\", sample)"
      ],
      "metadata": {
        "colab": {
          "base_uri": "https://localhost:8080/"
        },
        "id": "P6y5Pw3PPaNT",
        "outputId": "5ac15d54-fee0-4f92-aa96-575fb966e59f"
      },
      "execution_count": null,
      "outputs": [
        {
          "output_type": "stream",
          "name": "stdout",
          "text": [
            "Returned value: 2\n"
          ]
        }
      ]
    },
    {
      "cell_type": "code",
      "source": [
        "from tqdm.auto import tqdm\n",
        "\n",
        "prior_probabilities = np.zeros((1000, 1000))\n",
        "for i in range(1000):\n",
        "    prior_probabilities[i, :] = 1 / (i+1)\n",
        "\n",
        "for loc in tqdm(range(1000)):\n",
        "    for scale in range(1000):\n",
        "        probabilities[loc, scale] *= stats.randint.pmf(sample, loc, loc + 1 + scale)"
      ],
      "metadata": {
        "colab": {
          "base_uri": "https://localhost:8080/",
          "height": 49,
          "referenced_widgets": [
            "9b4ba43ba6ac4a60a1954fffe8ce9d7c",
            "d6e22cbd76ad4848b72a5ae5c6a41816",
            "646fc17c68854b97a8c8310cd8728a18",
            "02e533cdb8954f29b001624e798f1944",
            "88ee07cbeb3549268989ceca936513ed",
            "e94fc3ce2596432b91657c2d65421de2",
            "6f08bde82e2d40cab6be051217a84a19",
            "6f6741ef808d40969e16a24dab6ff9bb",
            "1a2e0c07b3524a8980ee6865f95ca4b2",
            "3b14eaad268547da9294d30fc468dbfc",
            "6b6243cac9cd4f849f032478ed520afc"
          ]
        },
        "id": "L3Du0lUhPk1V",
        "outputId": "469d5d2a-b869-4789-b0cb-8994f32eb2ef"
      },
      "execution_count": null,
      "outputs": [
        {
          "output_type": "display_data",
          "data": {
            "text/plain": [
              "  0%|          | 0/1000 [00:00<?, ?it/s]"
            ],
            "application/vnd.jupyter.widget-view+json": {
              "version_major": 2,
              "version_minor": 0,
              "model_id": "9b4ba43ba6ac4a60a1954fffe8ce9d7c"
            }
          },
          "metadata": {}
        }
      ]
    },
    {
      "cell_type": "markdown",
      "source": [
        "#### Computing expectation distribution"
      ],
      "metadata": {
        "id": "FFHftfTtP-fe"
      }
    },
    {
      "cell_type": "code",
      "source": [
        "real_probas = probabilities / probabilities.sum()\n",
        "\n",
        "expected_mean_dict = {}\n",
        "\n",
        "for loc in range(1000):\n",
        "    for scale in range(1000):\n",
        "        mean = loc + scale / 2\n",
        "        # in case met first time\n",
        "        current_proba = expected_mean_dict.get(mean, 0)\n",
        "        expected_mean_dict[mean] = current_proba + real_probas[loc, scale]"
      ],
      "metadata": {
        "id": "-_sUu1jxQWf5"
      },
      "execution_count": null,
      "outputs": []
    },
    {
      "cell_type": "code",
      "source": [
        "mean_proba_pairs = list(expected_mean_dict.items())\n",
        "mean_proba_pairs = np.array(sorted(mean_proba_pairs, key = lambda x: x[0]))\n",
        "\n",
        "plt.figure(figsize = (10, 3))#, dpi = 300)\n",
        "plt.plot(mean_proba_pairs[:, 0], mean_proba_pairs[:, 1])\n",
        "plt.xlim([0, 100])\n",
        "plt.xlabel(\"Expectation\")\n",
        "plt.ylabel(\"P(Expectation)\")\n",
        "plt.show()"
      ],
      "metadata": {
        "colab": {
          "base_uri": "https://localhost:8080/",
          "height": 225
        },
        "id": "OnS7gNhkQZ44",
        "outputId": "2ef88380-34d0-4e1a-c70f-0b15ebffd8ba"
      },
      "execution_count": null,
      "outputs": [
        {
          "output_type": "display_data",
          "data": {
            "text/plain": [
              "<Figure size 720x216 with 1 Axes>"
            ],
            "image/png": "[encoded data removed]"
          },
          "metadata": {}
        }
      ]
    },
    {
      "cell_type": "markdown",
      "source": [
        "#### Computing expected expectation"
      ],
      "metadata": {
        "id": "ZAIvWwY-QpIa"
      }
    },
    {
      "cell_type": "code",
      "source": [
        "mean_matrix = np.zeros((1000, 1000))\n",
        "for loc in range(1000):\n",
        "    for scale in range(1000):\n",
        "        mean_matrix[loc, scale] = loc + scale / 2"
      ],
      "metadata": {
        "id": "9bM0fkMIQg14"
      },
      "execution_count": null,
      "outputs": []
    },
    {
      "cell_type": "code",
      "source": [
        "mean_expectation = (real_probas * mean_matrix).sum()\n",
        "print(\"Mean expectation = \", round(mean_expectation, 4))"
      ],
      "metadata": {
        "colab": {
          "base_uri": "https://localhost:8080/"
        },
        "id": "sWiuXWJ8Qhuy",
        "outputId": "a8d086ea-86f0-4991-8fec-0bbc99b8d613"
      },
      "execution_count": null,
      "outputs": [
        {
          "output_type": "stream",
          "name": "stdout",
          "text": [
            "Mean expectation =  3.8668\n"
          ]
        }
      ]
    },
    {
      "cell_type": "markdown",
      "source": [
        "### Five samples"
      ],
      "metadata": {
        "id": "PiaiwrSGQvzJ"
      }
    },
    {
      "cell_type": "code",
      "source": [
        "samples = [sample]\n",
        "\n",
        "for i in range(4):\n",
        "    sample = bandit.trigger(0) + cost\n",
        "    print(\"Returned value:\", sample)\n",
        "\n",
        "    for loc in tqdm(range(1000)):\n",
        "        for scale in range(1000):\n",
        "            # not wasting time on 0\n",
        "            if probabilities[loc, scale]:\n",
        "                probabilities[loc, scale] *= stats.randint.pmf(sample, loc, loc + 1 + scale)\n",
        "\n",
        "    samples.append(sample)"
      ],
      "metadata": {
        "colab": {
          "base_uri": "https://localhost:8080/",
          "height": 214,
          "referenced_widgets": [
            "a894ec89b4604b2c843fdda09dfba5ba",
            "f50bdd761bbe4ef3b6572bc474f2a400",
            "4b00ed8e7f7d4f4885ace4aeeefb5239",
            "98bee95528244664803fd09e9218b110",
            "2e71d7eae8e74e9d8029728aa829bbb5",
            "d25458ca2a8048d5ac2564f69268f15a",
            "20dd714db2b7454b95e3f6f26713718a",
            "45d4be59a4ef40efb9596221137d657d",
            "9501f460fec64c888ff7131cbdd8539b",
            "5572d5630d234d2bbefe3a75e4a661c9",
            "3336e58576c74dfbbb55e3fd62d9e869",
            "e422cc6dfdb9454d967bf6f47f592b11",
            "7a6f23ec62014edfbdec8d7dd0bbe15b",
            "108801d6c2f043aa8590ccce4f5eaab0",
            "ecb51a78f3e94d7aa23726e5643484b9",
            "0e8f13e0df2f4c9f8fcbbb975726382e",
            "cb574a7c3b4a4c3e8940cd7db6d94f67",
            "5bb3a3e73dda40dd8bf2b049aa3379b5",
            "9c963085ab184c91bc4cafdf830266f1",
            "6d92c04f8f5646b296555a5c49c6c5b8",
            "df9a25a4a942495683aa8ae5ea61a3c0",
            "97267a8796b244338223188bacfb7f0f",
            "edb2bc2c80574bd8b8864e981ab845cc",
            "502476d60fc04aec813f6e1beed18e8b",
            "eca2ddd5acad4044a2c5e180e0ffe910",
            "32af8efba7ff467c823be765e22ece81",
            "67861dcd7231433fb4c5cdd246a48501",
            "25fc7f5ec516457ebefe5fc8ed467b9b",
            "963bed8ddb254949b6fd41b735f42cc5",
            "29b0e1c8b9b94260a2b8629a4ab8955a",
            "55dbb127941243e4951f0723d1f0c3e3",
            "7d8232424d0f4999a6dcb89bc728b190",
            "129739f99a574c8ab361695196af70b3",
            "3421dc1c639c4c5ca8a5c9dafe552c61",
            "c4b7e6b3ab07498d807bc02a2a9511e9",
            "51ee01b497a143888e64d4761b8efd48",
            "cd4013e62dad41a094d7486706161f62",
            "bee123ee1e0e462db663b19c3444d46f",
            "d97af44cf5304e549622919eacbc6d0f",
            "3f221d44d16741d28afa712292ce981b",
            "da2ffd5116ba4be38778ef200b57984a",
            "99fb434c969a40209662af3ab50d292d",
            "5e99ac0d6fe74f58b4702f9c5dd06ada",
            "119fbb97810b4d928df4a3a45d9b4b63"
          ]
        },
        "id": "5pYDN1zjQzoI",
        "outputId": "913151eb-cdb5-4f65-98e8-b99ce487c671"
      },
      "execution_count": null,
      "outputs": [
        {
          "output_type": "stream",
          "name": "stdout",
          "text": [
            "Returned value: 2\n"
          ]
        },
        {
          "output_type": "display_data",
          "data": {
            "text/plain": [
              "  0%|          | 0/1000 [00:00<?, ?it/s]"
            ],
            "application/vnd.jupyter.widget-view+json": {
              "version_major": 2,
              "version_minor": 0,
              "model_id": "a894ec89b4604b2c843fdda09dfba5ba"
            }
          },
          "metadata": {}
        },
        {
          "output_type": "stream",
          "name": "stdout",
          "text": [
            "Returned value: 2\n"
          ]
        },
        {
          "output_type": "display_data",
          "data": {
            "text/plain": [
              "  0%|          | 0/1000 [00:00<?, ?it/s]"
            ],
            "application/vnd.jupyter.widget-view+json": {
              "version_major": 2,
              "version_minor": 0,
              "model_id": "e422cc6dfdb9454d967bf6f47f592b11"
            }
          },
          "metadata": {}
        },
        {
          "output_type": "stream",
          "name": "stdout",
          "text": [
            "Returned value: 2\n"
          ]
        },
        {
          "output_type": "display_data",
          "data": {
            "text/plain": [
              "  0%|          | 0/1000 [00:00<?, ?it/s]"
            ],
            "application/vnd.jupyter.widget-view+json": {
              "version_major": 2,
              "version_minor": 0,
              "model_id": "edb2bc2c80574bd8b8864e981ab845cc"
            }
          },
          "metadata": {}
        },
        {
          "output_type": "stream",
          "name": "stdout",
          "text": [
            "Returned value: 4\n"
          ]
        },
        {
          "output_type": "display_data",
          "data": {
            "text/plain": [
              "  0%|          | 0/1000 [00:00<?, ?it/s]"
            ],
            "application/vnd.jupyter.widget-view+json": {
              "version_major": 2,
              "version_minor": 0,
              "model_id": "3421dc1c639c4c5ca8a5c9dafe552c61"
            }
          },
          "metadata": {}
        }
      ]
    },
    {
      "cell_type": "code",
      "source": [
        "real_probas = probabilities / probabilities.sum()\n",
        "\n",
        "expected_mean_dict = {}\n",
        "\n",
        "for loc in range(1000):\n",
        "    for scale in range(1000):\n",
        "        mean = loc + scale / 2\n",
        "        # in case met first time\n",
        "        current_proba = expected_mean_dict.get(mean, 0)\n",
        "        expected_mean_dict[mean] = current_proba + real_probas[loc, scale]"
      ],
      "metadata": {
        "id": "t34piQuYQ7oL"
      },
      "execution_count": null,
      "outputs": []
    },
    {
      "cell_type": "code",
      "source": [
        "mean_proba_pairs = list(expected_mean_dict.items())\n",
        "mean_proba_pairs = np.array(sorted(mean_proba_pairs, key = lambda x: x[0]))\n",
        "\n",
        "plt.figure(figsize = (10, 3))#, dpi = 300)\n",
        "plt.plot(mean_proba_pairs[:, 0], mean_proba_pairs[:, 1])\n",
        "plt.xlim([0, 100])\n",
        "plt.xlabel(\"Expectation\")\n",
        "plt.ylabel(\"P(Expectation)\")\n",
        "plt.show()"
      ],
      "metadata": {
        "colab": {
          "base_uri": "https://localhost:8080/",
          "height": 225
        },
        "id": "2KLEDod-Q38A",
        "outputId": "a7c7484e-ac96-4001-fd8b-bc167acf5573"
      },
      "execution_count": null,
      "outputs": [
        {
          "output_type": "display_data",
          "data": {
            "text/plain": [
              "<Figure size 720x216 with 1 Axes>"
            ],
            "image/png": "[encoded data removed]"
          },
          "metadata": {}
        }
      ]
    },
    {
      "cell_type": "code",
      "source": [
        "mean_expectation = (real_probas * mean_matrix).sum()\n",
        "print(\"Mean expectation = \", round(mean_expectation, 4))"
      ],
      "metadata": {
        "colab": {
          "base_uri": "https://localhost:8080/"
        },
        "id": "qFMKWbfCRAXX",
        "outputId": "8d4e6fc6-c580-4b3c-9a9c-f5f8f6606bb5"
      },
      "execution_count": null,
      "outputs": [
        {
          "output_type": "stream",
          "name": "stdout",
          "text": [
            "Mean expectation =  3.5812\n"
          ]
        }
      ]
    },
    {
      "cell_type": "markdown",
      "source": [
        "## Task (Optional)"
      ],
      "metadata": {
        "id": "KJv9N7UFUdsR"
      }
    },
    {
      "cell_type": "markdown",
      "source": [
        "Create the best possible prior for existing initialization of distributions (when `distributions` is `None`). Explain why ypou suppose that prior you found is the best given initialisation schema. \n",
        "\n",
        "Generate 10 one-handed bandits and for each of them perform 100 steps of mean approximation using 3 priors:\n",
        "1. The best one\n",
        "2. Inverse loc \n",
        "3. Uniform prior\n",
        "\n",
        "Plot an approximation error for the expectation (MAE) at each of 100 steps for all the 3 priors. Draw a single plot, aggregating errors at steps (by mean) from all 10 bandits. "
      ],
      "metadata": {
        "id": "BnzfnGr_UiFo"
      }
    },
    {
      "cell_type": "markdown",
      "source": [
        "## Bayesian Upper Confidence Bound"
      ],
      "metadata": {
        "id": "0wCSq2_LQzEn"
      }
    },
    {
      "cell_type": "code",
      "source": [
        "from tqdm import tqdm"
      ],
      "metadata": {
        "id": "LLVByjxATXyQ"
      },
      "execution_count": null,
      "outputs": []
    },
    {
      "cell_type": "code",
      "source": [
        "bandit = UniformMultiArmedBandit(4, costs = [0] * 4)\n",
        "n_arms = 4"
      ],
      "metadata": {
        "id": "TxhidC-1TZ3_"
      },
      "execution_count": null,
      "outputs": []
    },
    {
      "cell_type": "code",
      "source": [
        "prior_probabilities = np.zeros((4, 1000, 1000))\n",
        "for i in range(1000):\n",
        "    prior_probabilities[:, i, :] = 1 / (i+1)"
      ],
      "metadata": {
        "id": "iSx0QU2qS76o"
      },
      "execution_count": null,
      "outputs": []
    },
    {
      "cell_type": "code",
      "source": [
        "rewards = [[bandit.trigger(i)] for i in range(n_arms)]"
      ],
      "metadata": {
        "id": "0FBQJleLTKv4"
      },
      "execution_count": null,
      "outputs": []
    },
    {
      "cell_type": "code",
      "source": [
        "for i in range(4):\n",
        "    for loc in tqdm(range(1000)):\n",
        "        for scale in range(1000):\n",
        "            prior_probabilities[i, loc, scale] *= stats.randint.pmf(rewards[i], loc, loc + 1 + scale)"
      ],
      "metadata": {
        "colab": {
          "base_uri": "https://localhost:8080/"
        },
        "id": "3SX8UwO-TLon",
        "outputId": "cd404975-cc83-45ec-959e-102e249255b8"
      },
      "execution_count": null,
      "outputs": [
        {
          "output_type": "stream",
          "name": "stderr",
          "text": [
            "100%|██████████| 1000/1000 [00:56<00:00, 17.63it/s]\n",
            "100%|██████████| 1000/1000 [00:51<00:00, 19.55it/s]\n",
            "100%|██████████| 1000/1000 [00:48<00:00, 20.50it/s]\n",
            "100%|██████████| 1000/1000 [00:50<00:00, 19.82it/s]\n"
          ]
        }
      ]
    },
    {
      "cell_type": "code",
      "source": [
        "# mean matrix is common\n",
        "mean_matrix = np.zeros((1000, 1000))\n",
        "for loc in range(1000):\n",
        "    for scale in range(1000):\n",
        "        mean_matrix[loc, scale] = loc + scale / 2\n",
        "\n",
        "\n",
        "def bayesian_policy(probas, n_arms = 4, c = 1):\n",
        "    upper_bounds = []\n",
        "    mean_expectations = []\n",
        "    # computing mean expectation and std\n",
        "    for i in range(n_arms):\n",
        "        # computing proba for each mean\n",
        "        real_probas = probas[i] / probas[i].sum()\n",
        "\n",
        "        # mean expectation\n",
        "        mean_expectation = (real_probas * mean_matrix).sum()\n",
        "        # expectation of square - square of expectation\n",
        "        variance = mean_matrix**2 * real_probas - mean_expectation**2\n",
        "        std = variance ** 0.5\n",
        "\n",
        "        mean_expectations.append(mean_expectation)\n",
        "        upper_bounds.append(mean_expectation + c * std)\n",
        "\n",
        "    return np.argmax(upper_bounds), mean_expectations[np.argmax(upper_bounds)]\n",
        "\n",
        "def update_prediction(probas, arm_id, sample):\n",
        "    for loc in range(1000):\n",
        "        for scale in range(1000):\n",
        "            # not wasting time on 0\n",
        "            if probas[arm_id, loc, scale]:\n",
        "                probas[arm_id, loc, scale] *= stats.randint.pmf(sample, loc, loc + 1 + scale)"
      ],
      "metadata": {
        "id": "5rufXKBWSWFQ"
      },
      "execution_count": null,
      "outputs": []
    },
    {
      "cell_type": "code",
      "source": [
        "# mean reward for each arm\n",
        "actual_means = [arm.distribution.mean() - arm.cost for arm in bandit.arms]\n",
        "# max mean reward\n",
        "real_max_exp = max(actual_means)\n",
        "\n",
        "estimated_mean_policy = []\n",
        "real_mean_policy = []\n",
        "\n",
        "N = 100\n",
        "\n",
        "for i in tqdm(range(N)):\n",
        "    # choosing an action\n",
        "    action, expectation = bayesian_policy(prior_probabilities, 4, 10)\n",
        "    reward = bandit.trigger(action)\n",
        "    # updating prediction\n",
        "    update_prediction(prior_probabilities, action, reward)\n",
        "\n",
        "    # recording the results\n",
        "    estimated_mean_policy.append(expectation)\n",
        "    rewards[action].append(reward)\n",
        "    real_mean_policy.append(actual_means[action])"
      ],
      "metadata": {
        "colab": {
          "base_uri": "https://localhost:8080/"
        },
        "id": "mYGCKVxtSLER",
        "outputId": "d07d03f5-edc9-4017-bd82-948de40d149a"
      },
      "execution_count": null,
      "outputs": [
        {
          "output_type": "stream",
          "name": "stderr",
          "text": [
            "  0%|          | 0/100 [00:00<?, ?it/s]/usr/local/lib/python3.7/dist-packages/ipykernel_launcher.py:20: RuntimeWarning: invalid value encountered in sqrt\n",
            "100%|██████████| 100/100 [01:18<00:00,  1.28it/s]\n"
          ]
        }
      ]
    },
    {
      "cell_type": "code",
      "source": [
        "plt.figure(figsize = (10, 3))#, dpi = 300)\n",
        "plt.plot(np.arange(N), [real_max_exp] * N, )\n",
        "plt.plot(np.arange(N), estimated_mean_policy)\n",
        "plt.plot(np.arange(N), real_mean_policy)\n",
        "plt.xlabel(\"Timestamp\")\n",
        "plt.ylabel(\"Value\")\n",
        "plt.legend(['Real max mean', 'Estimated mean by policy', 'Real mean by policy'])\n",
        "plt.show()"
      ],
      "metadata": {
        "colab": {
          "base_uri": "https://localhost:8080/",
          "height": 225
        },
        "id": "hRPk19ZBa7Xo",
        "outputId": "8a14f3ac-5e3d-4c59-b3c5-6f3d5fa4505f"
      },
      "execution_count": null,
      "outputs": [
        {
          "output_type": "display_data",
          "data": {
            "text/plain": [
              "<Figure size 720x216 with 1 Axes>"
            ],
            "image/png": "[encoded data removed]"
          },
          "metadata": {}
        }
      ]
    },
    {
      "cell_type": "code",
      "source": [
        "plt.figure(figsize = (10, 3))#, dpi = 300)\n",
        "plt.plot(np.arange(10, N), [real_max_exp] * (N - 10))\n",
        "plt.plot(np.arange(10, N), estimated_mean_policy[10:])\n",
        "plt.plot(np.arange(10, N), real_mean_policy[10:])\n",
        "plt.xlabel(\"Timestamp\")\n",
        "plt.ylabel(\"Value\")\n",
        "plt.legend(['Real max mean', 'Estimated mean by policy', 'Real mean by policy'])\n",
        "plt.show()"
      ],
      "metadata": {
        "colab": {
          "base_uri": "https://localhost:8080/",
          "height": 225
        },
        "id": "SPR_RaawZ8rD",
        "outputId": "62061d2f-79ab-4c8a-ce21-781ef99e830a"
      },
      "execution_count": null,
      "outputs": [
        {
          "output_type": "display_data",
          "data": {
            "text/plain": [
              "<Figure size 720x216 with 1 Axes>"
            ],
            "image/png": "[encoded data removed]"
          },
          "metadata": {}
        }
      ]
    }
  ]
}