{
  "nbformat": 4,
  "nbformat_minor": 0,
  "metadata": {
    "colab": {
      "provenance": []
    },
    "kernelspec": {
      "name": "python3",
      "display_name": "Python 3"
    },
    "language_info": {
      "name": "python"
    },
    "accelerator": "GPU",
    "gpuClass": "standard",
    "widgets": {
      "application/vnd.jupyter.widget-state+json": {
        "0f1ef1b87d1149d69dac640763f47c8a": {
          "model_module": "@jupyter-widgets/controls",
          "model_name": "HBoxModel",
          "model_module_version": "1.5.0",
          "state": {
            "_dom_classes": [],
            "_model_module": "@jupyter-widgets/controls",
            "_model_module_version": "1.5.0",
            "_model_name": "HBoxModel",
            "_view_count": null,
            "_view_module": "@jupyter-widgets/controls",
            "_view_module_version": "1.5.0",
            "_view_name": "HBoxView",
            "box_style": "",
            "children": [
              "IPY_MODEL_2f7d5a7f599b497eb342474f61a9a9f2",
              "IPY_MODEL_88f4b4449c9c49399a331addbd0ca7de",
              "IPY_MODEL_3de34baa4cb443fa8cfd747426562656"
            ],
            "layout": "IPY_MODEL_987947f053b04132a95c70a3f1df0ee6"
          }
        },
        "2f7d5a7f599b497eb342474f61a9a9f2": {
          "model_module": "@jupyter-widgets/controls",
          "model_name": "HTMLModel",
          "model_module_version": "1.5.0",
          "state": {
            "_dom_classes": [],
            "_model_module": "@jupyter-widgets/controls",
            "_model_module_version": "1.5.0",
            "_model_name": "HTMLModel",
            "_view_count": null,
            "_view_module": "@jupyter-widgets/controls",
            "_view_module_version": "1.5.0",
            "_view_name": "HTMLView",
            "description": "",
            "description_tooltip": null,
            "layout": "IPY_MODEL_4fcf6d59ac4945ae9d269783ee4cc5a2",
            "placeholder": "​",
            "style": "IPY_MODEL_8255528874554d23b915966d4cc433fd",
            "value": "100%"
          }
        },
        "88f4b4449c9c49399a331addbd0ca7de": {
          "model_module": "@jupyter-widgets/controls",
          "model_name": "FloatProgressModel",
          "model_module_version": "1.5.0",
          "state": {
            "_dom_classes": [],
            "_model_module": "@jupyter-widgets/controls",
            "_model_module_version": "1.5.0",
            "_model_name": "FloatProgressModel",
            "_view_count": null,
            "_view_module": "@jupyter-widgets/controls",
            "_view_module_version": "1.5.0",
            "_view_name": "ProgressView",
            "bar_style": "success",
            "description": "",
            "description_tooltip": null,
            "layout": "IPY_MODEL_a2e13b7539e0454da609135324c55be3",
            "max": 500,
            "min": 0,
            "orientation": "horizontal",
            "style": "IPY_MODEL_dbea9f687bf74783819c9382013d7b82",
            "value": 500
          }
        },
        "3de34baa4cb443fa8cfd747426562656": {
          "model_module": "@jupyter-widgets/controls",
          "model_name": "HTMLModel",
          "model_module_version": "1.5.0",
          "state": {
            "_dom_classes": [],
            "_model_module": "@jupyter-widgets/controls",
            "_model_module_version": "1.5.0",
            "_model_name": "HTMLModel",
            "_view_count": null,
            "_view_module": "@jupyter-widgets/controls",
            "_view_module_version": "1.5.0",
            "_view_name": "HTMLView",
            "description": "",
            "description_tooltip": null,
            "layout": "IPY_MODEL_1ae6ce5958254645acf42a3b752bda4d",
            "placeholder": "​",
            "style": "IPY_MODEL_10ff52ab06324c0881c0bc72ec2eaf6b",
            "value": " 500/500 [04:23&lt;00:00,  3.46it/s]"
          }
        },
        "987947f053b04132a95c70a3f1df0ee6": {
          "model_module": "@jupyter-widgets/base",
          "model_name": "LayoutModel",
          "model_module_version": "1.2.0",
          "state": {
            "_model_module": "@jupyter-widgets/base",
            "_model_module_version": "1.2.0",
            "_model_name": "LayoutModel",
            "_view_count": null,
            "_view_module": "@jupyter-widgets/base",
            "_view_module_version": "1.2.0",
            "_view_name": "LayoutView",
            "align_content": null,
            "align_items": null,
            "align_self": null,
            "border": null,
            "bottom": null,
            "display": null,
            "flex": null,
            "flex_flow": null,
            "grid_area": null,
            "grid_auto_columns": null,
            "grid_auto_flow": null,
            "grid_auto_rows": null,
            "grid_column": null,
            "grid_gap": null,
            "grid_row": null,
            "grid_template_areas": null,
            "grid_template_columns": null,
            "grid_template_rows": null,
            "height": null,
            "justify_content": null,
            "justify_items": null,
            "left": null,
            "margin": null,
            "max_height": null,
            "max_width": null,
            "min_height": null,
            "min_width": null,
            "object_fit": null,
            "object_position": null,
            "order": null,
            "overflow": null,
            "overflow_x": null,
            "overflow_y": null,
            "padding": null,
            "right": null,
            "top": null,
            "visibility": null,
            "width": null
          }
        },
        "4fcf6d59ac4945ae9d269783ee4cc5a2": {
          "model_module": "@jupyter-widgets/base",
          "model_name": "LayoutModel",
          "model_module_version": "1.2.0",
          "state": {
            "_model_module": "@jupyter-widgets/base",
            "_model_module_version": "1.2.0",
            "_model_name": "LayoutModel",
            "_view_count": null,
            "_view_module": "@jupyter-widgets/base",
            "_view_module_version": "1.2.0",
            "_view_name": "LayoutView",
            "align_content": null,
            "align_items": null,
            "align_self": null,
            "border": null,
            "bottom": null,
            "display": null,
            "flex": null,
            "flex_flow": null,
            "grid_area": null,
            "grid_auto_columns": null,
            "grid_auto_flow": null,
            "grid_auto_rows": null,
            "grid_column": null,
            "grid_gap": null,
            "grid_row": null,
            "grid_template_areas": null,
            "grid_template_columns": null,
            "grid_template_rows": null,
            "height": null,
            "justify_content": null,
            "justify_items": null,
            "left": null,
            "margin": null,
            "max_height": null,
            "max_width": null,
            "min_height": null,
            "min_width": null,
            "object_fit": null,
            "object_position": null,
            "order": null,
            "overflow": null,
            "overflow_x": null,
            "overflow_y": null,
            "padding": null,
            "right": null,
            "top": null,
            "visibility": null,
            "width": null
          }
        },
        "8255528874554d23b915966d4cc433fd": {
          "model_module": "@jupyter-widgets/controls",
          "model_name": "DescriptionStyleModel",
          "model_module_version": "1.5.0",
          "state": {
            "_model_module": "@jupyter-widgets/controls",
            "_model_module_version": "1.5.0",
            "_model_name": "DescriptionStyleModel",
            "_view_count": null,
            "_view_module": "@jupyter-widgets/base",
            "_view_module_version": "1.2.0",
            "_view_name": "StyleView",
            "description_width": ""
          }
        },
        "a2e13b7539e0454da609135324c55be3": {
          "model_module": "@jupyter-widgets/base",
          "model_name": "LayoutModel",
          "model_module_version": "1.2.0",
          "state": {
            "_model_module": "@jupyter-widgets/base",
            "_model_module_version": "1.2.0",
            "_model_name": "LayoutModel",
            "_view_count": null,
            "_view_module": "@jupyter-widgets/base",
            "_view_module_version": "1.2.0",
            "_view_name": "LayoutView",
            "align_content": null,
            "align_items": null,
            "align_self": null,
            "border": null,
            "bottom": null,
            "display": null,
            "flex": null,
            "flex_flow": null,
            "grid_area": null,
            "grid_auto_columns": null,
            "grid_auto_flow": null,
            "grid_auto_rows": null,
            "grid_column": null,
            "grid_gap": null,
            "grid_row": null,
            "grid_template_areas": null,
            "grid_template_columns": null,
            "grid_template_rows": null,
            "height": null,
            "justify_content": null,
            "justify_items": null,
            "left": null,
            "margin": null,
            "max_height": null,
            "max_width": null,
            "min_height": null,
            "min_width": null,
            "object_fit": null,
            "object_position": null,
            "order": null,
            "overflow": null,
            "overflow_x": null,
            "overflow_y": null,
            "padding": null,
            "right": null,
            "top": null,
            "visibility": null,
            "width": null
          }
        },
        "dbea9f687bf74783819c9382013d7b82": {
          "model_module": "@jupyter-widgets/controls",
          "model_name": "ProgressStyleModel",
          "model_module_version": "1.5.0",
          "state": {
            "_model_module": "@jupyter-widgets/controls",
            "_model_module_version": "1.5.0",
            "_model_name": "ProgressStyleModel",
            "_view_count": null,
            "_view_module": "@jupyter-widgets/base",
            "_view_module_version": "1.2.0",
            "_view_name": "StyleView",
            "bar_color": null,
            "description_width": ""
          }
        },
        "1ae6ce5958254645acf42a3b752bda4d": {
          "model_module": "@jupyter-widgets/base",
          "model_name": "LayoutModel",
          "model_module_version": "1.2.0",
          "state": {
            "_model_module": "@jupyter-widgets/base",
            "_model_module_version": "1.2.0",
            "_model_name": "LayoutModel",
            "_view_count": null,
            "_view_module": "@jupyter-widgets/base",
            "_view_module_version": "1.2.0",
            "_view_name": "LayoutView",
            "align_content": null,
            "align_items": null,
            "align_self": null,
            "border": null,
            "bottom": null,
            "display": null,
            "flex": null,
            "flex_flow": null,
            "grid_area": null,
            "grid_auto_columns": null,
            "grid_auto_flow": null,
            "grid_auto_rows": null,
            "grid_column": null,
            "grid_gap": null,
            "grid_row": null,
            "grid_template_areas": null,
            "grid_template_columns": null,
            "grid_template_rows": null,
            "height": null,
            "justify_content": null,
            "justify_items": null,
            "left": null,
            "margin": null,
            "max_height": null,
            "max_width": null,
            "min_height": null,
            "min_width": null,
            "object_fit": null,
            "object_position": null,
            "order": null,
            "overflow": null,
            "overflow_x": null,
            "overflow_y": null,
            "padding": null,
            "right": null,
            "top": null,
            "visibility": null,
            "width": null
          }
        },
        "10ff52ab06324c0881c0bc72ec2eaf6b": {
          "model_module": "@jupyter-widgets/controls",
          "model_name": "DescriptionStyleModel",
          "model_module_version": "1.5.0",
          "state": {
            "_model_module": "@jupyter-widgets/controls",
            "_model_module_version": "1.5.0",
            "_model_name": "DescriptionStyleModel",
            "_view_count": null,
            "_view_module": "@jupyter-widgets/base",
            "_view_module_version": "1.2.0",
            "_view_name": "StyleView",
            "description_width": ""
          }
        }
      }
    }
  },
  "cells": [
    {
      "cell_type": "markdown",
      "source": [
        "# Task"
      ],
      "metadata": {
        "id": "V8vV9DQLRcMW"
      }
    },
    {
      "cell_type": "markdown",
      "source": [
        "Consider windy gridworld environment. Implement simple SARSA and SARSA($\\lambda$) learning algorithms. Given 100 episodes:\n",
        "\n",
        "1. Compare different values of lambda by the means of total number of actions over 100 episodes.\n",
        "2. Varying $\\alpha$ and $\\lambda$, train SARSA($\\lambda$). Then, stop learning and evaluate the SARSA results several times. Compute average number of performed actions until the end of the episode for each pair of $\\alpha$ and $\\lambda$. Display plots analogous to ones shown in the lecture. "
      ],
      "metadata": {
        "id": "DSBrSNVPResO"
      }
    },
    {
      "cell_type": "code",
      "source": [
        "import numpy as np\n",
        "import pylab as pl\n",
        "import matplotlib.pyplot as plt \n",
        "import seaborn as sns\n",
        "import time\n",
        "\n",
        "%matplotlib inline\n",
        "sns.set_style(\"whitegrid\")"
      ],
      "metadata": {
        "id": "9G1qDB8viTB3"
      },
      "execution_count": 6,
      "outputs": []
    },
    {
      "cell_type": "code",
      "source": [
        "class GridWorld(object):\n",
        "    \n",
        "    def __init__(self):\n",
        "        super(GridWorld, self).__init__()\n",
        "        self.start = 0\n",
        "        self.goal = 0\n",
        "        \n",
        "        # Provide the setting of gridWorld rows and columns\n",
        "        self.row = 7\n",
        "        self.col = 10\n",
        "        self.x_max = self.col - 1\n",
        "        self.y_max = self.row - 1\n",
        "\n",
        "        # Declare windy columns and their effect\n",
        "        self.wind_1 = [3, 4, 5, 8]\n",
        "        self.wind_2 = [6, 7]\n",
        "        \n",
        "        # Provide action list : Up/Down/Left/Right\n",
        "        self.actions_list = ['N', 'E', 'S', 'W']\n",
        "      \n",
        "    # here, cells defined by index\n",
        "    def cell(self,pos):\n",
        "        return pos[1] + self.col * pos[0]\n",
        "    \n",
        "    def setTerminal(self, startState, goalState):\n",
        "        # startState and goalState are tuples\n",
        "        self.start = self.cell(startState)\n",
        "        self.goal = self.cell(goalState)\n",
        "        \n",
        "    def nextState(self, state, action):\n",
        "        # The \"state\" parameter is an integer that represents position in grid\n",
        "        x = state % self.col\n",
        "        y = (state - x) / self.col\n",
        "\n",
        "        # Now let's define and interpret actions\n",
        "        del_x = 0\n",
        "        del_y = 0\n",
        "        if action == 'E':\n",
        "            del_x = 1\n",
        "        elif action == 'W':\n",
        "            del_x = -1\n",
        "        elif action == 'N':\n",
        "            del_y = -1\n",
        "        elif action == 'S':\n",
        "            del_y = 1\n",
        "        else:\n",
        "            raise('Invalid action! Actions taken must be in: ', self.actions_list)\n",
        "\n",
        "        # Now move to new position\n",
        "        new_x = max(0, min(x + del_x, self.x_max))\n",
        "        new_y = max(0, min(y + del_y, self.y_max))\n",
        "        \n",
        "        # When wind blows to a new state\n",
        "        if new_x in self.wind_1:\n",
        "            new_y = max(0, new_y - 1)\n",
        "        if new_x in self.wind_2:\n",
        "            new_y = max(0, new_y - 2)\n",
        "        \n",
        "        # now let's return these new state values\n",
        "        return self.cell((new_y,new_x))\n",
        "    \n",
        "    def checkTerminal(self, state):\n",
        "        return state == self.goal\n",
        "    \n",
        "    def rewardFunction(self, state_prime):\n",
        "        # When it reaches terminal state then reward is 0 else all actions should yield -1\n",
        "        if self.checkTerminal(state_prime):\n",
        "            return 0\n",
        "        else:\n",
        "            return -1"
      ],
      "metadata": {
        "id": "DDsTJYxMiZiy"
      },
      "execution_count": 1,
      "outputs": []
    },
    {
      "cell_type": "code",
      "source": [
        "def trajectoryPath(world, traj):\n",
        "    # Initialize gridworld\n",
        "    world_map = np.zeros((world.row, world.col))\n",
        "    for i,state in enumerate(traj):\n",
        "        x = int(state % world.col)\n",
        "        y = int((state - x) / world.col)\n",
        "        world_map[y, x] = i + 1\n",
        "    print(world_map)\n",
        "    print(\"\\n\")"
      ],
      "metadata": {
        "id": "caViQuVAijep"
      },
      "execution_count": 2,
      "outputs": []
    },
    {
      "cell_type": "code",
      "source": [
        "# function for greedy action\n",
        "def greedyAct(_q_dict):\n",
        "    greedy_act = ''\n",
        "    max_q = -1e10\n",
        "    for act in world.actions_list:\n",
        "        if _q_dict[act] > max_q:\n",
        "            greedy_act = act\n",
        "            max_q = _q_dict[act]\n",
        "    return greedy_act\n",
        "\n",
        "# function for epsilon-greedy action\n",
        "def epsGreedy(episode, q_dict, epsilon):\n",
        "    \n",
        "    m = len(world.actions_list)\n",
        "    greedy_act = greedyAct(q_dict)\n",
        "\n",
        "    # strange implementation; today you will see better ones\n",
        "    p = []\n",
        "    for act in world.actions_list:\n",
        "        if act == greedy_act:\n",
        "            p.append((epsilon * 1. / m) + 1 - epsilon)\n",
        "        else:\n",
        "            p.append(epsilon * 1. / m)\n",
        "\n",
        "    # choose one action given proba\n",
        "    choice = np.random.choice(world.actions_list, size = 1, p = p)\n",
        "    return choice[0]"
      ],
      "metadata": {
        "id": "Jtuwmhy8imtt"
      },
      "execution_count": 3,
      "outputs": []
    },
    {
      "cell_type": "code",
      "source": [
        "def gridWorld_SARSA(world, startState, goalState, alpha=0.1, gamma=1, epsilon=0.1):\n",
        "    # Consider input parameters:\n",
        "    # gamma = 1 as discounted factor\n",
        "    # default values of alpha and epsilon considered, it will be changed for multiple analysis\n",
        "    world.setTerminal(startState, goalState)\n",
        "    \n",
        "    # Initialize Q(s,a)\n",
        "    q_table = {}\n",
        "    for state in range(world.row * world.col):\n",
        "        q_table[state] = {}\n",
        "        for act in world.actions_list:\n",
        "            q_table[state][act] = 0\n",
        "    \n",
        "    ep = 1 # Episode number\n",
        "    ep_max = 100 # number of max episodes\n",
        "    step_ep_list = []\n",
        "    step = 0\n",
        "\n",
        "    # strange implementation\n",
        "    while ep < ep_max:\n",
        "\n",
        "        # Initialize state\n",
        "        state = world.cell(startState)\n",
        "        trajectory = [state]\n",
        "        \n",
        "        # Choose action from state\n",
        "        act = epsGreedy(ep, q_table[state], epsilon)\n",
        "\n",
        "        # Processing action\n",
        "        while not world.checkTerminal(state):\n",
        "            state_prime = world.nextState(state, act)\n",
        "            reward = world.rewardFunction(state_prime)\n",
        "            act_prime = epsGreedy(ep, q_table[state_prime], epsilon)\n",
        "            # what's wrong with it?\n",
        "            q_table[state][act] += alpha * (reward + gamma * q_table[state_prime][act_prime] - q_table[state][act])\n",
        "            state = state_prime\n",
        "            act = act_prime\n",
        "\n",
        "            # Increase Step Counter\n",
        "            step += 1\n",
        "            \n",
        "            # Store the index of the episode of this time step\n",
        "            step_ep_list.append(ep)\n",
        "            \n",
        "            # Update the trajectory\n",
        "            trajectory.append(state)\n",
        "        \n",
        "        if ep == (ep_max - 1):\n",
        "            trajectoryPath(world, trajectory)\n",
        "        # Increase the episode counter\n",
        "        ep += 1\n",
        "    \n",
        "    start_time = time.time()\n",
        "    plt.plot(step_ep_list)\n",
        "    print(\"Time elapsed is (in Secs): \", time.time() - start_time)\n",
        "    plt.title('WindyGridWorld_SARSA ', fontsize = 'large')\n",
        "    plt.xlabel(\"Number of Steps taken\")\n",
        "    plt.ylabel(\"Number of Episodes\")\n",
        "    plt.show()"
      ],
      "metadata": {
        "id": "h-249rmJirnK"
      },
      "execution_count": 8,
      "outputs": []
    },
    {
      "cell_type": "code",
      "source": [
        "startState = (3, 0)\n",
        "goalState = (3, 7)\n",
        "world = GridWorld()\n",
        "print(\"Plot for Option: ∈=0.1, α=0.5 \\n\")\n",
        "gridWorld_SARSA(world, startState, goalState, alpha=0.5, epsilon=0.1)"
      ],
      "metadata": {
        "colab": {
          "base_uri": "https://localhost:8080/",
          "height": 503
        },
        "id": "TaqKhIllivsx",
        "outputId": "cacab123-6cb1-441c-8774-3fb51f31ecbe"
      },
      "execution_count": 9,
      "outputs": [
        {
          "output_type": "stream",
          "name": "stdout",
          "text": [
            "Plot for Option: ∈=0.1, α=0.5 \n",
            "\n",
            "[[ 0.  0. 21. 22. 23. 24. 25. 30. 31. 32.]\n",
            " [ 0. 19. 20. 17.  0.  0.  0.  0.  0. 33.]\n",
            " [ 0.  0.  0.  0.  0.  0.  0.  0.  0. 34.]\n",
            " [ 1.  0.  0. 16.  0.  0.  0. 40.  0. 35.]\n",
            " [ 4.  5. 15. 14.  0.  0.  0.  0.  0. 36.]\n",
            " [ 7. 10. 11.  0.  0.  0.  0.  0. 39. 37.]\n",
            " [ 0.  0.  0.  0.  0.  0.  0.  0.  0. 38.]]\n",
            "\n",
            "\n",
            "Time elapsed is (in Secs):  0.012658357620239258\n"
          ]
        },
        {
          "output_type": "display_data",
          "data": {
            "text/plain": [
              "<Figure size 432x288 with 1 Axes>"
            ],
            "image/png": "[encoded data removed]"
          },
          "metadata": {}
        }
      ]
    },
    {
      "cell_type": "code",
      "source": [
        "def gridWorld_SARSA_lambda(world, startState, goalState, alpha=0.1, gamma=1, epsilon=0.1, l=1, plot=True, return_q_table=False):\n",
        "    # Consider input parameters:\n",
        "    # gamma = 1 as discounted factor\n",
        "    # default values of alpha and epsilon considered, it will be changed for multiple analysis\n",
        "    world.setTerminal(startState, goalState)\n",
        "    \n",
        "    # Initialize Q(s,a)\n",
        "    q_table = {}\n",
        "    for state in range(world.row * world.col):\n",
        "        q_table[state] = {}\n",
        "        for act in world.actions_list:\n",
        "            q_table[state][act] = 0\n",
        "\n",
        "    total_actions_taken = 0\n",
        "    ep = 1 # Episode number\n",
        "    ep_max = 100 # number of max episodes\n",
        "    step_ep_list = []\n",
        "    step = 0\n",
        "\n",
        "    # strange implementation\n",
        "    while ep < ep_max:\n",
        "\n",
        "        # Initialize state\n",
        "        state = world.cell(startState)\n",
        "        trajectory = [state]\n",
        "\n",
        "        # Initialize e(s,a)\n",
        "        e_table = {}\n",
        "        for state in range(world.row * world.col):\n",
        "            e_table[state] = {}\n",
        "            for act in world.actions_list:\n",
        "                e_table[state][act] = 0\n",
        "        \n",
        "        # Choose action from state\n",
        "        act = epsGreedy(ep, q_table[state], epsilon)\n",
        "        total_actions_taken += 1\n",
        "\n",
        "        # Processing action\n",
        "        while not world.checkTerminal(state):\n",
        "            state_prime = world.nextState(state, act)\n",
        "            reward = world.rewardFunction(state_prime)\n",
        "            act_prime = epsGreedy(ep, q_table[state_prime], epsilon)\n",
        "            total_actions_taken += 1\n",
        "\n",
        "            #calculate delta\n",
        "            delta = reward + gamma*q_table[state_prime][act_prime] - q_table[state][act]\n",
        "            \n",
        "            #update e(s,a)\n",
        "            e_table[state][act] += 1\n",
        "\n",
        "            # update all Qtable and Etable\n",
        "            for s in range(world.row * world.col):\n",
        "                for a in world.actions_list:\n",
        "                    q_table [s][a] += alpha  * delta * e_table[s][a]\n",
        "                    e_table[s][a] *= l * gamma \n",
        "\n",
        "            \n",
        "            state = state_prime\n",
        "            act = act_prime\n",
        "\n",
        "            # Increase Step Counter\n",
        "            step += 1\n",
        "            \n",
        "            # Store the index of the episode of this time step\n",
        "            step_ep_list.append(ep)\n",
        "            \n",
        "            # Update the trajectory\n",
        "            trajectory.append(state)\n",
        "        \n",
        "        if ep == (ep_max - 1):\n",
        "            trajectoryPath(world, trajectory)\n",
        "        # Increase the episode counter\n",
        "        ep += 1\n",
        "    \n",
        "    start_time = time.time()\n",
        "    \n",
        "    if plot :\n",
        "      plt.plot(step_ep_list)\n",
        "      print(\"Time elapsed is (in Secs): \", time.time() - start_time)\n",
        "      plt.title('WindyGridWorld_SARSA_lambda ', fontsize = 'large')\n",
        "      plt.xlabel(\"Number of Steps taken\")\n",
        "      plt.ylabel(\"Number of Episodes\")\n",
        "      plt.show()\n",
        "\n",
        "    if return_q_table:\n",
        "      return q_table\n",
        "\n",
        "    return total_actions_taken"
      ],
      "metadata": {
        "id": "NbW-7vG6jKce"
      },
      "execution_count": 38,
      "outputs": []
    },
    {
      "cell_type": "code",
      "source": [
        "startState = (3, 0)\n",
        "goalState = (3, 7)\n",
        "world = GridWorld()\n",
        "print(\"Plot for Option: ∈=0.1, α=0.5, l=0.3 \\n\")\n",
        "gridWorld_SARSA_lambda(world, startState, goalState, alpha=0.5, epsilon=0.1, l=0.3)"
      ],
      "metadata": {
        "colab": {
          "base_uri": "https://localhost:8080/",
          "height": 503
        },
        "id": "PM4SzicmwT_j",
        "outputId": "2526d7e0-9538-485c-adf7-3565176dabf8"
      },
      "execution_count": 28,
      "outputs": [
        {
          "output_type": "stream",
          "name": "stdout",
          "text": [
            "Plot for Option: ∈=0.1, α=0.5, l=0.3 \n",
            "\n",
            "[[0. 0. 0. 0. 0. 0. 0. 0. 0. 0.]\n",
            " [0. 0. 0. 0. 0. 0. 0. 0. 0. 0.]\n",
            " [0. 0. 0. 0. 0. 0. 0. 0. 0. 0.]\n",
            " [1. 0. 0. 0. 0. 0. 0. 3. 0. 0.]\n",
            " [0. 0. 0. 0. 0. 0. 0. 0. 0. 0.]\n",
            " [0. 0. 0. 0. 0. 0. 0. 0. 2. 0.]\n",
            " [0. 0. 0. 0. 0. 0. 0. 0. 0. 0.]]\n",
            "\n",
            "\n",
            "Time elapsed is (in Secs):  0.011435747146606445\n"
          ]
        },
        {
          "output_type": "display_data",
          "data": {
            "text/plain": [
              "<Figure size 432x288 with 1 Axes>"
            ],
            "image/png": "[encoded data removed]"
          },
          "metadata": {}
        }
      ]
    },
    {
      "cell_type": "code",
      "source": [
        "#answer for task 1\n",
        "\n",
        "lambdas = [0.1, 0.2, 0.3, 0.4, 0.5, 0.6, 0.7, 0.8, 0.9]\n",
        "actions = []\n",
        "for l in lambdas:\n",
        "  actions.append(gridWorld_SARSA_lambda(world, startState, goalState, alpha=0.5, epsilon=0.1, l=l, plot=False))"
      ],
      "metadata": {
        "colab": {
          "base_uri": "https://localhost:8080/"
        },
        "id": "3GBeyMp-3jLr",
        "outputId": "4fde0569-d0fb-4b8b-d252-71de07df2bdf"
      },
      "execution_count": 35,
      "outputs": [
        {
          "output_type": "stream",
          "name": "stdout",
          "text": [
            "[[0. 0. 0. 0. 0. 0. 0. 0. 0. 0.]\n",
            " [0. 0. 0. 0. 0. 0. 0. 0. 0. 0.]\n",
            " [0. 0. 0. 0. 0. 0. 0. 0. 0. 0.]\n",
            " [1. 0. 0. 0. 0. 0. 0. 3. 0. 0.]\n",
            " [0. 0. 0. 0. 0. 0. 0. 0. 0. 0.]\n",
            " [0. 0. 0. 0. 0. 0. 0. 0. 2. 0.]\n",
            " [0. 0. 0. 0. 0. 0. 0. 0. 0. 0.]]\n",
            "\n",
            "\n",
            "[[0. 0. 0. 0. 0. 0. 0. 0. 0. 0.]\n",
            " [0. 0. 0. 0. 0. 0. 0. 0. 0. 0.]\n",
            " [0. 0. 0. 0. 0. 0. 0. 0. 0. 0.]\n",
            " [1. 0. 0. 0. 0. 0. 0. 3. 0. 0.]\n",
            " [0. 0. 0. 0. 0. 0. 0. 0. 0. 0.]\n",
            " [0. 0. 0. 0. 0. 0. 0. 0. 2. 0.]\n",
            " [0. 0. 0. 0. 0. 0. 0. 0. 0. 0.]]\n",
            "\n",
            "\n",
            "[[0. 0. 0. 0. 0. 0. 0. 0. 0. 0.]\n",
            " [0. 0. 0. 0. 0. 0. 0. 0. 0. 0.]\n",
            " [0. 0. 0. 0. 0. 0. 0. 0. 0. 0.]\n",
            " [1. 0. 0. 0. 0. 0. 0. 3. 0. 0.]\n",
            " [0. 0. 0. 0. 0. 0. 0. 0. 0. 0.]\n",
            " [0. 0. 0. 0. 0. 0. 0. 0. 2. 0.]\n",
            " [0. 0. 0. 0. 0. 0. 0. 0. 0. 0.]]\n",
            "\n",
            "\n",
            "[[0. 0. 0. 0. 0. 0. 0. 0. 0. 0.]\n",
            " [0. 0. 0. 0. 0. 0. 0. 0. 0. 0.]\n",
            " [0. 0. 0. 0. 0. 0. 0. 0. 0. 0.]\n",
            " [1. 0. 0. 0. 0. 0. 0. 6. 0. 0.]\n",
            " [0. 0. 0. 0. 0. 0. 0. 0. 0. 0.]\n",
            " [0. 0. 0. 0. 0. 0. 0. 0. 5. 3.]\n",
            " [0. 0. 0. 0. 0. 0. 0. 0. 0. 4.]]\n",
            "\n",
            "\n",
            "[[0. 0. 0. 0. 0. 0. 0. 0. 0. 0.]\n",
            " [0. 0. 0. 0. 0. 0. 0. 0. 0. 0.]\n",
            " [0. 0. 0. 0. 0. 0. 0. 0. 0. 0.]\n",
            " [1. 0. 0. 0. 0. 0. 0. 5. 0. 0.]\n",
            " [0. 0. 0. 0. 0. 0. 0. 0. 0. 0.]\n",
            " [0. 0. 0. 0. 0. 0. 0. 0. 4. 2.]\n",
            " [0. 0. 0. 0. 0. 0. 0. 0. 0. 3.]]\n",
            "\n",
            "\n",
            "[[0. 0. 0. 0. 0. 0. 0. 0. 0. 0.]\n",
            " [0. 0. 0. 0. 0. 0. 0. 0. 0. 0.]\n",
            " [0. 0. 0. 0. 0. 0. 0. 0. 0. 0.]\n",
            " [1. 0. 0. 0. 0. 0. 0. 3. 0. 0.]\n",
            " [0. 0. 0. 0. 0. 0. 0. 0. 0. 0.]\n",
            " [0. 0. 0. 0. 0. 0. 0. 0. 2. 0.]\n",
            " [0. 0. 0. 0. 0. 0. 0. 0. 0. 0.]]\n",
            "\n",
            "\n",
            "[[0. 0. 0. 0. 0. 0. 0. 0. 0. 0.]\n",
            " [0. 0. 0. 0. 0. 0. 0. 0. 0. 0.]\n",
            " [0. 0. 0. 0. 0. 0. 0. 0. 0. 0.]\n",
            " [1. 0. 0. 0. 0. 0. 0. 3. 0. 0.]\n",
            " [0. 0. 0. 0. 0. 0. 0. 0. 0. 0.]\n",
            " [0. 0. 0. 0. 0. 0. 0. 0. 2. 0.]\n",
            " [0. 0. 0. 0. 0. 0. 0. 0. 0. 0.]]\n",
            "\n",
            "\n",
            "[[0. 0. 0. 0. 0. 0. 0. 0. 0. 0.]\n",
            " [0. 0. 0. 0. 0. 0. 0. 0. 0. 0.]\n",
            " [0. 0. 0. 0. 0. 0. 0. 0. 0. 0.]\n",
            " [1. 0. 0. 0. 0. 0. 0. 3. 0. 0.]\n",
            " [0. 0. 0. 0. 0. 0. 0. 0. 0. 0.]\n",
            " [0. 0. 0. 0. 0. 0. 0. 0. 2. 0.]\n",
            " [0. 0. 0. 0. 0. 0. 0. 0. 0. 0.]]\n",
            "\n",
            "\n",
            "[[0. 0. 0. 0. 0. 0. 0. 0. 0. 0.]\n",
            " [0. 0. 0. 0. 0. 0. 0. 0. 0. 0.]\n",
            " [0. 0. 0. 0. 0. 0. 0. 0. 0. 0.]\n",
            " [1. 0. 0. 0. 0. 0. 0. 3. 0. 0.]\n",
            " [0. 0. 0. 0. 0. 0. 0. 0. 0. 0.]\n",
            " [0. 0. 0. 0. 0. 0. 0. 0. 2. 0.]\n",
            " [0. 0. 0. 0. 0. 0. 0. 0. 0. 0.]]\n",
            "\n",
            "\n"
          ]
        }
      ]
    },
    {
      "cell_type": "code",
      "source": [
        "plt.plot (lambdas, actions)\n",
        "plt.show()"
      ],
      "metadata": {
        "colab": {
          "base_uri": "https://localhost:8080/",
          "height": 265
        },
        "id": "oAVnMJnW4aPQ",
        "outputId": "8fc721d5-d3a1-4d8d-a6d3-5c3654379879"
      },
      "execution_count": 36,
      "outputs": [
        {
          "output_type": "display_data",
          "data": {
            "text/plain": [
              "<Figure size 432x288 with 1 Axes>"
            ],
            "image/png": "[encoded data removed]"
          },
          "metadata": {}
        }
      ]
    },
    {
      "cell_type": "code",
      "source": [
        "#answer for task 2\n",
        "\n",
        "def eval_sarsa_lambda(q_table, world, ep_max,startState, goalState, epsilon):\n",
        "    ep = 1 # Episode number\n",
        "   # ep_max = 10 # number of max episodes\n",
        "    step_ep_list = []\n",
        "    step = 0\n",
        "    actions_per_episode=[]\n",
        "\n",
        "    while ep < ep_max:\n",
        "      \n",
        "      total_actions_taken = 0\n",
        "\n",
        "      # Initialize state\n",
        "      state = world.cell(startState)\n",
        "\n",
        "      act = epsGreedy(ep, q_table[state], epsilon)\n",
        "      total_actions_taken += 1\n",
        "\n",
        "      while not world.checkTerminal(state):\n",
        "\n",
        "        state_prime = world.nextState(state, act)\n",
        "        reward = world.rewardFunction(state_prime)\n",
        "        act_prime = epsGreedy(ep, q_table[state_prime], epsilon)\n",
        "       # print(act_prime)\n",
        "\n",
        "        total_actions_taken += 1\n",
        "\n",
        "        state = state_prime\n",
        "        act = act_prime\n",
        "    \n",
        "      actions_per_episode.append(total_actions_taken)\n",
        "      ep += 1\n",
        "\n",
        "    return actions_per_episode\n",
        "\n",
        "\n",
        "\n",
        "\n",
        "\n",
        "\n",
        "alphas = [0.5, 0.6, 0.7, 0.8]\n",
        "lambdas = [0.1]\n",
        "means = []\n",
        "pairs = []\n",
        "\n",
        "for l in lambdas:\n",
        "  for a in alphas:\n",
        "    q_table = gridWorld_SARSA_lambda(world, startState, goalState, alpha=a, epsilon=0.1, l=l, plot=False, return_q_table=True)\n",
        "    actions = eval_sarsa_lambda(q_table=q_table, world=world, startState=startState, goalState=goalState, ep_max=10, epsilon=0.1)\n",
        "    means.append(sum(actions)/10)\n",
        "    pairs.append(f\"a={a}, l={l}\")\n",
        "    print(f\"finished with ({a},{l})\")\n",
        "\n"
      ],
      "metadata": {
        "colab": {
          "base_uri": "https://localhost:8080/"
        },
        "id": "7PO_sT635YVt",
        "outputId": "bfd08fc5-4a72-4b4d-90c0-288f74c3a4c3"
      },
      "execution_count": 53,
      "outputs": [
        {
          "output_type": "stream",
          "name": "stdout",
          "text": [
            "[[0. 0. 0. 0. 0. 0. 0. 0. 0. 0.]\n",
            " [0. 0. 0. 0. 0. 0. 0. 0. 0. 0.]\n",
            " [0. 0. 0. 0. 0. 0. 0. 0. 0. 0.]\n",
            " [1. 0. 0. 0. 0. 0. 0. 3. 0. 0.]\n",
            " [0. 0. 0. 0. 0. 0. 0. 0. 0. 0.]\n",
            " [0. 0. 0. 0. 0. 0. 0. 0. 2. 0.]\n",
            " [0. 0. 0. 0. 0. 0. 0. 0. 0. 0.]]\n",
            "\n",
            "\n",
            "finished with (0.5,0.1)\n",
            "[[0. 0. 0. 0. 0. 0. 0. 0. 0. 0.]\n",
            " [0. 0. 0. 0. 0. 0. 0. 0. 0. 0.]\n",
            " [0. 0. 0. 0. 0. 0. 0. 0. 0. 0.]\n",
            " [1. 0. 0. 0. 0. 0. 0. 3. 0. 0.]\n",
            " [0. 0. 0. 0. 0. 0. 0. 0. 0. 0.]\n",
            " [0. 0. 0. 0. 0. 0. 0. 0. 2. 0.]\n",
            " [0. 0. 0. 0. 0. 0. 0. 0. 0. 0.]]\n",
            "\n",
            "\n",
            "finished with (0.6,0.1)\n",
            "[[0. 0. 0. 0. 0. 0. 0. 0. 0. 0.]\n",
            " [0. 0. 0. 0. 0. 0. 0. 0. 0. 0.]\n",
            " [0. 0. 0. 0. 0. 0. 0. 0. 0. 0.]\n",
            " [1. 0. 0. 0. 0. 0. 0. 3. 0. 0.]\n",
            " [0. 0. 0. 0. 0. 0. 0. 0. 0. 0.]\n",
            " [0. 0. 0. 0. 0. 0. 0. 0. 2. 0.]\n",
            " [0. 0. 0. 0. 0. 0. 0. 0. 0. 0.]]\n",
            "\n",
            "\n",
            "finished with (0.7,0.1)\n",
            "[[0. 0. 0. 0. 0. 0. 0. 0. 0. 0.]\n",
            " [0. 0. 0. 0. 0. 0. 0. 0. 0. 0.]\n",
            " [0. 0. 0. 0. 0. 0. 0. 0. 0. 0.]\n",
            " [1. 0. 0. 0. 0. 0. 0. 3. 0. 0.]\n",
            " [0. 0. 0. 0. 0. 0. 0. 0. 0. 0.]\n",
            " [0. 0. 0. 0. 0. 0. 0. 0. 2. 0.]\n",
            " [0. 0. 0. 0. 0. 0. 0. 0. 0. 0.]]\n",
            "\n",
            "\n",
            "finished with (0.8,0.1)\n"
          ]
        }
      ]
    },
    {
      "cell_type": "code",
      "source": [
        "plt.plot (pairs, means)\n",
        "plt.show()"
      ],
      "metadata": {
        "colab": {
          "base_uri": "https://localhost:8080/",
          "height": 265
        },
        "id": "-YFjnsMVHMtr",
        "outputId": "b44bb3c0-f23b-49ea-e056-0ccbffea83c4"
      },
      "execution_count": 55,
      "outputs": [
        {
          "output_type": "display_data",
          "data": {
            "text/plain": [
              "<Figure size 432x288 with 1 Axes>"
            ],
            "image/png": "[encoded data removed]"
          },
          "metadata": {}
        }
      ]
    },
    {
      "cell_type": "markdown",
      "source": [
        "# CartPole"
      ],
      "metadata": {
        "id": "lVQgSjLmVTaX"
      }
    },
    {
      "cell_type": "markdown",
      "source": [
        "[Source](https://pytorch.org/tutorials/intermediate/reinforcement_q_learning.html)"
      ],
      "metadata": {
        "id": "kV_MW7TGbSIp"
      }
    },
    {
      "cell_type": "code",
      "source": [
        "!pip install gym[classic_control]"
      ],
      "metadata": {
        "colab": {
          "base_uri": "https://localhost:8080/"
        },
        "id": "rIXD6R-WRdyG",
        "outputId": "0ee52a83-1d20-4105-8f7f-7546fd4d45fe"
      },
      "execution_count": null,
      "outputs": [
        {
          "output_type": "stream",
          "name": "stdout",
          "text": [
            "Looking in indexes: https://pypi.org/simple, https://us-python.pkg.dev/colab-wheels/public/simple/\n",
            "Requirement already satisfied: gym[classic_control] in /usr/local/lib/python3.7/dist-packages (0.25.2)\n",
            "Requirement already satisfied: numpy>=1.18.0 in /usr/local/lib/python3.7/dist-packages (from gym[classic_control]) (1.21.6)\n",
            "Requirement already satisfied: cloudpickle>=1.2.0 in /usr/local/lib/python3.7/dist-packages (from gym[classic_control]) (1.5.0)\n",
            "Requirement already satisfied: importlib-metadata>=4.8.0 in /usr/local/lib/python3.7/dist-packages (from gym[classic_control]) (4.13.0)\n",
            "Requirement already satisfied: gym-notices>=0.0.4 in /usr/local/lib/python3.7/dist-packages (from gym[classic_control]) (0.0.8)\n",
            "Collecting pygame==2.1.0\n",
            "  Downloading pygame-2.1.0-cp37-cp37m-manylinux_2_17_x86_64.manylinux2014_x86_64.whl (18.3 MB)\n",
            "\u001b[K     |████████████████████████████████| 18.3 MB 63 kB/s \n",
            "\u001b[?25hRequirement already satisfied: zipp>=0.5 in /usr/local/lib/python3.7/dist-packages (from importlib-metadata>=4.8.0->gym[classic_control]) (3.10.0)\n",
            "Requirement already satisfied: typing-extensions>=3.6.4 in /usr/local/lib/python3.7/dist-packages (from importlib-metadata>=4.8.0->gym[classic_control]) (4.1.1)\n",
            "Installing collected packages: pygame\n",
            "Successfully installed pygame-2.1.0\n"
          ]
        }
      ]
    },
    {
      "cell_type": "code",
      "source": [
        "import gym\n",
        "import math\n",
        "import random\n",
        "import numpy as np\n",
        "import matplotlib\n",
        "import matplotlib.pyplot as plt\n",
        "from collections import namedtuple, deque\n",
        "from itertools import count\n",
        "from PIL import Image\n",
        "\n",
        "import torch\n",
        "import torch.nn as nn\n",
        "import torch.optim as optim\n",
        "import torch.nn.functional as F\n",
        "import torchvision.transforms as T\n",
        "\n",
        "\n",
        "if gym.__version__ < '0.26':\n",
        "    env = gym.make('CartPole-v0', new_step_api=True, render_mode='single_rgb_array').unwrapped\n",
        "else:\n",
        "    env = gym.make('CartPole-v0', render_mode='rgb_array').unwrapped\n",
        "\n",
        "# set up matplotlib\n",
        "is_ipython = 'inline' in matplotlib.get_backend()\n",
        "if is_ipython:\n",
        "    from IPython import display\n",
        "\n",
        "plt.ion()\n",
        "\n",
        "# if gpu is to be used\n",
        "device = torch.device(\"cuda\" if torch.cuda.is_available() else \"cpu\")"
      ],
      "metadata": {
        "colab": {
          "base_uri": "https://localhost:8080/"
        },
        "id": "j7sM8qyzVSXP",
        "outputId": "9171fd20-3d15-49e3-9f1c-cc19ecb29a00"
      },
      "execution_count": null,
      "outputs": [
        {
          "output_type": "stream",
          "name": "stderr",
          "text": [
            "/usr/local/lib/python3.7/dist-packages/gym/envs/registration.py:594: UserWarning: \u001b[33mWARN: The environment CartPole-v0 is out of date. You should consider upgrading to version `v1`.\u001b[0m\n",
            "  f\"The environment {id} is out of date. You should consider \"\n"
          ]
        }
      ]
    },
    {
      "cell_type": "markdown",
      "source": [
        "Class for saving actions:"
      ],
      "metadata": {
        "id": "Nl2UTYA2V1YX"
      }
    },
    {
      "cell_type": "code",
      "source": [
        "Transition = namedtuple('Transition',\n",
        "                        ('state', 'action', 'next_state', 'reward'))\n",
        "\n",
        "\n",
        "class ReplayMemory(object):\n",
        "\n",
        "    def __init__(self, capacity):\n",
        "        self.memory = deque([],maxlen=capacity)\n",
        "\n",
        "    def push(self, *args):\n",
        "        \"\"\"Save a transition\"\"\"\n",
        "        self.memory.append(Transition(*args))\n",
        "\n",
        "    def sample(self, batch_size):\n",
        "        return random.sample(self.memory, batch_size)\n",
        "\n",
        "    def __len__(self):\n",
        "        return len(self.memory)"
      ],
      "metadata": {
        "id": "3GbGONU2ViTg"
      },
      "execution_count": null,
      "outputs": []
    },
    {
      "cell_type": "markdown",
      "source": [
        "Neural Network:"
      ],
      "metadata": {
        "id": "4TZPAoDGVyXn"
      }
    },
    {
      "cell_type": "code",
      "source": [
        "class DQN(nn.Module):\n",
        "\n",
        "    def __init__(self, h, w, outputs):\n",
        "        super(DQN, self).__init__()\n",
        "        self.conv1 = nn.Conv2d(3, 16, kernel_size=5, stride=2)\n",
        "        self.bn1 = nn.BatchNorm2d(16)\n",
        "        self.conv2 = nn.Conv2d(16, 32, kernel_size=5, stride=2)\n",
        "        self.bn2 = nn.BatchNorm2d(32)\n",
        "        self.conv3 = nn.Conv2d(32, 32, kernel_size=5, stride=2)\n",
        "        self.bn3 = nn.BatchNorm2d(32)\n",
        "\n",
        "        # Number of Linear input connections depends on output of conv2d layers\n",
        "        # and therefore the input image size, so compute it.\n",
        "        def conv2d_size_out(size, kernel_size = 5, stride = 2):\n",
        "            return (size - (kernel_size - 1) - 1) // stride  + 1\n",
        "        convw = conv2d_size_out(conv2d_size_out(conv2d_size_out(w)))\n",
        "        convh = conv2d_size_out(conv2d_size_out(conv2d_size_out(h)))\n",
        "        linear_input_size = convw * convh * 32\n",
        "        self.head = nn.Linear(linear_input_size, outputs)\n",
        "\n",
        "    # Called with either one element to determine next action, or a batch\n",
        "    # during optimization. Returns tensor([[left0exp,right0exp]...]).\n",
        "    def forward(self, x):\n",
        "        x = x.to(device)\n",
        "        x = F.relu(self.bn1(self.conv1(x)))\n",
        "        x = F.relu(self.bn2(self.conv2(x)))\n",
        "        x = F.relu(self.bn3(self.conv3(x)))\n",
        "        return self.head(x.view(x.size(0), -1))\n"
      ],
      "metadata": {
        "id": "WeXWE0rnVsb_"
      },
      "execution_count": null,
      "outputs": []
    },
    {
      "cell_type": "code",
      "source": [
        "resize = T.Compose([T.ToPILImage(),\n",
        "                    T.Resize(40, interpolation=Image.CUBIC),\n",
        "                    T.ToTensor()])\n",
        "\n",
        "\n",
        "def get_cart_location(screen_width):\n",
        "    world_width = env.x_threshold * 2\n",
        "    scale = screen_width / world_width\n",
        "    return int(env.state[0] * scale + screen_width / 2.0)  # MIDDLE OF CART\n",
        "\n",
        "def get_screen():\n",
        "    # Returned screen requested by gym is 400x600x3, but is sometimes larger\n",
        "    # such as 800x1200x3. Transpose it into torch order (CHW).\n",
        "    screen = env.render().transpose((2, 0, 1))\n",
        "    # Cart is in the lower half, so strip off the top and bottom of the screen\n",
        "    _, screen_height, screen_width = screen.shape\n",
        "    screen = screen[:, int(screen_height*0.4):int(screen_height * 0.8)]\n",
        "    view_width = int(screen_width * 0.6)\n",
        "    cart_location = get_cart_location(screen_width)\n",
        "    if cart_location < view_width // 2:\n",
        "        slice_range = slice(view_width)\n",
        "    elif cart_location > (screen_width - view_width // 2):\n",
        "        slice_range = slice(-view_width, None)\n",
        "    else:\n",
        "        slice_range = slice(cart_location - view_width // 2,\n",
        "                            cart_location + view_width // 2)\n",
        "    # Strip off the edges, so that we have a square image centered on a cart\n",
        "    screen = screen[:, :, slice_range]\n",
        "    # Convert to float, rescale, convert to torch tensor\n",
        "    # (this doesn't require a copy)\n",
        "    screen = np.ascontiguousarray(screen, dtype=np.float32) / 255\n",
        "    screen = torch.from_numpy(screen)\n",
        "    # Resize, and add a batch dimension (BCHW)\n",
        "    return resize(screen).unsqueeze(0)\n",
        "\n",
        "\n",
        "env.reset()\n",
        "plt.figure()\n",
        "plt.imshow(get_screen().cpu().squeeze(0).permute(1, 2, 0).numpy(),\n",
        "           interpolation='none')\n",
        "plt.title('Example extracted screen')\n",
        "plt.show()"
      ],
      "metadata": {
        "colab": {
          "base_uri": "https://localhost:8080/",
          "height": 270
        },
        "id": "1PqCP-HjVxuq",
        "outputId": "1c2c1286-32f3-4adf-da16-21cabcfe4f9c"
      },
      "execution_count": null,
      "outputs": [
        {
          "output_type": "stream",
          "name": "stderr",
          "text": [
            "/usr/local/lib/python3.7/dist-packages/torchvision/transforms/transforms.py:333: UserWarning: Argument 'interpolation' of type int is deprecated since 0.13 and will be removed in 0.15. Please use InterpolationMode enum.\n",
            "  \"Argument 'interpolation' of type int is deprecated since 0.13 and will be removed in 0.15. \"\n"
          ]
        },
        {
          "output_type": "display_data",
          "data": {
            "text/plain": [
              "<Figure size 432x288 with 1 Axes>"
            ],
            "image/png": "[encoded data removed]"
          },
          "metadata": {
            "needs_background": "light"
          }
        }
      ]
    },
    {
      "cell_type": "code",
      "source": [
        "BATCH_SIZE = 128\n",
        "GAMMA = 0.999\n",
        "EPS_START = 0.9\n",
        "EPS_END = 0.05\n",
        "EPS_DECAY = 200\n",
        "TARGET_UPDATE = 10\n",
        "\n",
        "# Get screen size so that we can initialize layers correctly based on shape\n",
        "# returned from AI gym. Typical dimensions at this point are close to 3x40x90\n",
        "# which is the result of a clamped and down-scaled render buffer in get_screen()\n",
        "init_screen = get_screen()\n",
        "_, _, screen_height, screen_width = init_screen.shape\n",
        "\n",
        "# Get number of actions from gym action space\n",
        "n_actions = env.action_space.n\n",
        "\n",
        "policy_net = DQN(screen_height, screen_width, n_actions).to(device)\n",
        "target_net = DQN(screen_height, screen_width, n_actions).to(device)\n",
        "target_net.load_state_dict(policy_net.state_dict())\n",
        "target_net.eval()\n",
        "\n",
        "optimizer = optim.RMSprop(policy_net.parameters())\n",
        "memory = ReplayMemory(10000)\n",
        "\n",
        "steps_done = 0\n",
        "\n",
        "\n",
        "def select_action(state):\n",
        "    global steps_done\n",
        "    sample = random.random()\n",
        "    eps_threshold = EPS_END + (EPS_START - EPS_END) * \\\n",
        "        math.exp(-1. * steps_done / EPS_DECAY)\n",
        "    steps_done += 1\n",
        "    if sample > eps_threshold:\n",
        "        with torch.no_grad():\n",
        "            # t.max(1) will return largest column value of each row.\n",
        "            # second column on max result is index of where max element was\n",
        "            # found, so we pick action with the larger expected reward.\n",
        "            return policy_net(state).max(1)[1].view(1, 1)\n",
        "    else:\n",
        "        return torch.tensor([[random.randrange(n_actions)]], device=device, dtype=torch.long)\n",
        "\n",
        "\n",
        "episode_durations = []\n",
        "\n",
        "\n",
        "def plot_durations():\n",
        "    plt.figure(2)\n",
        "    plt.clf()\n",
        "    durations_t = torch.tensor(episode_durations, dtype=torch.float)\n",
        "    plt.title('Training...')\n",
        "    plt.xlabel('Episode')\n",
        "    plt.ylabel('Duration')\n",
        "    plt.plot(durations_t.numpy())\n",
        "    # Take 100 episode averages and plot them too\n",
        "    if len(durations_t) >= 100:\n",
        "        means = durations_t.unfold(0, 100, 1).mean(1).view(-1)\n",
        "        means = torch.cat((torch.zeros(99), means))\n",
        "        plt.plot(means.numpy())"
      ],
      "metadata": {
        "id": "uJE53fSvV-F2"
      },
      "execution_count": null,
      "outputs": []
    },
    {
      "cell_type": "code",
      "source": [
        "def optimize_model():\n",
        "    if len(memory) < BATCH_SIZE:\n",
        "        return\n",
        "    transitions = memory.sample(BATCH_SIZE)\n",
        "    # Transpose the batch (see https://stackoverflow.com/a/19343/3343043 for\n",
        "    # detailed explanation). This converts batch-array of Transitions\n",
        "    # to Transition of batch-arrays.\n",
        "    batch = Transition(*zip(*transitions))\n",
        "\n",
        "    # Compute a mask of non-final states and concatenate the batch elements\n",
        "    # (a final state would've been the one after which simulation ended)\n",
        "    non_final_mask = torch.tensor(tuple(map(lambda s: s is not None,\n",
        "                                          batch.next_state)), device=device, dtype=torch.bool)\n",
        "    non_final_next_states = torch.cat([s for s in batch.next_state\n",
        "                                                if s is not None])\n",
        "    state_batch = torch.cat(batch.state)\n",
        "    action_batch = torch.cat(batch.action)\n",
        "    reward_batch = torch.cat(batch.reward)\n",
        "\n",
        "    # Compute Q(s_t, a) - the model computes Q(s_t), then we select the\n",
        "    # columns of actions taken. These are the actions which would've been taken\n",
        "    # for each batch state according to policy_net\n",
        "    state_action_values = policy_net(state_batch).gather(1, action_batch)\n",
        "\n",
        "    # Compute V(s_{t+1}) for all next states.\n",
        "    # Expected values of actions for non_final_next_states are computed based\n",
        "    # on the \"older\" target_net; selecting their best reward with max(1)[0].\n",
        "    # This is merged based on the mask, such that we'll have either the expected\n",
        "    # state value or 0 in case the state was final.\n",
        "    next_state_values = torch.zeros(BATCH_SIZE, device=device)\n",
        "    next_state_values[non_final_mask] = target_net(non_final_next_states).max(1)[0].detach()\n",
        "    # Compute the expected Q values\n",
        "    expected_state_action_values = (next_state_values * GAMMA) + reward_batch\n",
        "\n",
        "    # Compute Huber loss\n",
        "    criterion = nn.SmoothL1Loss()\n",
        "    loss = criterion(state_action_values, expected_state_action_values.unsqueeze(1))\n",
        "\n",
        "    # Optimize the model\n",
        "    optimizer.zero_grad()\n",
        "    loss.backward()\n",
        "    for param in policy_net.parameters():\n",
        "        param.grad.data.clamp_(-1, 1)\n",
        "    optimizer.step()"
      ],
      "metadata": {
        "id": "KJ801jUBWsAX"
      },
      "execution_count": null,
      "outputs": []
    },
    {
      "cell_type": "code",
      "source": [
        "from tqdm.auto import tqdm\n",
        "\n",
        "num_episodes = 500\n",
        "for i_episode in tqdm(range(num_episodes)):\n",
        "    # Initialize the environment and state\n",
        "    env.reset()\n",
        "    last_screen = get_screen()\n",
        "    current_screen = get_screen()\n",
        "    state = current_screen - last_screen\n",
        "    for t in count():\n",
        "        # Select and perform an action\n",
        "        action = select_action(state)\n",
        "        _, reward, done, _, _ = env.step(action.item())\n",
        "        reward = torch.tensor([reward], device=device)\n",
        "\n",
        "        # Observe new state\n",
        "        last_screen = current_screen\n",
        "        current_screen = get_screen()\n",
        "        if not done:\n",
        "            next_state = current_screen - last_screen\n",
        "        else:\n",
        "            next_state = None\n",
        "\n",
        "        # Store the transition in memory\n",
        "        memory.push(state, action, next_state, reward)\n",
        "\n",
        "        # Move to the next state\n",
        "        state = next_state\n",
        "\n",
        "        # Perform one step of the optimization (on the policy network)\n",
        "        optimize_model()\n",
        "        if done:\n",
        "            episode_durations.append(t + 1)\n",
        "            plot_durations()\n",
        "            break\n",
        "\n",
        "        # Update the target network, copying all weights and biases in DQN\n",
        "        if t % TARGET_UPDATE == 0:\n",
        "            target_net.load_state_dict(policy_net.state_dict())\n",
        "\n",
        "print('Complete')\n",
        "env.render()\n",
        "env.close()\n",
        "plt.ioff()\n",
        "plt.show()"
      ],
      "metadata": {
        "colab": {
          "base_uri": "https://localhost:8080/",
          "height": 345,
          "referenced_widgets": [
            "0f1ef1b87d1149d69dac640763f47c8a",
            "2f7d5a7f599b497eb342474f61a9a9f2",
            "88f4b4449c9c49399a331addbd0ca7de",
            "3de34baa4cb443fa8cfd747426562656",
            "987947f053b04132a95c70a3f1df0ee6",
            "4fcf6d59ac4945ae9d269783ee4cc5a2",
            "8255528874554d23b915966d4cc433fd",
            "a2e13b7539e0454da609135324c55be3",
            "dbea9f687bf74783819c9382013d7b82",
            "1ae6ce5958254645acf42a3b752bda4d",
            "10ff52ab06324c0881c0bc72ec2eaf6b"
          ]
        },
        "id": "LJbM73h6WOd6",
        "outputId": "cf899f30-06dd-483b-ee4b-e3efc7d8578c"
      },
      "execution_count": null,
      "outputs": [
        {
          "output_type": "display_data",
          "data": {
            "text/plain": [
              "  0%|          | 0/500 [00:00<?, ?it/s]"
            ],
            "application/vnd.jupyter.widget-view+json": {
              "version_major": 2,
              "version_minor": 0,
              "model_id": "0f1ef1b87d1149d69dac640763f47c8a"
            }
          },
          "metadata": {}
        },
        {
          "output_type": "stream",
          "name": "stdout",
          "text": [
            "Complete\n"
          ]
        },
        {
          "output_type": "display_data",
          "data": {
            "text/plain": [
              "<Figure size 432x288 with 1 Axes>"
            ],
            "image/png": "[encoded data removed]"
          },
          "metadata": {
            "needs_background": "light"
          }
        }
      ]
    },
    {
      "cell_type": "code",
      "source": [],
      "metadata": {
        "id": "rW4bD8wkWnjM"
      },
      "execution_count": null,
      "outputs": []
    }
  ]
}